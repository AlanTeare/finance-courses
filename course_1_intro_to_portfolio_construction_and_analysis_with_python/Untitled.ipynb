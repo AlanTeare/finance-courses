{
 "cells": [
  {
   "cell_type": "code",
   "execution_count": 34,
   "metadata": {},
   "outputs": [],
   "source": [
    "import pandas as pd\n",
    "import numpy as np\n",
    "import matplotlib.pyplot as plt\n",
    "import seaborn as sns\n",
    "from datetime import datetime\n",
    "from pandas_datareader import data\n",
    "\n"
   ]
  },
  {
   "cell_type": "code",
   "execution_count": 35,
   "metadata": {},
   "outputs": [],
   "source": [
    "# using seaborn style (type plt.style.available to see available styles)\n",
    "plt.style.use(\"seaborn-dark\")"
   ]
  },
  {
   "cell_type": "code",
   "execution_count": null,
   "metadata": {},
   "outputs": [],
   "source": []
  },
  {
   "cell_type": "code",
   "execution_count": null,
   "metadata": {},
   "outputs": [],
   "source": []
  },
  {
   "cell_type": "code",
   "execution_count": 36,
   "metadata": {},
   "outputs": [],
   "source": [
    "# to get timeseries from the web \n",
    "def get_assets(tickers, startdate=datetime(2000,1,1), enddate=datetime(2019,11,15), datatype=\"Adj Close\"):\n",
    "    print(\"+++ Loading assets tickers from the web +++\")\n",
    "    assets = pd.DataFrame()\n",
    "    for i,asset_name in enumerate(tickers):\n",
    "        print(\"\\r    loading {} ({}/{})\".format(asset_name,i+1,len(tickers)), end=\"\")\n",
    "        assets[asset_name] = data.DataReader(asset_name, data_source=\"yahoo\", start=startdate, end=enddate)[datatype]    \n",
    "    print(\"\\nLoad succesful\")\n",
    "    return assets"
   ]
  },
  {
   "cell_type": "code",
   "execution_count": 83,
   "metadata": {},
   "outputs": [
    {
     "name": "stdout",
     "output_type": "stream",
     "text": [
      "+++ Loading assets tickers from the web +++\n",
      "    loading BBVA (1/1)\n",
      "Load succesful\n"
     ]
    }
   ],
   "source": [
    "# example\n",
    "startdate = datetime(2005,1,3) \n",
    "enddate   = datetime(2020,3,10)\n",
    "tickers   = [\"BBVA\"] \n",
    "assets    = get_assets(tickers, startdate=startdate, enddate=enddate)"
   ]
  },
  {
   "cell_type": "code",
   "execution_count": 84,
   "metadata": {},
   "outputs": [
    {
     "data": {
      "text/plain": [
       "<matplotlib.axes._subplots.AxesSubplot at 0x1a1bd9da20>"
      ]
     },
     "execution_count": 84,
     "metadata": {},
     "output_type": "execute_result"
    },
    {
     "data": {
      "image/png": "[encoded data removed]",
      "text/plain": [
       "<Figure size 432x288 with 1 Axes>"
      ]
     },
     "metadata": {},
     "output_type": "display_data"
    }
   ],
   "source": [
    "assets.plot()"
   ]
  },
  {
   "cell_type": "code",
   "execution_count": null,
   "metadata": {},
   "outputs": [],
   "source": []
  },
  {
   "cell_type": "code",
   "execution_count": null,
   "metadata": {},
   "outputs": [],
   "source": []
  },
  {
   "cell_type": "code",
   "execution_count": null,
   "metadata": {},
   "outputs": [],
   "source": []
  },
  {
   "cell_type": "code",
   "execution_count": null,
   "metadata": {},
   "outputs": [],
   "source": []
  },
  {
   "cell_type": "code",
   "execution_count": 85,
   "metadata": {},
   "outputs": [],
   "source": [
    "name = \"dividendos_REP.csv\"\n",
    "file = \"/Users/mariacristinasampaolo/Documents/python/git-tracked/finance-courses/data/\" + name\n",
    "div = pd.read_csv(file, sep=\";\", header=None, parse_dates=[0]+[i for i in range(4,61+1,3)])\n",
    "div = div.set_index(0,drop=True)\n",
    "div = div.dropna(axis=1, how='all')\n",
    "div = div.drop(columns=[1])\n",
    "div = div.drop(columns=[i for i in range(6,63+1,3)])\n",
    "# rename columns appropriately \n",
    "cols = [ [\"date div {}\".format(i),\"div {}\".format(i)] for i in range(1,int((div.shape[1]-2)/2)+1) ]\n",
    "cols = [ item for sublist in cols for item in sublist]\n",
    "cols = [\"underlying\",\"no. divs\"] + cols\n",
    "div.columns = cols\n",
    "div.index.name = \"session\"\n",
    "\n",
    "# sort dataframe by date session \n",
    "div = div.sort_index(axis=0)\n",
    "# make sure sort by index date is doing right\n",
    "for i in range(len(div.index)-1):\n",
    "    if div.index[i] > div.index[i+1]:\n",
    "        raise ValueError(\"Dates not sorted correctly\")\n",
    "    \n",
    "# convert dividends from str to num\n",
    "for i in range(1,20+1):\n",
    "    div[\"div {}\".format(i)] = pd.to_numeric( div[\"div {}\".format(i)].str.replace(\",\",\".\") )"
   ]
  },
  {
   "cell_type": "code",
   "execution_count": 86,
   "metadata": {},
   "outputs": [
    {
     "data": {
      "text/html": [
       "<div>\n",
       "<style scoped>\n",
       "    .dataframe tbody tr th:only-of-type {\n",
       "        vertical-align: middle;\n",
       "    }\n",
       "\n",
       "    .dataframe tbody tr th {\n",
       "        vertical-align: top;\n",
       "    }\n",
       "\n",
       "    .dataframe thead th {\n",
       "        text-align: right;\n",
       "    }\n",
       "</style>\n",
       "<table border=\"1\" class=\"dataframe\">\n",
       "  <thead>\n",
       "    <tr style=\"text-align: right;\">\n",
       "      <th></th>\n",
       "      <th>underlying</th>\n",
       "      <th>no. divs</th>\n",
       "      <th>date div 1</th>\n",
       "      <th>div 1</th>\n",
       "      <th>date div 2</th>\n",
       "      <th>div 2</th>\n",
       "      <th>date div 3</th>\n",
       "      <th>div 3</th>\n",
       "      <th>date div 4</th>\n",
       "      <th>div 4</th>\n",
       "      <th>...</th>\n",
       "      <th>date div 16</th>\n",
       "      <th>div 16</th>\n",
       "      <th>date div 17</th>\n",
       "      <th>div 17</th>\n",
       "      <th>date div 18</th>\n",
       "      <th>div 18</th>\n",
       "      <th>date div 19</th>\n",
       "      <th>div 19</th>\n",
       "      <th>date div 20</th>\n",
       "      <th>div 20</th>\n",
       "    </tr>\n",
       "    <tr>\n",
       "      <th>session</th>\n",
       "      <th></th>\n",
       "      <th></th>\n",
       "      <th></th>\n",
       "      <th></th>\n",
       "      <th></th>\n",
       "      <th></th>\n",
       "      <th></th>\n",
       "      <th></th>\n",
       "      <th></th>\n",
       "      <th></th>\n",
       "      <th></th>\n",
       "      <th></th>\n",
       "      <th></th>\n",
       "      <th></th>\n",
       "      <th></th>\n",
       "      <th></th>\n",
       "      <th></th>\n",
       "      <th></th>\n",
       "      <th></th>\n",
       "      <th></th>\n",
       "      <th></th>\n",
       "    </tr>\n",
       "  </thead>\n",
       "  <tbody>\n",
       "    <tr>\n",
       "      <th>2020-03-04</th>\n",
       "      <td>REP</td>\n",
       "      <td>20</td>\n",
       "      <td>2020-06-15</td>\n",
       "      <td>0.526</td>\n",
       "      <td>2020-12-21</td>\n",
       "      <td>0.44500</td>\n",
       "      <td>2021-06-14</td>\n",
       "      <td>0.55500</td>\n",
       "      <td>2021-12-13</td>\n",
       "      <td>0.44500</td>\n",
       "      <td>...</td>\n",
       "      <td>2027-12-13</td>\n",
       "      <td>0.44500</td>\n",
       "      <td>2028-06-13</td>\n",
       "      <td>0.55500</td>\n",
       "      <td>2028-12-13</td>\n",
       "      <td>0.44500</td>\n",
       "      <td>2029-06-13</td>\n",
       "      <td>0.55500</td>\n",
       "      <td>2029-12-13</td>\n",
       "      <td>0.44500</td>\n",
       "    </tr>\n",
       "    <tr>\n",
       "      <th>2020-03-05</th>\n",
       "      <td>REP</td>\n",
       "      <td>20</td>\n",
       "      <td>2020-06-15</td>\n",
       "      <td>0.526</td>\n",
       "      <td>2020-12-21</td>\n",
       "      <td>0.44500</td>\n",
       "      <td>2021-06-14</td>\n",
       "      <td>0.55500</td>\n",
       "      <td>2021-12-13</td>\n",
       "      <td>0.44500</td>\n",
       "      <td>...</td>\n",
       "      <td>2027-12-13</td>\n",
       "      <td>0.44500</td>\n",
       "      <td>2028-06-13</td>\n",
       "      <td>0.55500</td>\n",
       "      <td>2028-12-13</td>\n",
       "      <td>0.44500</td>\n",
       "      <td>2029-06-13</td>\n",
       "      <td>0.55500</td>\n",
       "      <td>2029-12-13</td>\n",
       "      <td>0.44500</td>\n",
       "    </tr>\n",
       "    <tr>\n",
       "      <th>2020-03-06</th>\n",
       "      <td>REP</td>\n",
       "      <td>20</td>\n",
       "      <td>2020-06-15</td>\n",
       "      <td>0.490</td>\n",
       "      <td>2020-12-18</td>\n",
       "      <td>0.41385</td>\n",
       "      <td>2021-06-14</td>\n",
       "      <td>0.51615</td>\n",
       "      <td>2021-12-13</td>\n",
       "      <td>0.41385</td>\n",
       "      <td>...</td>\n",
       "      <td>2027-12-13</td>\n",
       "      <td>0.41385</td>\n",
       "      <td>2028-06-13</td>\n",
       "      <td>0.51615</td>\n",
       "      <td>2028-12-13</td>\n",
       "      <td>0.41385</td>\n",
       "      <td>2029-06-13</td>\n",
       "      <td>0.51615</td>\n",
       "      <td>2029-12-13</td>\n",
       "      <td>0.41385</td>\n",
       "    </tr>\n",
       "    <tr>\n",
       "      <th>2020-03-09</th>\n",
       "      <td>REP</td>\n",
       "      <td>20</td>\n",
       "      <td>2020-06-15</td>\n",
       "      <td>0.490</td>\n",
       "      <td>2020-12-18</td>\n",
       "      <td>0.39316</td>\n",
       "      <td>2021-06-14</td>\n",
       "      <td>0.49034</td>\n",
       "      <td>2021-12-13</td>\n",
       "      <td>0.39316</td>\n",
       "      <td>...</td>\n",
       "      <td>2027-12-13</td>\n",
       "      <td>0.39316</td>\n",
       "      <td>2028-06-13</td>\n",
       "      <td>0.49034</td>\n",
       "      <td>2028-12-13</td>\n",
       "      <td>0.39316</td>\n",
       "      <td>2029-06-13</td>\n",
       "      <td>0.49034</td>\n",
       "      <td>2029-12-13</td>\n",
       "      <td>0.39316</td>\n",
       "    </tr>\n",
       "    <tr>\n",
       "      <th>2020-03-10</th>\n",
       "      <td>REP</td>\n",
       "      <td>20</td>\n",
       "      <td>2020-06-15</td>\n",
       "      <td>0.490</td>\n",
       "      <td>2020-12-18</td>\n",
       "      <td>0.37350</td>\n",
       "      <td>2021-06-14</td>\n",
       "      <td>0.46583</td>\n",
       "      <td>2021-12-13</td>\n",
       "      <td>0.37350</td>\n",
       "      <td>...</td>\n",
       "      <td>2027-12-13</td>\n",
       "      <td>0.37350</td>\n",
       "      <td>2028-06-13</td>\n",
       "      <td>0.46583</td>\n",
       "      <td>2028-12-13</td>\n",
       "      <td>0.37350</td>\n",
       "      <td>2029-06-13</td>\n",
       "      <td>0.46583</td>\n",
       "      <td>2029-12-13</td>\n",
       "      <td>0.37350</td>\n",
       "    </tr>\n",
       "  </tbody>\n",
       "</table>\n",
       "<p>5 rows × 42 columns</p>\n",
       "</div>"
      ],
      "text/plain": [
       "           underlying  no. divs date div 1  div 1 date div 2    div 2  \\\n",
       "session                                                                 \n",
       "2020-03-04        REP        20 2020-06-15  0.526 2020-12-21  0.44500   \n",
       "2020-03-05        REP        20 2020-06-15  0.526 2020-12-21  0.44500   \n",
       "2020-03-06        REP        20 2020-06-15  0.490 2020-12-18  0.41385   \n",
       "2020-03-09        REP        20 2020-06-15  0.490 2020-12-18  0.39316   \n",
       "2020-03-10        REP        20 2020-06-15  0.490 2020-12-18  0.37350   \n",
       "\n",
       "           date div 3    div 3 date div 4    div 4  ... date div 16   div 16  \\\n",
       "session                                             ...                        \n",
       "2020-03-04 2021-06-14  0.55500 2021-12-13  0.44500  ...  2027-12-13  0.44500   \n",
       "2020-03-05 2021-06-14  0.55500 2021-12-13  0.44500  ...  2027-12-13  0.44500   \n",
       "2020-03-06 2021-06-14  0.51615 2021-12-13  0.41385  ...  2027-12-13  0.41385   \n",
       "2020-03-09 2021-06-14  0.49034 2021-12-13  0.39316  ...  2027-12-13  0.39316   \n",
       "2020-03-10 2021-06-14  0.46583 2021-12-13  0.37350  ...  2027-12-13  0.37350   \n",
       "\n",
       "           date div 17   div 17 date div 18   div 18 date div 19   div 19  \\\n",
       "session                                                                     \n",
       "2020-03-04  2028-06-13  0.55500  2028-12-13  0.44500  2029-06-13  0.55500   \n",
       "2020-03-05  2028-06-13  0.55500  2028-12-13  0.44500  2029-06-13  0.55500   \n",
       "2020-03-06  2028-06-13  0.51615  2028-12-13  0.41385  2029-06-13  0.51615   \n",
       "2020-03-09  2028-06-13  0.49034  2028-12-13  0.39316  2029-06-13  0.49034   \n",
       "2020-03-10  2028-06-13  0.46583  2028-12-13  0.37350  2029-06-13  0.46583   \n",
       "\n",
       "           date div 20   div 20  \n",
       "session                          \n",
       "2020-03-04  2029-12-13  0.44500  \n",
       "2020-03-05  2029-12-13  0.44500  \n",
       "2020-03-06  2029-12-13  0.41385  \n",
       "2020-03-09  2029-12-13  0.39316  \n",
       "2020-03-10  2029-12-13  0.37350  \n",
       "\n",
       "[5 rows x 42 columns]"
      ]
     },
     "execution_count": 86,
     "metadata": {},
     "output_type": "execute_result"
    }
   ],
   "source": [
    "div.tail()"
   ]
  },
  {
   "cell_type": "code",
   "execution_count": null,
   "metadata": {},
   "outputs": [],
   "source": []
  },
  {
   "cell_type": "code",
   "execution_count": null,
   "metadata": {},
   "outputs": [],
   "source": []
  },
  {
   "cell_type": "code",
   "execution_count": null,
   "metadata": {},
   "outputs": [],
   "source": []
  },
  {
   "cell_type": "code",
   "execution_count": null,
   "metadata": {},
   "outputs": [],
   "source": []
  },
  {
   "cell_type": "code",
   "execution_count": null,
   "metadata": {},
   "outputs": [],
   "source": []
  },
  {
   "cell_type": "code",
   "execution_count": 89,
   "metadata": {},
   "outputs": [],
   "source": [
    "name = \"closep_REP.csv\"\n",
    "file = \"/Users/mariacristinasampaolo/Documents/python/git-tracked/finance-courses/data/\" + name\n",
    "cprice_REP = pd.read_csv(file, sep=\";\", header=None, index_col=0)\n",
    "# convert prices from sting to numeric\n",
    "cprice_REP[\"close\"] = pd.to_numeric( cprice_REP[2].str.replace(\",\",\".\") )\n",
    "cprice_REP = cprice_REP.drop(columns=[1,2])\n",
    "# set index\n",
    "cprice_REP.index = pd.to_datetime(cprice_REP.index, dayfirst=True)\n",
    "cprice_REP.index.name = \"session\"\n",
    "# put the right price for this date (original value is 1425.5)\n",
    "cprice_REP[\"close\"][\"2020-01-13\"] = 14.245"
   ]
  },
  {
   "cell_type": "code",
   "execution_count": 90,
   "metadata": {},
   "outputs": [
    {
     "data": {
      "text/html": [
       "<div>\n",
       "<style scoped>\n",
       "    .dataframe tbody tr th:only-of-type {\n",
       "        vertical-align: middle;\n",
       "    }\n",
       "\n",
       "    .dataframe tbody tr th {\n",
       "        vertical-align: top;\n",
       "    }\n",
       "\n",
       "    .dataframe thead th {\n",
       "        text-align: right;\n",
       "    }\n",
       "</style>\n",
       "<table border=\"1\" class=\"dataframe\">\n",
       "  <thead>\n",
       "    <tr style=\"text-align: right;\">\n",
       "      <th></th>\n",
       "      <th>close</th>\n",
       "    </tr>\n",
       "    <tr>\n",
       "      <th>session</th>\n",
       "      <th></th>\n",
       "    </tr>\n",
       "  </thead>\n",
       "  <tbody>\n",
       "    <tr>\n",
       "      <th>2005-01-03</th>\n",
       "      <td>19.20</td>\n",
       "    </tr>\n",
       "    <tr>\n",
       "      <th>2005-01-04</th>\n",
       "      <td>19.16</td>\n",
       "    </tr>\n",
       "    <tr>\n",
       "      <th>2005-01-05</th>\n",
       "      <td>18.85</td>\n",
       "    </tr>\n",
       "    <tr>\n",
       "      <th>2005-01-07</th>\n",
       "      <td>18.88</td>\n",
       "    </tr>\n",
       "    <tr>\n",
       "      <th>2005-01-10</th>\n",
       "      <td>18.90</td>\n",
       "    </tr>\n",
       "  </tbody>\n",
       "</table>\n",
       "</div>"
      ],
      "text/plain": [
       "            close\n",
       "session          \n",
       "2005-01-03  19.20\n",
       "2005-01-04  19.16\n",
       "2005-01-05  18.85\n",
       "2005-01-07  18.88\n",
       "2005-01-10  18.90"
      ]
     },
     "execution_count": 90,
     "metadata": {},
     "output_type": "execute_result"
    }
   ],
   "source": [
    "cprice_REP.head()"
   ]
  },
  {
   "cell_type": "code",
   "execution_count": 91,
   "metadata": {},
   "outputs": [
    {
     "data": {
      "text/plain": [
       "<matplotlib.axes._subplots.AxesSubplot at 0x1a1d8fc3c8>"
      ]
     },
     "execution_count": 91,
     "metadata": {},
     "output_type": "execute_result"
    },
    {
     "data": {
      "image/png": "[encoded data removed]",
      "text/plain": [
       "<Figure size 432x288 with 1 Axes>"
      ]
     },
     "metadata": {},
     "output_type": "display_data"
    }
   ],
   "source": [
    "cprice_REP.plot()"
   ]
  },
  {
   "cell_type": "code",
   "execution_count": null,
   "metadata": {},
   "outputs": [],
   "source": []
  }
 ],
 "metadata": {
  "kernelspec": {
   "display_name": "Python 3",
   "language": "python",
   "name": "python3"
  },
  "language_info": {
   "codemirror_mode": {
    "name": "ipython",
    "version": 3
   },
   "file_extension": ".py",
   "mimetype": "text/x-python",
   "name": "python",
   "nbconvert_exporter": "python",
   "pygments_lexer": "ipython3",
   "version": "3.7.1"
  }
 },
 "nbformat": 4,
 "nbformat_minor": 2
}
