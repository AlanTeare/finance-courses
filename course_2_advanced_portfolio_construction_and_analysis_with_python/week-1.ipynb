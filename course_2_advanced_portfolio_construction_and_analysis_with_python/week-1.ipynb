{
 "cells": [
  {
   "cell_type": "markdown",
   "metadata": {},
   "source": [
    "# Week 1"
   ]
  },
  {
   "cell_type": "code",
   "execution_count": 2,
   "metadata": {},
   "outputs": [],
   "source": [
    "import pandas as pd\n",
    "import numpy as np\n",
    "import matplotlib.pyplot as plt"
   ]
  },
  {
   "cell_type": "code",
   "execution_count": 3,
   "metadata": {},
   "outputs": [],
   "source": [
    "%load_ext autoreload\n",
    "%autoreload 2\n",
    "%matplotlib inline"
   ]
  },
  {
   "cell_type": "code",
   "execution_count": 4,
   "metadata": {},
   "outputs": [],
   "source": [
    "import sys\n",
    "sys.path.append(\"../\")\n",
    "import edhec_risk_kit as erk"
   ]
  },
  {
   "cell_type": "code",
   "execution_count": 5,
   "metadata": {},
   "outputs": [],
   "source": [
    "# using seaborn style (type plt.style.available to see available styles)\n",
    "plt.style.use(\"seaborn-dark\")"
   ]
  },
  {
   "cell_type": "markdown",
   "metadata": {},
   "source": [
    "## Factor investing\n",
    "\n",
    "A **factor** is a variable that influences the **returns of assets**. It represents a **commonality** \n",
    "in the returns, i.e., something outside the individual asset, and normally, \n",
    "**an exposure to some factor risk** over the long run **yields a reward** (the risk premium).\n",
    "\n",
    "There are three types of factors:\n",
    "1. **Macro factors**: industrial growth, inflation,$\\dots$\n",
    "2. **Statistical factors**: something  extracted from the data, which may be or may not be well identified\n",
    "3. **Style (Intrinsic) factors**: value-growth, momentum, low-volatility$\\dots$\n",
    "\n",
    "For example, some investors consider **Oil prices** to be an important factor in determining equity returns (they are likely to affect stock returns). This would be an example of **macro factor** \n",
    "as it is neither a statistical artifact nor is it intrinsic to the stock itself.\n",
    "\n",
    "### Factor models\n",
    "\n",
    "A **factor model** simply decompose asset returns $r$ into a set of **factor premia**:\n",
    "$$\n",
    "r = \\beta_1 f_1 + \\beta_2 f_2 + \\dots + \\beta_n f_n + \\alpha + \\varepsilon,\n",
    "$$\n",
    "where $\\{\\beta_i\\}_{i=1,\\dots,n}$ are some real coefficients and \n",
    "$\\{f_i\\}_{i=1,\\dots,n}$ are the **factor premia which are** nothing but that **the returns that we get in exchange for exposing ourselves to the factor**. \n",
    "\n",
    "In other words, a factor model is **a decomposition of an asset return into a set of returns from other assets**."
   ]
  },
  {
   "cell_type": "markdown",
   "metadata": {},
   "source": [
    "#### The Capital Asset Pricing Model (CAPM)\n",
    "\n",
    "The **CAPM** is in some sense an example of factor model. In particular, it is used to determine a theoretically appropriate return of an asset to make decisions about adding this asset \n",
    "to a well-diversified portfolio.\n",
    "\n",
    "The model takes into account the asset's sensitivity to non-diversifiable risk (also known as systematic risk or market risk), often represented by the quantity beta (β) in the financial industry, as well as the expected return of the market and the expected return of a theoretical risk-free asset. \n",
    "\n",
    "The model can be used for pricing an individual security. The model defines a \n",
    "**Security Market Line (SML)** which enables us to compute the reward-to-risk ratio for a security in relation to that of the **overall market**:\n",
    "$$\n",
    "\\text{SML}: \\;\\mathbf{E}[r_i] = \\beta_i(\\mathbf{E}[r_m] - r_f) + r_f, \n",
    "$$\n",
    "which means that the **excess return** of the asset $i$ is given by the **excess return of the market** \n",
    "(here, **$r_m$ is the return of the market** and $r_f$ is the risk-free rate) \n",
    "times a coefficient $\\beta_i$ defined as:\n",
    "$$\n",
    "\\mathbf{E}[r_i] - r_f = \\beta_i(\\mathbf{E}[r_m] - r_f), \n",
    "\\qquad  \n",
    "\\beta_i := \\frac{\\text{Cov}(r_i,r_m)}{\\text{Var}(r_m)}, \n",
    "$$\n",
    "which is the **sensitivity of the asset with respect to the market**.\n",
    "\n",
    "Note that if $\\beta_i$ is large, it means that the asset $i$ is higly correlated with the market, i.e., if the market goes up and so goes up the asset (and, of course, if the market goes down, then the asset goes down). On the other hand, if $\\beta_i$ is very small, it means that the stock is almost uncorrelated with respect to the market, hence changes in the market do not affect the returns of the asset.\n",
    "\n",
    "In addition, note that **the expected market return** is usually estimated by measuring **the arithmetic average of the historical returns of market components**.\n",
    "\n",
    "By definition of factor model, **the CAPM is a one-factor model** since the excess return of the security depends **only** ont the excess return of the market. Also look at the **capital market line (CML)** we have described in the week 1 of the first course."
   ]
  },
  {
   "cell_type": "markdown",
   "metadata": {},
   "source": [
    "#### Price-to-book (P/B) ratio (or Market-to-book ratio)\n",
    "\n",
    "In accounting, the **book value is the value of an asset according to its balance sheet account balance**. \n",
    "For assets, the value is based on **the original cost of the asset less any depreciation, amortization or impairment costs** \n",
    "made against the asset. Traditionally, a company's book value is its total assets minus intangible assets and liabilities.\n",
    "\n",
    "The **price-to-book (P/B) ratio**, is used to compare a company's current market price to its book value. \n",
    "The calculation can be performed in two ways. One, in which the company's market capitalization is \n",
    "divided by the company's total book value from its balance sheet. A second way is to divide the company's current share price \n",
    "by the book value per share (i.e. its book value divided by the number of outstanding shares).\n",
    "\n",
    "Such ratio is also called **market-to-book ratio**.\n",
    "\n",
    "#### Value stocks and Growth stocks\n",
    "\n",
    "Note that the inverse of the P/B ratio, is therefore called the **book-to-price (B/P)** (or **book-to-market**) **ratio**. \n",
    "\n",
    "Assets (e.g., stocks) with high **book-to-market** ratios are called **Value stocks**. If this ratio is high, it then means that the book value is much larger than the current market price, and this indicates that this asset is somehow cheap with respect to its true value (it is **undervalued** by the market).\n",
    "\n",
    "On the other hand, assets with low **book-to-market** ratios are called **Growth stocks**. In this case, it then means that the book value is much samller than the current market price which indicates that the asset is somehow **overvalued** by the market. The reason why they may be overvalued is because they are associated with high-quality, successful companies whose earnings are expected to continue \n",
    "growing at an above-average rate relative to the market and then growth stock investors may be willing to pay more to own shares. \n",
    "Analysts tend to classify a stock as Growht Stock if its **ROE** (**Return on equity**: company's net income divide by average common equity) is larger than or equal to $15\\%$."
   ]
  },
  {
   "cell_type": "markdown",
   "metadata": {},
   "source": [
    "#### Fama-French Model\n",
    "\n",
    "The **Fama-French model** is a **three-factor** model which enhance the CAPM (one-factor model). The three factors are:\n",
    "- the market risk (i.e., as in the CAPM),\n",
    "- the outperformance of **small versus big** companies,\n",
    "- the outperformance of **high book/market versus small book/market** companies.\n",
    "\n",
    "What Fama and French did was to take the entire universe of stocks an put them into ten buckets (**deciles**). They sorted such deciles in two ways. \n",
    "\n",
    "A first sorting was done according to the **size**, i.e., the **market capitalization**, \n",
    "and then they compared the performance of the bottom $10\\%$ companies versus the top $10\\%$ companies according to the size.\n",
    "\n",
    "The second sorting was done according to the **book-to-market ratios** (B/P ratio), and then they did the same, i.e., they looked at \n",
    "the performance of the bottom $10\\%$ companies (Growth Stocks) versus the top $10\\%$ companies (Value Stocks). \n",
    "\n",
    "Fama and French observed that the classes of stocks that have tended to do better than the market as a whole have been \n",
    "(i) the **small caps** (bottom decile w.r.t sizes) and (ii) the **Value Stocks** (top decile w.r.t. B/P ratios). \n",
    "\n",
    "Hence, they introduced the **size factor** and the **value factor** in addition to the **market factor** \n",
    "of simple CAPM and enhance the model ($1993$): \n",
    "$$\n",
    "\\mathbf{E}(r_i) = \n",
    "\\beta_{i,\\text{MKT}}\\mathbf{E}[r_m - r_f] + \\beta_{i,\\text{SMB}}\\mathbf{E}[\\text{SMB}] + \\beta_{i,\\text{HMS}}\\mathbf{E}[\\text{HMS}] + r_f, \n",
    "$$\n",
    "where:\n",
    "- $\\beta_{i,\\text{MKT}}$ is the same $\\beta$ of the CAPM (we stress the dependence on the **market**), \n",
    "- $\\text{SMB}$ means **Small (size) Minus Big (size)** stocks, \n",
    "- $\\text{HML}$ means **High (B/P ratio) Minus Low (B/P ratio)** stocks.\n",
    "\n",
    "There could be in principle more factors to add. \n",
    "For example, the **Carhart four-factor model** enhance the Fama-French model by adding the **Momentum factor**. The **Momentum** \n",
    "in a stock is the tendency for the stock price to continue rising if it is going up and to continue declining if it is going down. It can be computed by subtracting the equal weighted average of the lowest performing firms from the equal weighted average of the highest \n",
    "performing firms, lagged one month."
   ]
  },
  {
   "cell_type": "code",
   "execution_count": null,
   "metadata": {},
   "outputs": [],
   "source": []
  },
  {
   "cell_type": "code",
   "execution_count": null,
   "metadata": {},
   "outputs": [],
   "source": []
  },
  {
   "cell_type": "code",
   "execution_count": null,
   "metadata": {},
   "outputs": [],
   "source": []
  }
 ],
 "metadata": {
  "kernelspec": {
   "display_name": "Python 3",
   "language": "python",
   "name": "python3"
  },
  "language_info": {
   "codemirror_mode": {
    "name": "ipython",
    "version": 3
   },
   "file_extension": ".py",
   "mimetype": "text/x-python",
   "name": "python",
   "nbconvert_exporter": "python",
   "pygments_lexer": "ipython3",
   "version": "3.7.1"
  }
 },
 "nbformat": 4,
 "nbformat_minor": 2
}
