{
 "cells": [
  {
   "cell_type": "markdown",
   "metadata": {},
   "source": [
    "# Week 2"
   ]
  },
  {
   "cell_type": "code",
   "execution_count": 1,
   "metadata": {},
   "outputs": [],
   "source": [
    "import pandas as pd\n",
    "import numpy as np\n",
    "import matplotlib.pyplot as plt\n",
    "import scipy.stats \n",
    "from pandas_datareader import data \n",
    "from datetime import datetime"
   ]
  },
  {
   "cell_type": "code",
   "execution_count": 2,
   "metadata": {},
   "outputs": [],
   "source": [
    "%load_ext autoreload\n",
    "%autoreload 2\n",
    "%matplotlib inline"
   ]
  },
  {
   "cell_type": "code",
   "execution_count": 3,
   "metadata": {},
   "outputs": [],
   "source": [
    "import edhec_risk_kit as erk"
   ]
  },
  {
   "cell_type": "code",
   "execution_count": 4,
   "metadata": {},
   "outputs": [],
   "source": [
    "# using seaborn style (type plt.style.available to see available styles)\n",
    "plt.style.use(\"seaborn-dark\")"
   ]
  },
  {
   "cell_type": "markdown",
   "metadata": {},
   "source": [
    "## Modern portfolio theory (MPT)\n",
    "\n",
    "The **Modern portfolio theory (MPT)** is a mathematical framework **for assembling a portfolio of assets such that the expected return is maximized for a given level of volatility**. It is a formalization of **diversification in investing**, i.e., the idea that owning different kinds of financial assets is less risky than owning only one type. \n",
    "\n",
    "### Efficient Frontiers \n",
    "\n",
    "In the MPT, The **efficient frontier** is an a curve which occupies the *efficient* part of the **volatility-return** plane. \n",
    "Formally, it is the set of portfolios which satisfy the condition that no other portfolio exists with a higher expected \n",
    "return but with the same standard deviation of return. \n",
    "\n",
    "The efficient frontier was first formulated by **Harry Markowitz** (1952).\n",
    "\n",
    "### How it works\n",
    "We have to construct a portfolio of several assets and **we want to find the optimal percentage of investments to be allocated in these assets** so that the overall (expected) return of such a portfolio is maximixed for a given level of volatility. \n",
    "\n",
    "Hence, suppose that **we have $k > 1$ assets**, and we decide to invest all of our capital in these assets. \n",
    "\n",
    "Let $\\mathbf{w}:=(w_1,\\dots,w_K)^T$, with $w_i\\in (0,1)$ for all $i=1,\\dots,K$, \n",
    "be the percentages of investment our portfolio, i.e, $w_i$ is the proportion of investiment in asset $i$. \n",
    "There holds $\\sum_{i=1}^K w_i = 1$. \n",
    "\n",
    "Let $R_i$ and $R_p$ be the return of asset $i$ and the total return of the portfolio, respectively. \n",
    "Likewise, let $\\sigma_i$ and $\\sigma_p$ be the volatility of asset $i$ and the volatility of the portfolio, respectively. \n",
    "\n",
    "\n",
    "#### Return of a portfolio\n",
    "The **total return of the porfolio** is going to be a simple weigthed sum of the (total) returns of single assets, i.e.,\n",
    "$$\n",
    "R_p = \\sum_{i=1}^K w_i R_i = \\mathbf{w}^T \\mathbf{R},\n",
    "$$\n",
    "where $\\mathbf{R} := (R_1,\\dots,R_K)^T$.\n",
    "\n",
    "\n",
    "#### Volatility of a portfolio\n",
    "The **volatility of the porfolio** is computed as the (square root of the) variance of the weigthed sum of the returns of single assets. \n",
    "\n",
    "Let us make and axample with only two assets. We have $w_1$ and $w_2$ and two assets whose returns are $R_1$ and $R_2$. We have:\n",
    "$$\n",
    "\\sigma_p^2 =   \\text{Var}(w_1 R_1 + w_2 R_2) = \n",
    "w_1^2 \\text{Var}(R_1) + w_2^2\\text{Var}(R_2) + 2w_1 w_2\\text{cov}(R_1,R_2) =\n",
    "w_1^2 \\sigma_1^2 + w_2^2\\sigma_2^2 + 2w_1 w_2\\text{cov}(R_1,R_2), \n",
    "$$\n",
    "where \n",
    "$$\n",
    "\\text{cov}(R_1,R_2) := \\mathbb{E}[(R_i-\\mu_i)(R_j - \\mu_j)], \n",
    "$$\n",
    "is the **covariance** between asset $i$ and $j$ and where $\\mu_i$ and $\\mu_j$ denote \n",
    "the mean returns of assets $i$ and $j$, respectively. In particular, if we let \n",
    "$$\n",
    "\\rho_{ij} := \\frac{\\text{cov}(R_i,R_j)}{\\sigma_i \\sigma_j} = \\frac{\\text{cov}(i,j)}{\\sigma_i \\sigma_j}, \n",
    "$$\n",
    "denote the **correlation coefficient** between assets $i$ and asset $j$, then the volatilityt of a $2$ assets portfolio becomes:\n",
    "$$\n",
    "\\sigma_p = \n",
    "\\sqrt{ w_i^2 \\sigma_1^2 + w_2^2 \\sigma_2^2 + 2w_1 w_2 \\sigma_1 \\sigma_2 \\rho_{ij} }. \n",
    "$$\n",
    "\n",
    "\n",
    "Now, in case of $K$ assets, we can express the volatility as follows. \n",
    "Let $\\Sigma$ be the **covariance matrix**, that is, a symmetric square $K\\times K$ matrix, $\\Sigma = [\\sigma_{ij}]$, \n",
    "where each element $\\sigma_{ij} := \\sigma_i \\sigma_j \\rho_{ij}$ ($i,j=1,\\dots,K$) denote the **covariance** between assets $i$ and asset $j$, \n",
    "where $\\sigma_i$, $\\sigma_j$, and $\\rho_{ij}$ denote the volatility and the correlation coefficient of assets $i$ and $j$, respectively. \n",
    "If $i=j$, $\\sigma_{ii}=\\sigma_i^2$ is simply the variance of asset $i$ (**diagonal entries are simply the variances**).\n",
    "\n",
    "The resulting volatility is then given by:\n",
    "$$\n",
    "\\sigma_p = \\sqrt{ \\mathbf{w}^T \\Sigma \\mathbf{w} }\n",
    "$$\n"
   ]
  },
  {
   "cell_type": "markdown",
   "metadata": {},
   "source": [
    "#### Efficient frontiers of two assets with different correlation\n",
    "In the following we do a very artificial example in order to see the curve that is drawn by different portfolios which \n",
    "are constructed with only $2$ assets with different correalation $\\rho_{12}$. \n",
    "First of all, we assume to generate $500$ daily returns of $2$ assets:"
   ]
  },
  {
   "cell_type": "code",
   "execution_count": 11,
   "metadata": {},
   "outputs": [],
   "source": [
    "nret             = 500\n",
    "periods_per_year = 252\n",
    "risk_free_rate   = 0.0"
   ]
  },
  {
   "cell_type": "markdown",
   "metadata": {},
   "source": [
    "Then, we set up a value for the means and the volatility of our two artifical assets:"
   ]
  },
  {
   "cell_type": "code",
   "execution_count": 12,
   "metadata": {},
   "outputs": [],
   "source": [
    "mean_1 = 0.001019\n",
    "mean_2 = 0.001249\n",
    "vol_1  = 0.016317\n",
    "vol_2  = 0.019129"
   ]
  },
  {
   "cell_type": "markdown",
   "metadata": {},
   "source": [
    "and we set up the $6$ correlations of the two assets, and for every fixed correlation, \n",
    "we will generate $20$ portfolios by allocating $20$ pairs of weights:"
   ]
  },
  {
   "cell_type": "code",
   "execution_count": 13,
   "metadata": {},
   "outputs": [],
   "source": [
    "# Correlation goes from 1 (completely correlated) to -1 (conversely correlated)\n",
    "rhos  = np.linspace(1,-1,num=6) \n",
    "ncorr = len(rhos)\n",
    "\n",
    "# Pairs of weights to be used to construct the portfolios for any given correlation\n",
    "nweig = 20\n",
    "w1 = np.linspace(0,1,num=nweig)\n",
    "w2 = 1 - np.linspace(0,1,num=nweig)\n",
    "ww = pd.DataFrame( [w1, w2] ).T  "
   ]
  },
  {
   "cell_type": "code",
   "execution_count": 21,
   "metadata": {},
   "outputs": [
    {
     "data": {
      "image/png": "[encoded data removed]",
      "text/plain": [
       "<Figure size 1440x288 with 7 Axes>"
      ]
     },
     "metadata": {},
     "output_type": "display_data"
    }
   ],
   "source": [
    "# Set seed\n",
    "np.random.seed(1)\n",
    "\n",
    "# Open the figure\n",
    "fig, ax = plt.subplots(1,6, figsize=(20,4))    \n",
    "ax = ax.flatten()\n",
    "\n",
    "for k_rho, rho in enumerate(rhos):\n",
    "    # Allocate an empty portfolio \n",
    "    portfolio = pd.DataFrame(columns=[\"return\",\"volatility\",\"sharpe ratio\"])\n",
    "\n",
    "    # Generate the assets' returns with the given correlation rho\n",
    "    cov_ij     = rho * vol_1 * vol_2\n",
    "    cov_rets   = pd.DataFrame( [[vol_1**2, cov_ij], [cov_ij, vol_2**2]] )\n",
    "    daily_rets = pd.DataFrame( np.random.multivariate_normal((mean_1,mean_2), cov_rets.values, nret) )\n",
    "    \n",
    "    for i in range(ww.shape[0]):\n",
    "        # Now, construct the portfolio of two asset with correlation rho and weights ww.loc[i]\n",
    "        weights = ww.loc[i]\n",
    "\n",
    "        # portfolio returns, volatility, and sharpe ratio\n",
    "        ann_rets      = erk.annualize_rets(daily_rets, periods_per_year)\n",
    "        portfolio_ret = np.dot(weights, ann_rets)\n",
    "        portfolio_vol = np.sqrt( np.dot(weights.T, np.dot(cov_rets, weights)) ) * np.sqrt(periods_per_year)    \n",
    "        portfolio_spr = erk.sharpe_ratio_2(portfolio_ret, risk_free_rate, periods_per_year, v=portfolio_vol)\n",
    "        \n",
    "        # dataframe containing the return, volatility, and the sharpe ratio of the portfolio constructed   \n",
    "        portfolio = portfolio.append( {\"return\":portfolio_ret, \"volatility\": portfolio_vol, \"sharpe ratio\":portfolio_spr}, ignore_index=True)\n",
    "\n",
    "    # plot create scatter plot coloured by Sharpe Ratio\n",
    "    im = ax[k_rho].scatter(portfolio[\"volatility\"]*100, portfolio[\"return\"]*100, c=w2, cmap='RdYlBu') \n",
    "    ax[k_rho].grid()\n",
    "    ax[k_rho].set_title(\"Correlation: {}\".format(np.round(rho,2)), y=0.9, loc='left')\n",
    "    ax[k_rho].set_xlabel(\"volatility (%)\")\n",
    "    if k_rho==0: ax[k_rho].set_ylabel(\"return (%)\") \n",
    "    ax[k_rho].set_xlim([0,32])\n",
    "    ax[k_rho].set_ylim([0,95])\n",
    "    \n",
    "fig.colorbar(im, ax=ax.ravel().tolist())\n",
    "plt.show()"
   ]
  },
  {
   "cell_type": "markdown",
   "metadata": {},
   "source": [
    "For any given correlation, each point represents the pair (return, volatility) of a portfolio constructed with some percentage allocation. \n",
    "This can be seen in the colorbar: **red corresponds to $\\mathbf{w} = (1,0)$**, i.e., allocation of money only to the first asset, whereas \n",
    "**blue corresponds to $\\mathbf{w} = (0,1)$**, i.e., allocation of money only ot the second asset.  \n",
    "\n",
    "We can see that **the lower the correlation between the assets, the better the trade-off between return and volatility**: in this example, \n",
    "when $\\rho=-1$, we could in principle construct a portfolio which guarantee about $30\\%$ of return with almost no volatility."
   ]
  },
  {
   "cell_type": "markdown",
   "metadata": {},
   "source": [
    "#### Example from the real world: US stocks\n",
    "Now we will get the timeseries of some US economy stocks and see how to construct a portfolio in an efficient way."
   ]
  },
  {
   "cell_type": "code",
   "execution_count": 60,
   "metadata": {},
   "outputs": [],
   "source": [
    "tickers  = ['AMZN','KO','TSLA','MSFT']\n",
    "n_assets = len(tickers) \n",
    "\n",
    "stocks = pd.DataFrame()\n",
    "for stock_name in tickers:\n",
    "    # daily data\n",
    "    stocks[stock_name] = data.DataReader(stock_name, data_source=\"yahoo\", start=datetime(2010,1,1))[\"Adj Close\"]    "
   ]
  },
  {
   "cell_type": "code",
   "execution_count": 61,
   "metadata": {},
   "outputs": [
    {
     "data": {
      "text/html": [
       "<div>\n",
       "<style scoped>\n",
       "    .dataframe tbody tr th:only-of-type {\n",
       "        vertical-align: middle;\n",
       "    }\n",
       "\n",
       "    .dataframe tbody tr th {\n",
       "        vertical-align: top;\n",
       "    }\n",
       "\n",
       "    .dataframe thead th {\n",
       "        text-align: right;\n",
       "    }\n",
       "</style>\n",
       "<table border=\"1\" class=\"dataframe\">\n",
       "  <thead>\n",
       "    <tr style=\"text-align: right;\">\n",
       "      <th></th>\n",
       "      <th>AMZN</th>\n",
       "      <th>KO</th>\n",
       "      <th>TSLA</th>\n",
       "      <th>MSFT</th>\n",
       "    </tr>\n",
       "    <tr>\n",
       "      <th>Date</th>\n",
       "      <th></th>\n",
       "      <th></th>\n",
       "      <th></th>\n",
       "      <th></th>\n",
       "    </tr>\n",
       "  </thead>\n",
       "  <tbody>\n",
       "    <tr>\n",
       "      <th>2019-10-09</th>\n",
       "      <td>1721.989990</td>\n",
       "      <td>53.830002</td>\n",
       "      <td>244.529999</td>\n",
       "      <td>138.240005</td>\n",
       "    </tr>\n",
       "    <tr>\n",
       "      <th>2019-10-10</th>\n",
       "      <td>1720.260010</td>\n",
       "      <td>53.660000</td>\n",
       "      <td>244.740005</td>\n",
       "      <td>139.100006</td>\n",
       "    </tr>\n",
       "    <tr>\n",
       "      <th>2019-10-11</th>\n",
       "      <td>1731.920044</td>\n",
       "      <td>53.299999</td>\n",
       "      <td>247.889999</td>\n",
       "      <td>139.679993</td>\n",
       "    </tr>\n",
       "    <tr>\n",
       "      <th>2019-10-14</th>\n",
       "      <td>1736.430054</td>\n",
       "      <td>53.299999</td>\n",
       "      <td>256.959991</td>\n",
       "      <td>139.550003</td>\n",
       "    </tr>\n",
       "    <tr>\n",
       "      <th>2019-10-15</th>\n",
       "      <td>1767.380005</td>\n",
       "      <td>53.509998</td>\n",
       "      <td>257.890015</td>\n",
       "      <td>141.570007</td>\n",
       "    </tr>\n",
       "  </tbody>\n",
       "</table>\n",
       "</div>"
      ],
      "text/plain": [
       "                   AMZN         KO        TSLA        MSFT\n",
       "Date                                                      \n",
       "2019-10-09  1721.989990  53.830002  244.529999  138.240005\n",
       "2019-10-10  1720.260010  53.660000  244.740005  139.100006\n",
       "2019-10-11  1731.920044  53.299999  247.889999  139.679993\n",
       "2019-10-14  1736.430054  53.299999  256.959991  139.550003\n",
       "2019-10-15  1767.380005  53.509998  257.890015  141.570007"
      ]
     },
     "execution_count": 61,
     "metadata": {},
     "output_type": "execute_result"
    }
   ],
   "source": [
    "stocks.tail()"
   ]
  },
  {
   "cell_type": "code",
   "execution_count": 62,
   "metadata": {},
   "outputs": [
    {
     "data": {
      "text/html": [
       "<div>\n",
       "<style scoped>\n",
       "    .dataframe tbody tr th:only-of-type {\n",
       "        vertical-align: middle;\n",
       "    }\n",
       "\n",
       "    .dataframe tbody tr th {\n",
       "        vertical-align: top;\n",
       "    }\n",
       "\n",
       "    .dataframe thead th {\n",
       "        text-align: right;\n",
       "    }\n",
       "</style>\n",
       "<table border=\"1\" class=\"dataframe\">\n",
       "  <thead>\n",
       "    <tr style=\"text-align: right;\">\n",
       "      <th></th>\n",
       "      <th>AMZN</th>\n",
       "      <th>KO</th>\n",
       "      <th>TSLA</th>\n",
       "      <th>MSFT</th>\n",
       "    </tr>\n",
       "    <tr>\n",
       "      <th>Date</th>\n",
       "      <th></th>\n",
       "      <th></th>\n",
       "      <th></th>\n",
       "      <th></th>\n",
       "    </tr>\n",
       "  </thead>\n",
       "  <tbody>\n",
       "    <tr>\n",
       "      <th>2019-10-09</th>\n",
       "      <td>0.009663</td>\n",
       "      <td>0.004666</td>\n",
       "      <td>0.018663</td>\n",
       "      <td>0.018943</td>\n",
       "    </tr>\n",
       "    <tr>\n",
       "      <th>2019-10-10</th>\n",
       "      <td>-0.001005</td>\n",
       "      <td>-0.003158</td>\n",
       "      <td>0.000859</td>\n",
       "      <td>0.006221</td>\n",
       "    </tr>\n",
       "    <tr>\n",
       "      <th>2019-10-11</th>\n",
       "      <td>0.006778</td>\n",
       "      <td>-0.006709</td>\n",
       "      <td>0.012871</td>\n",
       "      <td>0.004170</td>\n",
       "    </tr>\n",
       "    <tr>\n",
       "      <th>2019-10-14</th>\n",
       "      <td>0.002604</td>\n",
       "      <td>0.000000</td>\n",
       "      <td>0.036589</td>\n",
       "      <td>-0.000931</td>\n",
       "    </tr>\n",
       "    <tr>\n",
       "      <th>2019-10-15</th>\n",
       "      <td>0.017824</td>\n",
       "      <td>0.003940</td>\n",
       "      <td>0.003619</td>\n",
       "      <td>0.014475</td>\n",
       "    </tr>\n",
       "  </tbody>\n",
       "</table>\n",
       "</div>"
      ],
      "text/plain": [
       "                AMZN        KO      TSLA      MSFT\n",
       "Date                                              \n",
       "2019-10-09  0.009663  0.004666  0.018663  0.018943\n",
       "2019-10-10 -0.001005 -0.003158  0.000859  0.006221\n",
       "2019-10-11  0.006778 -0.006709  0.012871  0.004170\n",
       "2019-10-14  0.002604  0.000000  0.036589 -0.000931\n",
       "2019-10-15  0.017824  0.003940  0.003619  0.014475"
      ]
     },
     "execution_count": 62,
     "metadata": {},
     "output_type": "execute_result"
    }
   ],
   "source": [
    "# compute the daily returns \n",
    "daily_rets = erk.compute_returns(stocks)\n",
    "daily_rets.tail()"
   ]
  },
  {
   "cell_type": "code",
   "execution_count": 63,
   "metadata": {},
   "outputs": [
    {
     "data": {
      "text/html": [
       "<div>\n",
       "<style scoped>\n",
       "    .dataframe tbody tr th:only-of-type {\n",
       "        vertical-align: middle;\n",
       "    }\n",
       "\n",
       "    .dataframe tbody tr th {\n",
       "        vertical-align: top;\n",
       "    }\n",
       "\n",
       "    .dataframe thead th {\n",
       "        text-align: right;\n",
       "    }\n",
       "</style>\n",
       "<table border=\"1\" class=\"dataframe\">\n",
       "  <thead>\n",
       "    <tr style=\"text-align: right;\">\n",
       "      <th></th>\n",
       "      <th>AMZN</th>\n",
       "      <th>KO</th>\n",
       "      <th>TSLA</th>\n",
       "      <th>MSFT</th>\n",
       "    </tr>\n",
       "  </thead>\n",
       "  <tbody>\n",
       "    <tr>\n",
       "      <th>AMZN</th>\n",
       "      <td>0.000387</td>\n",
       "      <td>0.000047</td>\n",
       "      <td>0.000182</td>\n",
       "      <td>0.000139</td>\n",
       "    </tr>\n",
       "    <tr>\n",
       "      <th>KO</th>\n",
       "      <td>0.000047</td>\n",
       "      <td>0.000087</td>\n",
       "      <td>0.000052</td>\n",
       "      <td>0.000050</td>\n",
       "    </tr>\n",
       "    <tr>\n",
       "      <th>TSLA</th>\n",
       "      <td>0.000182</td>\n",
       "      <td>0.000052</td>\n",
       "      <td>0.001050</td>\n",
       "      <td>0.000119</td>\n",
       "    </tr>\n",
       "    <tr>\n",
       "      <th>MSFT</th>\n",
       "      <td>0.000139</td>\n",
       "      <td>0.000050</td>\n",
       "      <td>0.000119</td>\n",
       "      <td>0.000208</td>\n",
       "    </tr>\n",
       "  </tbody>\n",
       "</table>\n",
       "</div>"
      ],
      "text/plain": [
       "          AMZN        KO      TSLA      MSFT\n",
       "AMZN  0.000387  0.000047  0.000182  0.000139\n",
       "KO    0.000047  0.000087  0.000052  0.000050\n",
       "TSLA  0.000182  0.000052  0.001050  0.000119\n",
       "MSFT  0.000139  0.000050  0.000119  0.000208"
      ]
     },
     "execution_count": 63,
     "metadata": {},
     "output_type": "execute_result"
    }
   ],
   "source": [
    "# compute the mean daily returns and the covariance of daily returns of the two assets\n",
    "mean_rets = daily_rets.mean()\n",
    "std_rets  = daily_rets.std()\n",
    "cov_rets  = daily_rets.cov()\n",
    "cov_rets"
   ]
  },
  {
   "cell_type": "markdown",
   "metadata": {},
   "source": [
    "Now we simulate $4000$ portfolios with weights allocated to the stocks above:"
   ]
  },
  {
   "cell_type": "code",
   "execution_count": 108,
   "metadata": {},
   "outputs": [],
   "source": [
    "periods_per_year = 252\n",
    "num_portfolios   = 4000\n",
    "portfolios       = pd.DataFrame(columns=[\"return\",\"volatility\",\"sharpe ratio\",\"w1\",\"w2\",\"w3\",\"w4\"])\n",
    "risk_free_rate   = 0\n",
    "\n",
    "for i in range(num_portfolios):\n",
    "    # select random weights\n",
    "    weights = np.random.random(n_assets)\n",
    "    # and rescale them to sum to 1\n",
    "    weights /= np.sum(weights)\n",
    "    \n",
    "    # portfolio returns: \n",
    "    ann_rets      = erk.annualize_rets(daily_rets, periods_per_year)\n",
    "    portfolio_ret = np.dot(weights, ann_rets)\n",
    "    # or directly compute this way\n",
    "    #portfolio_ret = np.sum( mean_rets * weights ) * periods_per_year\n",
    "    \n",
    "    # portfolio volatility    \n",
    "    portfolio_std = np.sqrt( np.dot(weights.T, np.dot(cov_rets, weights)) ) * np.sqrt(periods_per_year)\n",
    "    \n",
    "    # portfolio sharpe ratio\n",
    "    portfolio_spr = erk.sharpe_ratio_2(portfolio_ret, risk_free_rate, periods_per_year, v=portfolio_std,)\n",
    "    \n",
    "    # create dataframe   \n",
    "    portfolios = portfolios.append( {\"return\":portfolio_ret, \n",
    "                                     \"volatility\":portfolio_std, \n",
    "                                     \"sharpe ratio\":portfolio_spr, \n",
    "                                     \"w1\": weights[0], \"w2\": weights[1], \"w3\": weights[2], \"w4\": weights[3]}, \n",
    "                                     ignore_index=True)"
   ]
  },
  {
   "cell_type": "code",
   "execution_count": 109,
   "metadata": {},
   "outputs": [
    {
     "data": {
      "image/png": "[encoded data removed]",
      "text/plain": [
       "<Figure size 864x360 with 2 Axes>"
      ]
     },
     "metadata": {},
     "output_type": "display_data"
    }
   ],
   "source": [
    "# create scatter plot coloured by sharpe ratio \n",
    "fig = plt.figure(figsize=(12,5))\n",
    "plt.scatter(portfolios[\"volatility\"]*100, portfolios[\"return\"]*100, c=portfolios[\"sharpe ratio\"], s=20, edgecolor=None, cmap='RdYlBu')\n",
    "plt.xlabel(\"volatility (%)\")\n",
    "plt.ylabel(\"return (%)\")\n",
    "plt.colorbar()\n",
    "plt.grid()"
   ]
  },
  {
   "cell_type": "markdown",
   "metadata": {},
   "source": [
    "We can see, for example, that if the investor is targeting **a return of $20\\%$**, this can be achieved by holding \n",
    "a portfolio **with volatility of about $18\\%$**, although there are many other portfolios that \n",
    "can guarantee the same return but with much higher volatilities such as $27\\%$. \n",
    "It is clear that one should carefully choose the weights of the portfolio. \n",
    "\n",
    "We can see, in particular, that there are two *special* portfolios:\n",
    "\n",
    "1. the **portfolio with the lowest volatility**, i.e., the minimum variance portfolio\n",
    "2. the **portfolio with the highest sharpe ratio**.\n",
    "\n",
    "From the code above we can easily locate these two portfolios in our dataframe by looking at the lowest volatility and highest sharpe ratio \n",
    "and and recover the corresponding weights that have been stored."
   ]
  },
  {
   "cell_type": "code",
   "execution_count": null,
   "metadata": {},
   "outputs": [
    {
     "name": "stdout",
     "output_type": "stream",
     "text": [
      "Portfolio with lowest volatility:\n",
      "return          0.128734\n",
      "volatility      0.142310\n",
      "sharpe ratio    0.904603\n",
      "w1              0.068944\n",
      "w2              0.803732\n",
      "w3              0.033265\n",
      "w4              0.094059\n",
      "Name: 35, dtype: float64\n",
      "Portfolio with maximum sharpe ratio:\n",
      "return          0.202411\n",
      "volatility      0.179459\n",
      "sharpe ratio    1.127896\n",
      "w1              0.338577\n",
      "w2              0.358087\n",
      "w3              0.059261\n",
      "w4              0.244075\n",
      "Name: 507, dtype: float64\n"
     ]
    }
   ],
   "source": [
    "# find the portfolio with lowest volatility \n",
    "low_vol_portfolio = portfolios.iloc[ portfolios['volatility'].idxmin() ]\n",
    "\n",
    "# find the portfolio with highest sharpe ratio\n",
    "high_sharpe_portfolio = portfolios.iloc[ portfolios['sharpe ratio'].idxmax() ]\n",
    "\n",
    "# create scatter plot coloured by sharpe ratio \n",
    "fig = plt.figure(figsize=(12,5))\n",
    "plt.scatter(portfolios[\"volatility\"]*100, portfolios[\"return\"]*100, c=portfolios[\"sharpe ratio\"], s=20, edgecolor=None, cmap='RdYlBu', label=None)\n",
    "plt.colorbar()\n",
    "\n",
    "plt.scatter(low_vol_portfolio[1]*100,     low_vol_portfolio[0]*100,     color='g', s=100, label=\"min. volatility port.\")\n",
    "plt.scatter(high_sharpe_portfolio[1]*100, high_sharpe_portfolio[0]*100, color='r', s=100, label=\"highest sharpe port.\")\n",
    "plt.xlabel(\"volatility (%)\")\n",
    "plt.ylabel(\"return (%)\")\n",
    "plt.grid()\n",
    "\n",
    "plt.legend()\n",
    "\n",
    "print(\"Portfolio with lowest volatility:\")\n",
    "print(low_vol_portfolio)\n",
    "\n",
    "print(\"Portfolio with maximum sharpe ratio:\")\n",
    "print(high_sharpe_portfolio)"
   ]
  },
  {
   "cell_type": "code",
   "execution_count": 125,
   "metadata": {},
   "outputs": [
    {
     "data": {
      "text/plain": [
       "0.1287342389502189"
      ]
     },
     "execution_count": 125,
     "metadata": {},
     "output_type": "execute_result"
    }
   ],
   "source": [
    "low_vol_portfolio[0]"
   ]
  },
  {
   "cell_type": "code",
   "execution_count": null,
   "metadata": {},
   "outputs": [],
   "source": []
  }
 ],
 "metadata": {
  "kernelspec": {
   "display_name": "Python 3",
   "language": "python",
   "name": "python3"
  },
  "language_info": {
   "codemirror_mode": {
    "name": "ipython",
    "version": 3
   },
   "file_extension": ".py",
   "mimetype": "text/x-python",
   "name": "python",
   "nbconvert_exporter": "python",
   "pygments_lexer": "ipython3",
   "version": "3.7.1"
  }
 },
 "nbformat": 4,
 "nbformat_minor": 2
}
