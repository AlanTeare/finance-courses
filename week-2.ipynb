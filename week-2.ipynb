{
 "cells": [
  {
   "cell_type": "markdown",
   "metadata": {},
   "source": [
    "# Week 2"
   ]
  },
  {
   "cell_type": "code",
   "execution_count": 277,
   "metadata": {},
   "outputs": [],
   "source": [
    "import pandas as pd\n",
    "import numpy as np\n",
    "import matplotlib.pyplot as plt\n",
    "import scipy.stats \n",
    "from pandas_datareader import data \n",
    "from datetime import datetime\n",
    "from scipy.optimize import minimize"
   ]
  },
  {
   "cell_type": "code",
   "execution_count": 463,
   "metadata": {},
   "outputs": [
    {
     "name": "stdout",
     "output_type": "stream",
     "text": [
      "The autoreload extension is already loaded. To reload it, use:\n",
      "  %reload_ext autoreload\n"
     ]
    }
   ],
   "source": [
    "%load_ext autoreload\n",
    "%autoreload 2\n",
    "%matplotlib inline"
   ]
  },
  {
   "cell_type": "code",
   "execution_count": 464,
   "metadata": {},
   "outputs": [],
   "source": [
    "import edhec_risk_kit as erk"
   ]
  },
  {
   "cell_type": "code",
   "execution_count": 465,
   "metadata": {},
   "outputs": [],
   "source": [
    "# using seaborn style (type plt.style.available to see available styles)\n",
    "plt.style.use(\"seaborn-dark\")"
   ]
  },
  {
   "cell_type": "markdown",
   "metadata": {},
   "source": [
    "## Modern portfolio theory (MPT)\n",
    "\n",
    "The **Modern portfolio theory (MPT)** is a mathematical framework **for assembling a portfolio of assets such that the expected return is maximized for a given level of volatility**. It is a formalization of **diversification in investing**, i.e., the idea that owning different kinds of financial assets is less risky than owning only one type. \n",
    "\n",
    "### Efficient Frontiers \n",
    "\n",
    "In the MPT, The **efficient frontier** is an a curve which occupies the *efficient* part of the **volatility-return** plane. \n",
    "Formally, it is the set of portfolios which satisfy the condition that no other portfolio exists with a higher expected \n",
    "return but with the same standard deviation of return. \n",
    "\n",
    "The efficient frontier was first formulated by **Harry Markowitz** (1952).\n",
    "\n",
    "### How it works\n",
    "We have to construct a portfolio of several assets and **we want to find the optimal percentage of investments to be allocated in these assets** so that the overall (expected) return of such a portfolio is maximixed for a given level of volatility. \n",
    "\n",
    "Hence, suppose that **we have $k > 1$ assets**, and we decide to invest all of our capital in these assets. \n",
    "\n",
    "Let $\\mathbf{w}:=(w_1,\\dots,w_K)^T$, with $w_i\\in (0,1)$ for all $i=1,\\dots,K$, \n",
    "be the percentages of investment our portfolio, i.e, $w_i$ is the proportion of investiment in asset $i$. \n",
    "There holds $\\sum_{i=1}^K w_i = 1$. \n",
    "\n",
    "Let $R_i$ and $R_p$ be the return of asset $i$ and the total return of the portfolio, respectively. \n",
    "Likewise, let $\\sigma_i$ and $\\sigma_p$ be the volatility of asset $i$ and the volatility of the portfolio, respectively. \n",
    "\n",
    "\n",
    "#### Return of a portfolio\n",
    "The **total return of the porfolio** is going to be a simple weigthed sum of the (total) returns of single assets, i.e.,\n",
    "$$\n",
    "R_p = \\sum_{i=1}^K w_i R_i = \\mathbf{w}^T \\mathbf{R},\n",
    "$$\n",
    "where $\\mathbf{R} := (R_1,\\dots,R_K)^T$.\n",
    "\n",
    "\n",
    "#### Volatility of a portfolio\n",
    "The **volatility of the porfolio** is computed as the (square root of the) variance of the weigthed sum of the returns of single assets. \n",
    "\n",
    "Let us make and axample with only two assets. We have $w_1$ and $w_2$ and two assets whose returns are $R_1$ and $R_2$. We have:\n",
    "$$\n",
    "\\sigma_p^2 =   \\text{Var}(w_1 R_1 + w_2 R_2) = \n",
    "w_1^2 \\text{Var}(R_1) + w_2^2\\text{Var}(R_2) + 2w_1 w_2\\text{cov}(R_1,R_2) =\n",
    "w_1^2 \\sigma_1^2 + w_2^2\\sigma_2^2 + 2w_1 w_2\\text{cov}(R_1,R_2), \n",
    "$$\n",
    "where \n",
    "$$\n",
    "\\text{cov}(R_1,R_2) := \\mathbb{E}[(R_i-\\mu_i)(R_j - \\mu_j)], \n",
    "$$\n",
    "is the **covariance** between asset $i$ and $j$ and where $\\mu_i$ and $\\mu_j$ denote \n",
    "the mean returns of assets $i$ and $j$, respectively. In particular, if we let \n",
    "$$\n",
    "\\rho_{ij} := \\frac{\\text{cov}(R_i,R_j)}{\\sigma_i \\sigma_j} = \\frac{\\text{cov}(i,j)}{\\sigma_i \\sigma_j}, \n",
    "$$\n",
    "denote the **correlation coefficient** between assets $i$ and asset $j$, then the volatilityt of a $2$ assets portfolio becomes:\n",
    "$$\n",
    "\\sigma_p = \n",
    "\\sqrt{ w_i^2 \\sigma_1^2 + w_2^2 \\sigma_2^2 + 2w_1 w_2 \\sigma_1 \\sigma_2 \\rho_{ij} }. \n",
    "$$\n",
    "\n",
    "\n",
    "Now, in case of $K$ assets, we can express the volatility as follows. \n",
    "Let $\\Sigma$ be the **covariance matrix**, that is, a symmetric square $K\\times K$ matrix, $\\Sigma = [\\sigma_{ij}]$, \n",
    "where each element $\\sigma_{ij} := \\sigma_i \\sigma_j \\rho_{ij}$ ($i,j=1,\\dots,K$) denote the **covariance** between assets $i$ and asset $j$, \n",
    "where $\\sigma_i$, $\\sigma_j$, and $\\rho_{ij}$ denote the volatility and the correlation coefficient of assets $i$ and $j$, respectively. \n",
    "If $i=j$, $\\sigma_{ii}=\\sigma_i^2$ is simply the variance of asset $i$ (**diagonal entries are simply the variances**).\n",
    "\n",
    "The resulting volatility is then given by:\n",
    "$$\n",
    "\\sigma_p = \\sqrt{ \\mathbf{w}^T \\Sigma \\mathbf{w} }\n",
    "$$\n"
   ]
  },
  {
   "cell_type": "markdown",
   "metadata": {},
   "source": [
    "### Efficient frontiers of 2-assets portfoliso \n",
    "In the following we do a very artificial example in order to see the curve that is drawn by different portfolios which \n",
    "are constructed with only $2$ assets with different correalation $\\rho_{12}$. \n",
    "First of all, we assume to generate $500$ daily returns of $2$ assets:"
   ]
  },
  {
   "cell_type": "code",
   "execution_count": 172,
   "metadata": {},
   "outputs": [],
   "source": [
    "nret             = 500\n",
    "periods_per_year = 252\n",
    "risk_free_rate   = 0.0"
   ]
  },
  {
   "cell_type": "markdown",
   "metadata": {},
   "source": [
    "Then, we set up a value for the means and the volatility of our two artifical assets:"
   ]
  },
  {
   "cell_type": "code",
   "execution_count": 173,
   "metadata": {},
   "outputs": [],
   "source": [
    "mean_1 = 0.001019\n",
    "mean_2 = 0.001249\n",
    "vol_1  = 0.016317\n",
    "vol_2  = 0.019129"
   ]
  },
  {
   "cell_type": "markdown",
   "metadata": {},
   "source": [
    "and we set up the $6$ correlations of the two assets, and for every fixed correlation, \n",
    "we will generate $20$ portfolios by allocating $20$ pairs of weights:"
   ]
  },
  {
   "cell_type": "code",
   "execution_count": 174,
   "metadata": {},
   "outputs": [],
   "source": [
    "# Correlation goes from 1 (completely correlated) to -1 (conversely correlated)\n",
    "rhos  = np.linspace(1,-1,num=6) \n",
    "ncorr = len(rhos)\n",
    "\n",
    "# Pairs of weights to be used to construct the portfolios for any given correlation\n",
    "nweig = 20\n",
    "w1 = np.linspace(0,1,num=nweig)\n",
    "w2 = 1 - np.linspace(0,1,num=nweig)\n",
    "ww = pd.DataFrame( [w1, w2] ).T  "
   ]
  },
  {
   "cell_type": "code",
   "execution_count": 175,
   "metadata": {},
   "outputs": [
    {
     "data": {
      "image/png": "[encoded data removed]",
      "text/plain": [
       "<Figure size 1440x288 with 7 Axes>"
      ]
     },
     "metadata": {
      "needs_background": "light"
     },
     "output_type": "display_data"
    }
   ],
   "source": [
    "# Set seed\n",
    "np.random.seed(1)\n",
    "\n",
    "# Open the figure\n",
    "fig, ax = plt.subplots(1,6, figsize=(20,4))    \n",
    "ax = ax.flatten()\n",
    "\n",
    "for k_rho, rho in enumerate(rhos):\n",
    "    # Allocate an empty portfolio \n",
    "    portfolio = pd.DataFrame(columns=[\"return\",\"volatility\",\"sharpe ratio\"])\n",
    "\n",
    "    # Generate the assets' returns with the given correlation rho\n",
    "    cov_ij     = rho * vol_1 * vol_2\n",
    "    cov_rets   = pd.DataFrame( [[vol_1**2, cov_ij], [cov_ij, vol_2**2]] )\n",
    "    daily_rets = pd.DataFrame( np.random.multivariate_normal((mean_1,mean_2), cov_rets.values, nret) )\n",
    "    \n",
    "    for i in range(ww.shape[0]):\n",
    "        # Now, construct the portfolio of two asset with correlation rho and weights ww.loc[i]\n",
    "        weights = ww.loc[i] \n",
    "        # here, weights is a column vector (pd.Series)\n",
    "\n",
    "        # annualized portfolio returns\n",
    "        ann_rets      = erk.annualize_rets(daily_rets, periods_per_year)\n",
    "        portfolio_ret = erk.portfolio_return(weights, ann_rets)        \n",
    "\n",
    "        # annualized portfolio volatility\n",
    "        portfolio_vol = erk.portfolio_volatility(weights, cov_rets)\n",
    "        portfolio_vol = erk.annualize_vol(portfolio_vol, periods_per_year)\n",
    "\n",
    "        # annualized portfolio sharpe ratio\n",
    "        portfolio_spr = erk.sharpe_ratio(portfolio_ret, risk_free_rate, periods_per_year, v=portfolio_vol)\n",
    "\n",
    "        # dataframe containing the return, volatility, and the sharpe ratio of the portfolio constructed   \n",
    "        portfolio = portfolio.append( {\"return\":portfolio_ret, \"volatility\": portfolio_vol, \"sharpe ratio\":portfolio_spr}, ignore_index=True)\n",
    "\n",
    "    # plot create scatter plot coloured by Sharpe Ratio\n",
    "    im = ax[k_rho].scatter(portfolio[\"volatility\"]*100, portfolio[\"return\"]*100, c=w2, cmap='RdYlBu') \n",
    "    ax[k_rho].grid()\n",
    "    ax[k_rho].set_title(\"Correlation: {}\".format(np.round(rho,2)), y=0.9, loc='left')\n",
    "    ax[k_rho].set_xlabel(\"volatility (%)\")\n",
    "    if k_rho==0: ax[k_rho].set_ylabel(\"return (%)\") \n",
    "    ax[k_rho].set_xlim([0,32])\n",
    "    ax[k_rho].set_ylim([0,95])\n",
    "    \n",
    "fig.colorbar(im, ax=ax.ravel().tolist())\n",
    "plt.show()"
   ]
  },
  {
   "cell_type": "markdown",
   "metadata": {},
   "source": [
    "For any given correlation, each point represents the pair (return, volatility) of a portfolio constructed with some percentage allocation. \n",
    "This can be seen in the colorbar: **red corresponds to $\\mathbf{w} = (1,0)$**, i.e., allocation of money only to the first asset, whereas \n",
    "**blue corresponds to $\\mathbf{w} = (0,1)$**, i.e., allocation of money only ot the second asset.  \n",
    "\n",
    "We can see that **the lower the correlation between the assets, the better the trade-off between return and volatility**: in this example, \n",
    "when $\\rho=-1$, we could in principle construct a portfolio which guarantee about $30\\%$ of return with almost no volatility."
   ]
  },
  {
   "cell_type": "markdown",
   "metadata": {},
   "source": [
    "### Example from the real world: US stocks\n",
    "Now we will get the timeseries of some US economy stocks and see how to construct a portfolio in an efficient way."
   ]
  },
  {
   "cell_type": "code",
   "execution_count": 473,
   "metadata": {},
   "outputs": [],
   "source": [
    "tickers  = ['AMZN','KO','TSLA','MSFT']\n",
    "n_assets = len(tickers) \n",
    "\n",
    "stocks = pd.DataFrame()\n",
    "for stock_name in tickers:\n",
    "    # daily data\n",
    "    stocks[stock_name] = data.DataReader(stock_name, data_source=\"yahoo\", start=datetime(2010,1,1))[\"Adj Close\"]    "
   ]
  },
  {
   "cell_type": "code",
   "execution_count": 474,
   "metadata": {},
   "outputs": [
    {
     "data": {
      "text/html": [
       "<div>\n",
       "<style scoped>\n",
       "    .dataframe tbody tr th:only-of-type {\n",
       "        vertical-align: middle;\n",
       "    }\n",
       "\n",
       "    .dataframe tbody tr th {\n",
       "        vertical-align: top;\n",
       "    }\n",
       "\n",
       "    .dataframe thead th {\n",
       "        text-align: right;\n",
       "    }\n",
       "</style>\n",
       "<table border=\"1\" class=\"dataframe\">\n",
       "  <thead>\n",
       "    <tr style=\"text-align: right;\">\n",
       "      <th></th>\n",
       "      <th>AMZN</th>\n",
       "      <th>KO</th>\n",
       "      <th>TSLA</th>\n",
       "      <th>MSFT</th>\n",
       "    </tr>\n",
       "    <tr>\n",
       "      <th>Date</th>\n",
       "      <th></th>\n",
       "      <th></th>\n",
       "      <th></th>\n",
       "      <th></th>\n",
       "    </tr>\n",
       "  </thead>\n",
       "  <tbody>\n",
       "    <tr>\n",
       "      <th>2019-10-10</th>\n",
       "      <td>1720.260010</td>\n",
       "      <td>53.660000</td>\n",
       "      <td>244.740005</td>\n",
       "      <td>139.100006</td>\n",
       "    </tr>\n",
       "    <tr>\n",
       "      <th>2019-10-11</th>\n",
       "      <td>1731.920044</td>\n",
       "      <td>53.299999</td>\n",
       "      <td>247.889999</td>\n",
       "      <td>139.679993</td>\n",
       "    </tr>\n",
       "    <tr>\n",
       "      <th>2019-10-14</th>\n",
       "      <td>1736.430054</td>\n",
       "      <td>53.299999</td>\n",
       "      <td>256.959991</td>\n",
       "      <td>139.550003</td>\n",
       "    </tr>\n",
       "    <tr>\n",
       "      <th>2019-10-15</th>\n",
       "      <td>1767.380005</td>\n",
       "      <td>53.509998</td>\n",
       "      <td>257.890015</td>\n",
       "      <td>141.570007</td>\n",
       "    </tr>\n",
       "    <tr>\n",
       "      <th>2019-10-16</th>\n",
       "      <td>1777.545776</td>\n",
       "      <td>53.340000</td>\n",
       "      <td>259.890015</td>\n",
       "      <td>140.005005</td>\n",
       "    </tr>\n",
       "  </tbody>\n",
       "</table>\n",
       "</div>"
      ],
      "text/plain": [
       "                   AMZN         KO        TSLA        MSFT\n",
       "Date                                                      \n",
       "2019-10-10  1720.260010  53.660000  244.740005  139.100006\n",
       "2019-10-11  1731.920044  53.299999  247.889999  139.679993\n",
       "2019-10-14  1736.430054  53.299999  256.959991  139.550003\n",
       "2019-10-15  1767.380005  53.509998  257.890015  141.570007\n",
       "2019-10-16  1777.545776  53.340000  259.890015  140.005005"
      ]
     },
     "execution_count": 474,
     "metadata": {},
     "output_type": "execute_result"
    }
   ],
   "source": [
    "stocks.tail()"
   ]
  },
  {
   "cell_type": "code",
   "execution_count": 475,
   "metadata": {},
   "outputs": [
    {
     "data": {
      "text/html": [
       "<div>\n",
       "<style scoped>\n",
       "    .dataframe tbody tr th:only-of-type {\n",
       "        vertical-align: middle;\n",
       "    }\n",
       "\n",
       "    .dataframe tbody tr th {\n",
       "        vertical-align: top;\n",
       "    }\n",
       "\n",
       "    .dataframe thead th {\n",
       "        text-align: right;\n",
       "    }\n",
       "</style>\n",
       "<table border=\"1\" class=\"dataframe\">\n",
       "  <thead>\n",
       "    <tr style=\"text-align: right;\">\n",
       "      <th></th>\n",
       "      <th>AMZN</th>\n",
       "      <th>KO</th>\n",
       "      <th>TSLA</th>\n",
       "      <th>MSFT</th>\n",
       "    </tr>\n",
       "    <tr>\n",
       "      <th>Date</th>\n",
       "      <th></th>\n",
       "      <th></th>\n",
       "      <th></th>\n",
       "      <th></th>\n",
       "    </tr>\n",
       "  </thead>\n",
       "  <tbody>\n",
       "    <tr>\n",
       "      <th>2019-10-10</th>\n",
       "      <td>-0.001005</td>\n",
       "      <td>-0.003158</td>\n",
       "      <td>0.000859</td>\n",
       "      <td>0.006221</td>\n",
       "    </tr>\n",
       "    <tr>\n",
       "      <th>2019-10-11</th>\n",
       "      <td>0.006778</td>\n",
       "      <td>-0.006709</td>\n",
       "      <td>0.012871</td>\n",
       "      <td>0.004170</td>\n",
       "    </tr>\n",
       "    <tr>\n",
       "      <th>2019-10-14</th>\n",
       "      <td>0.002604</td>\n",
       "      <td>0.000000</td>\n",
       "      <td>0.036589</td>\n",
       "      <td>-0.000931</td>\n",
       "    </tr>\n",
       "    <tr>\n",
       "      <th>2019-10-15</th>\n",
       "      <td>0.017824</td>\n",
       "      <td>0.003940</td>\n",
       "      <td>0.003619</td>\n",
       "      <td>0.014475</td>\n",
       "    </tr>\n",
       "    <tr>\n",
       "      <th>2019-10-16</th>\n",
       "      <td>0.005752</td>\n",
       "      <td>-0.003177</td>\n",
       "      <td>0.007755</td>\n",
       "      <td>-0.011055</td>\n",
       "    </tr>\n",
       "  </tbody>\n",
       "</table>\n",
       "</div>"
      ],
      "text/plain": [
       "                AMZN        KO      TSLA      MSFT\n",
       "Date                                              \n",
       "2019-10-10 -0.001005 -0.003158  0.000859  0.006221\n",
       "2019-10-11  0.006778 -0.006709  0.012871  0.004170\n",
       "2019-10-14  0.002604  0.000000  0.036589 -0.000931\n",
       "2019-10-15  0.017824  0.003940  0.003619  0.014475\n",
       "2019-10-16  0.005752 -0.003177  0.007755 -0.011055"
      ]
     },
     "execution_count": 475,
     "metadata": {},
     "output_type": "execute_result"
    }
   ],
   "source": [
    "# compute the daily returns \n",
    "daily_rets = erk.compute_returns(stocks)\n",
    "daily_rets.tail()"
   ]
  },
  {
   "cell_type": "code",
   "execution_count": 476,
   "metadata": {},
   "outputs": [
    {
     "data": {
      "text/html": [
       "<div>\n",
       "<style scoped>\n",
       "    .dataframe tbody tr th:only-of-type {\n",
       "        vertical-align: middle;\n",
       "    }\n",
       "\n",
       "    .dataframe tbody tr th {\n",
       "        vertical-align: top;\n",
       "    }\n",
       "\n",
       "    .dataframe thead th {\n",
       "        text-align: right;\n",
       "    }\n",
       "</style>\n",
       "<table border=\"1\" class=\"dataframe\">\n",
       "  <thead>\n",
       "    <tr style=\"text-align: right;\">\n",
       "      <th></th>\n",
       "      <th>AMZN</th>\n",
       "      <th>KO</th>\n",
       "      <th>TSLA</th>\n",
       "      <th>MSFT</th>\n",
       "    </tr>\n",
       "  </thead>\n",
       "  <tbody>\n",
       "    <tr>\n",
       "      <th>AMZN</th>\n",
       "      <td>0.000387</td>\n",
       "      <td>0.000047</td>\n",
       "      <td>0.000182</td>\n",
       "      <td>0.000139</td>\n",
       "    </tr>\n",
       "    <tr>\n",
       "      <th>KO</th>\n",
       "      <td>0.000047</td>\n",
       "      <td>0.000087</td>\n",
       "      <td>0.000052</td>\n",
       "      <td>0.000050</td>\n",
       "    </tr>\n",
       "    <tr>\n",
       "      <th>TSLA</th>\n",
       "      <td>0.000182</td>\n",
       "      <td>0.000052</td>\n",
       "      <td>0.001050</td>\n",
       "      <td>0.000119</td>\n",
       "    </tr>\n",
       "    <tr>\n",
       "      <th>MSFT</th>\n",
       "      <td>0.000139</td>\n",
       "      <td>0.000050</td>\n",
       "      <td>0.000119</td>\n",
       "      <td>0.000208</td>\n",
       "    </tr>\n",
       "  </tbody>\n",
       "</table>\n",
       "</div>"
      ],
      "text/plain": [
       "          AMZN        KO      TSLA      MSFT\n",
       "AMZN  0.000387  0.000047  0.000182  0.000139\n",
       "KO    0.000047  0.000087  0.000052  0.000050\n",
       "TSLA  0.000182  0.000052  0.001050  0.000119\n",
       "MSFT  0.000139  0.000050  0.000119  0.000208"
      ]
     },
     "execution_count": 476,
     "metadata": {},
     "output_type": "execute_result"
    }
   ],
   "source": [
    "# compute the mean daily returns and the covariance of daily returns of the two assets\n",
    "mean_rets = daily_rets.mean()\n",
    "std_rets  = daily_rets.std()\n",
    "cov_rets  = daily_rets.cov()\n",
    "cov_rets"
   ]
  },
  {
   "cell_type": "markdown",
   "metadata": {},
   "source": [
    "Now we simulate $4000$ portfolios with weights allocated to the stocks above:"
   ]
  },
  {
   "cell_type": "code",
   "execution_count": 477,
   "metadata": {},
   "outputs": [],
   "source": [
    "periods_per_year = 252\n",
    "num_portfolios   = 4000\n",
    "portfolios       = pd.DataFrame(columns=[\"return\",\"volatility\",\"sharpe ratio\",\"w1\",\"w2\",\"w3\",\"w4\"])\n",
    "risk_free_rate   = 0"
   ]
  },
  {
   "cell_type": "code",
   "execution_count": 478,
   "metadata": {},
   "outputs": [],
   "source": [
    "for i in range(num_portfolios):\n",
    "    # select random weights\n",
    "    weights = np.random.random(n_assets)\n",
    "    # and rescale them to sum to 1\n",
    "    weights /= np.sum(weights)\n",
    "    \n",
    "    # annualized portfolio returns\n",
    "    ann_rets      = erk.annualize_rets(daily_rets, periods_per_year)\n",
    "    portfolio_ret = erk.portfolio_return(weights, ann_rets)        \n",
    "\n",
    "    # annualized portfolio volatility\n",
    "    portfolio_vol = erk.portfolio_volatility(weights, cov_rets)\n",
    "    portfolio_vol = erk.annualize_vol(portfolio_vol, periods_per_year)\n",
    "\n",
    "    # annualized portfolio sharpe ratio\n",
    "    portfolio_spr = erk.sharpe_ratio(portfolio_ret, risk_free_rate, periods_per_year, v=portfolio_vol)\n",
    "    \n",
    "    # create dataframe   \n",
    "    portfolios = portfolios.append( {\"return\":portfolio_ret, \n",
    "                                     \"volatility\":portfolio_vol, \n",
    "                                     \"sharpe ratio\":portfolio_spr, \n",
    "                                     \"w1\": weights[0], \"w2\": weights[1], \"w3\": weights[2], \"w4\": weights[3]}, \n",
    "                                     ignore_index=True)"
   ]
  },
  {
   "cell_type": "markdown",
   "metadata": {},
   "source": [
    "Now we create a scatter plot coloured by sharpe ratios of the portfolios generated above and we also plot the efficient frontier "
   ]
  },
  {
   "cell_type": "code",
   "execution_count": 544,
   "metadata": {},
   "outputs": [
    {
     "data": {
      "image/png": "[encoded data removed]",
      "text/plain": [
       "<Figure size 720x432 with 2 Axes>"
      ]
     },
     "metadata": {},
     "output_type": "display_data"
    }
   ],
   "source": [
    "fig, ax = plt.subplots(1,1, figsize=(10,6)) \n",
    "\n",
    "im = ax.scatter(portfolios[\"volatility\"], portfolios[\"return\"], c=portfolios[\"sharpe ratio\"], s=20, edgecolor=None, cmap='RdYlBu')\n",
    "ax.set_xlabel(\"volatility\")\n",
    "ax.set_ylabel(\"return\")\n",
    "ax.grid()\n",
    "\n",
    "# Draw the efficient frontier\n",
    "df = erk.effront_n_assets(40, daily_rets, cov_rets, periods_per_year)\n",
    "df.plot.line(x=\"volatility\", y=\"return\", style=\"--\", color=\"coral\", ax=ax, grid=True, label=\"Efficient frontier\")\n",
    "\n",
    "ax.set_xlim([0.13,0.47])\n",
    "\n",
    "ax.set_title(\"Portfolios and efficient frontier\")\n",
    "fig.colorbar(im, ax=ax)\n",
    "plt.show()"
   ]
  },
  {
   "cell_type": "markdown",
   "metadata": {},
   "source": [
    "We can see, for example, that if the investor is targeting **a return of $20\\%$**, this can be achieved by holding \n",
    "a portfolio **with volatility of about $18\\%$**, although there are many other portfolios that \n",
    "can guarantee the same return but with much higher volatilities such as $28\\%$. \n",
    "It is clear that one should carefully choose the weights of the portfolio. \n",
    "\n",
    "We can see, in particular, that there are two *important* portfolios:\n",
    "\n",
    "1. the **portfolio with the lowest volatility**, i.e., the minimum variance portfolio\n",
    "2. the **portfolio with the highest sharpe ratio**.\n",
    "\n",
    "From the code above we can easily locate these two portfolios in our dataframe by looking at the lowest volatility and highest sharpe ratio \n",
    "and and recover the corresponding weights that have been stored."
   ]
  },
  {
   "cell_type": "code",
   "execution_count": 545,
   "metadata": {},
   "outputs": [],
   "source": [
    "# find the portfolio with lowest volatility \n",
    "low_vol_portfolio = portfolios.iloc[ portfolios['volatility'].idxmin() ]\n",
    "\n",
    "# find the portfolio with highest sharpe ratio\n",
    "high_sharpe_portfolio = portfolios.iloc[ portfolios['sharpe ratio'].idxmax() ]"
   ]
  },
  {
   "cell_type": "code",
   "execution_count": 547,
   "metadata": {},
   "outputs": [
    {
     "data": {
      "image/png": "[encoded data removed]",
      "text/plain": [
       "<Figure size 720x432 with 2 Axes>"
      ]
     },
     "metadata": {},
     "output_type": "display_data"
    }
   ],
   "source": [
    "fig, ax = plt.subplots(1,1, figsize=(10,6)) \n",
    "\n",
    "im = ax.scatter(portfolios[\"volatility\"], portfolios[\"return\"], c=portfolios[\"sharpe ratio\"], s=20, edgecolor=None, label=None, cmap='RdYlBu')\n",
    "ax.set_xlabel(\"volatility\")\n",
    "ax.set_ylabel(\"return\")\n",
    "ax.grid()\n",
    "\n",
    "# Draw the efficient frontier\n",
    "#df = erk.effront_n_assets(40, daily_rets, cov_rets, periods_per_year)\n",
    "df.plot.line(x=\"volatility\", y=\"return\", style=\"--\", color=\"coral\", ax=ax, grid=True, label=\"Efficient frontier\")\n",
    "\n",
    "ax.scatter(low_vol_portfolio[1],     low_vol_portfolio[0],     color='g', s=100, label=\"min. volatility port.\")\n",
    "ax.scatter(high_sharpe_portfolio[1], high_sharpe_portfolio[0], color='r', s=100, label=\"highest sharpe port.\")\n",
    "\n",
    "ax.set_xlim([0.13,0.47])\n",
    "ax.legend()\n",
    "\n",
    "ax.set_title(\"Portfolios and efficient frontier\")\n",
    "fig.colorbar(im, ax=ax)\n",
    "plt.show()"
   ]
  },
  {
   "cell_type": "code",
   "execution_count": null,
   "metadata": {},
   "outputs": [],
   "source": []
  },
  {
   "cell_type": "code",
   "execution_count": null,
   "metadata": {},
   "outputs": [],
   "source": []
  },
  {
   "cell_type": "code",
   "execution_count": 405,
   "metadata": {},
   "outputs": [
    {
     "name": "stdout",
     "output_type": "stream",
     "text": [
      "[0.14210245 0.64130619 0.03107898 0.18551238]\n",
      "14.62870641820395\n",
      "15.161599999201133\n"
     ]
    }
   ],
   "source": [
    "ww = minimize_volatility(0.151616, erk.annualize_rets(daily_rets, periods_per_year), cov_rets)\n",
    "vv = erk.annualize_vol( erk.portfolio_volatility(ww, cov_rets), periods_per_year) \n",
    "rr = erk.portfolio_return(ww, erk.annualize_rets(daily_rets, periods_per_year))\n",
    "print(ww)\n",
    "print(vv*100)\n",
    "print(rr*100)"
   ]
  },
  {
   "cell_type": "code",
   "execution_count": null,
   "metadata": {},
   "outputs": [],
   "source": []
  },
  {
   "cell_type": "code",
   "execution_count": null,
   "metadata": {},
   "outputs": [],
   "source": []
  },
  {
   "cell_type": "code",
   "execution_count": null,
   "metadata": {},
   "outputs": [],
   "source": []
  },
  {
   "cell_type": "code",
   "execution_count": null,
   "metadata": {},
   "outputs": [],
   "source": []
  },
  {
   "cell_type": "markdown",
   "metadata": {},
   "source": [
    "### Finding the optimal portfolios"
   ]
  },
  {
   "cell_type": "markdown",
   "metadata": {},
   "source": [
    "We can find an optimal portfolio on the efficient frontier by solving a minimization problem through the scipy **optimize** method. \n",
    "\n",
    "In particular, note that scipy offers a **minimize** method, but no a **maximize** a method, and we may then conlcude that we are not able to find the portfolio with maximum sharpe ratio in this case. However, **the maximisation of the sharpe ratio is analogous to the minimisation of the negative sharpe ratio**, i.e., the minus sharpe ratio.\n",
    "\n",
    "In the following, our problem is to **find the portfolio on the efficient frontier which has the minimum volatility for a given level of return**. The minimization problem is:\n",
    "$$\n",
    "\\text{minimize} \\;\\; \\frac{1}{2} \\mathbf{w}^T\\Sigma\\mathbf{w}\n",
    "$$\n",
    "subject to \n",
    "$$\n",
    "\\begin{cases}\n",
    "\\mathbf{w}^T \\mathbf{R} = R_0 \\\\\n",
    "\\mathbf{w}^T \\mathbf{1} = 1 \\\\\n",
    "0 \\leq \\mathbf{w} \\leq 1\n",
    "\\end{cases}\n",
    "$$\n",
    "Let us consider the following data set of industry return:"
   ]
  },
  {
   "cell_type": "code",
   "execution_count": 183,
   "metadata": {},
   "outputs": [
    {
     "data": {
      "text/html": [
       "<div>\n",
       "<style scoped>\n",
       "    .dataframe tbody tr th:only-of-type {\n",
       "        vertical-align: middle;\n",
       "    }\n",
       "\n",
       "    .dataframe tbody tr th {\n",
       "        vertical-align: top;\n",
       "    }\n",
       "\n",
       "    .dataframe thead th {\n",
       "        text-align: right;\n",
       "    }\n",
       "</style>\n",
       "<table border=\"1\" class=\"dataframe\">\n",
       "  <thead>\n",
       "    <tr style=\"text-align: right;\">\n",
       "      <th></th>\n",
       "      <th>Food</th>\n",
       "      <th>Beer</th>\n",
       "      <th>Smoke</th>\n",
       "      <th>Games</th>\n",
       "      <th>Books</th>\n",
       "      <th>Hshld</th>\n",
       "      <th>Clths</th>\n",
       "      <th>Hlth</th>\n",
       "      <th>Chems</th>\n",
       "      <th>Txtls</th>\n",
       "      <th>...</th>\n",
       "      <th>Telcm</th>\n",
       "      <th>Servs</th>\n",
       "      <th>BusEq</th>\n",
       "      <th>Paper</th>\n",
       "      <th>Trans</th>\n",
       "      <th>Whlsl</th>\n",
       "      <th>Rtail</th>\n",
       "      <th>Meals</th>\n",
       "      <th>Fin</th>\n",
       "      <th>Other</th>\n",
       "    </tr>\n",
       "  </thead>\n",
       "  <tbody>\n",
       "    <tr>\n",
       "      <th>1926-07-01</th>\n",
       "      <td>0.0056</td>\n",
       "      <td>-0.0519</td>\n",
       "      <td>0.0129</td>\n",
       "      <td>0.0293</td>\n",
       "      <td>0.1097</td>\n",
       "      <td>-0.0048</td>\n",
       "      <td>0.0808</td>\n",
       "      <td>0.0177</td>\n",
       "      <td>0.0814</td>\n",
       "      <td>0.0039</td>\n",
       "      <td>...</td>\n",
       "      <td>0.0083</td>\n",
       "      <td>0.0922</td>\n",
       "      <td>0.0206</td>\n",
       "      <td>0.0770</td>\n",
       "      <td>0.0193</td>\n",
       "      <td>-0.2379</td>\n",
       "      <td>0.0007</td>\n",
       "      <td>0.0187</td>\n",
       "      <td>0.0037</td>\n",
       "      <td>0.0520</td>\n",
       "    </tr>\n",
       "    <tr>\n",
       "      <th>1926-08-01</th>\n",
       "      <td>0.0259</td>\n",
       "      <td>0.2703</td>\n",
       "      <td>0.0650</td>\n",
       "      <td>0.0055</td>\n",
       "      <td>0.1001</td>\n",
       "      <td>-0.0358</td>\n",
       "      <td>-0.0251</td>\n",
       "      <td>0.0425</td>\n",
       "      <td>0.0550</td>\n",
       "      <td>0.0814</td>\n",
       "      <td>...</td>\n",
       "      <td>0.0217</td>\n",
       "      <td>0.0202</td>\n",
       "      <td>0.0439</td>\n",
       "      <td>-0.0238</td>\n",
       "      <td>0.0488</td>\n",
       "      <td>0.0539</td>\n",
       "      <td>-0.0075</td>\n",
       "      <td>-0.0013</td>\n",
       "      <td>0.0446</td>\n",
       "      <td>0.0676</td>\n",
       "    </tr>\n",
       "    <tr>\n",
       "      <th>1926-09-01</th>\n",
       "      <td>0.0116</td>\n",
       "      <td>0.0402</td>\n",
       "      <td>0.0126</td>\n",
       "      <td>0.0658</td>\n",
       "      <td>-0.0099</td>\n",
       "      <td>0.0073</td>\n",
       "      <td>-0.0051</td>\n",
       "      <td>0.0069</td>\n",
       "      <td>0.0533</td>\n",
       "      <td>0.0231</td>\n",
       "      <td>...</td>\n",
       "      <td>0.0241</td>\n",
       "      <td>0.0225</td>\n",
       "      <td>0.0019</td>\n",
       "      <td>-0.0554</td>\n",
       "      <td>0.0005</td>\n",
       "      <td>-0.0787</td>\n",
       "      <td>0.0025</td>\n",
       "      <td>-0.0056</td>\n",
       "      <td>-0.0123</td>\n",
       "      <td>-0.0386</td>\n",
       "    </tr>\n",
       "    <tr>\n",
       "      <th>1926-10-01</th>\n",
       "      <td>-0.0306</td>\n",
       "      <td>-0.0331</td>\n",
       "      <td>0.0106</td>\n",
       "      <td>-0.0476</td>\n",
       "      <td>0.0947</td>\n",
       "      <td>-0.0468</td>\n",
       "      <td>0.0012</td>\n",
       "      <td>-0.0057</td>\n",
       "      <td>-0.0476</td>\n",
       "      <td>0.0100</td>\n",
       "      <td>...</td>\n",
       "      <td>-0.0011</td>\n",
       "      <td>-0.0200</td>\n",
       "      <td>-0.0109</td>\n",
       "      <td>-0.0508</td>\n",
       "      <td>-0.0264</td>\n",
       "      <td>-0.1538</td>\n",
       "      <td>-0.0220</td>\n",
       "      <td>-0.0411</td>\n",
       "      <td>-0.0516</td>\n",
       "      <td>-0.0849</td>\n",
       "    </tr>\n",
       "    <tr>\n",
       "      <th>1926-11-01</th>\n",
       "      <td>0.0635</td>\n",
       "      <td>0.0729</td>\n",
       "      <td>0.0455</td>\n",
       "      <td>0.0166</td>\n",
       "      <td>-0.0580</td>\n",
       "      <td>-0.0054</td>\n",
       "      <td>0.0187</td>\n",
       "      <td>0.0542</td>\n",
       "      <td>0.0520</td>\n",
       "      <td>0.0311</td>\n",
       "      <td>...</td>\n",
       "      <td>0.0163</td>\n",
       "      <td>0.0377</td>\n",
       "      <td>0.0364</td>\n",
       "      <td>0.0384</td>\n",
       "      <td>0.0160</td>\n",
       "      <td>0.0467</td>\n",
       "      <td>0.0652</td>\n",
       "      <td>0.0433</td>\n",
       "      <td>0.0224</td>\n",
       "      <td>0.0400</td>\n",
       "    </tr>\n",
       "  </tbody>\n",
       "</table>\n",
       "<p>5 rows × 30 columns</p>\n",
       "</div>"
      ],
      "text/plain": [
       "              Food    Beer   Smoke   Games   Books   Hshld   Clths    Hlth  \\\n",
       "1926-07-01  0.0056 -0.0519  0.0129  0.0293  0.1097 -0.0048  0.0808  0.0177   \n",
       "1926-08-01  0.0259  0.2703  0.0650  0.0055  0.1001 -0.0358 -0.0251  0.0425   \n",
       "1926-09-01  0.0116  0.0402  0.0126  0.0658 -0.0099  0.0073 -0.0051  0.0069   \n",
       "1926-10-01 -0.0306 -0.0331  0.0106 -0.0476  0.0947 -0.0468  0.0012 -0.0057   \n",
       "1926-11-01  0.0635  0.0729  0.0455  0.0166 -0.0580 -0.0054  0.0187  0.0542   \n",
       "\n",
       "             Chems   Txtls  ...   Telcm   Servs   BusEq   Paper   Trans  \\\n",
       "1926-07-01  0.0814  0.0039  ...  0.0083  0.0922  0.0206  0.0770  0.0193   \n",
       "1926-08-01  0.0550  0.0814  ...  0.0217  0.0202  0.0439 -0.0238  0.0488   \n",
       "1926-09-01  0.0533  0.0231  ...  0.0241  0.0225  0.0019 -0.0554  0.0005   \n",
       "1926-10-01 -0.0476  0.0100  ... -0.0011 -0.0200 -0.0109 -0.0508 -0.0264   \n",
       "1926-11-01  0.0520  0.0311  ...  0.0163  0.0377  0.0364  0.0384  0.0160   \n",
       "\n",
       "             Whlsl   Rtail   Meals     Fin   Other  \n",
       "1926-07-01 -0.2379  0.0007  0.0187  0.0037  0.0520  \n",
       "1926-08-01  0.0539 -0.0075 -0.0013  0.0446  0.0676  \n",
       "1926-09-01 -0.0787  0.0025 -0.0056 -0.0123 -0.0386  \n",
       "1926-10-01 -0.1538 -0.0220 -0.0411 -0.0516 -0.0849  \n",
       "1926-11-01  0.0467  0.0652  0.0433  0.0224  0.0400  \n",
       "\n",
       "[5 rows x 30 columns]"
      ]
     },
     "execution_count": 183,
     "metadata": {},
     "output_type": "execute_result"
    }
   ],
   "source": [
    "ind = erk.get_ind_returns()\n",
    "ind.head()"
   ]
  },
  {
   "cell_type": "markdown",
   "metadata": {},
   "source": [
    "Let us just plot the VaRs of the industry indices and their sharpe ratio."
   ]
  },
  {
   "cell_type": "code",
   "execution_count": 184,
   "metadata": {},
   "outputs": [
    {
     "data": {
      "image/png": "[encoded data removed]",
      "text/plain": [
       "<Figure size 1152x288 with 2 Axes>"
      ]
     },
     "metadata": {
      "needs_background": "light"
     },
     "output_type": "display_data"
    }
   ],
   "source": [
    "fig, ax = plt.subplots(figsize=(20,4), nrows=1, ncols=2)\n",
    "erk.var_gaussian(ind[\"1990\":\"2008\"], cf=True).sort_values().plot.bar(grid=True, figsize=(16,4), ax=ax[0], title=\"Industry VaRs 1990-2008\")\n",
    "erk.sharpe_ratio(ind[\"1990\":\"2008\"], 0.0, 12).sort_values().plot.bar(grid=True, figsize=(16,4), ax=ax[1], title=\"Industry sharpe ratios 1990-2008\", color=\"r\")\n",
    "plt.show()"
   ]
  },
  {
   "cell_type": "code",
   "execution_count": null,
   "metadata": {},
   "outputs": [],
   "source": []
  },
  {
   "cell_type": "code",
   "execution_count": 185,
   "metadata": {},
   "outputs": [
    {
     "data": {
      "text/html": [
       "<div>\n",
       "<style scoped>\n",
       "    .dataframe tbody tr th:only-of-type {\n",
       "        vertical-align: middle;\n",
       "    }\n",
       "\n",
       "    .dataframe tbody tr th {\n",
       "        vertical-align: top;\n",
       "    }\n",
       "\n",
       "    .dataframe thead th {\n",
       "        text-align: right;\n",
       "    }\n",
       "</style>\n",
       "<table border=\"1\" class=\"dataframe\">\n",
       "  <thead>\n",
       "    <tr style=\"text-align: right;\">\n",
       "      <th></th>\n",
       "      <th>Food</th>\n",
       "      <th>Beer</th>\n",
       "      <th>Smoke</th>\n",
       "    </tr>\n",
       "  </thead>\n",
       "  <tbody>\n",
       "    <tr>\n",
       "      <th>Food</th>\n",
       "      <td>0.002609</td>\n",
       "      <td>0.002379</td>\n",
       "      <td>0.002061</td>\n",
       "    </tr>\n",
       "    <tr>\n",
       "      <th>Beer</th>\n",
       "      <td>0.002379</td>\n",
       "      <td>0.005264</td>\n",
       "      <td>0.001359</td>\n",
       "    </tr>\n",
       "    <tr>\n",
       "      <th>Smoke</th>\n",
       "      <td>0.002061</td>\n",
       "      <td>0.001359</td>\n",
       "      <td>0.008349</td>\n",
       "    </tr>\n",
       "  </tbody>\n",
       "</table>\n",
       "</div>"
      ],
      "text/plain": [
       "           Food      Beer     Smoke\n",
       "Food   0.002609  0.002379  0.002061\n",
       "Beer   0.002379  0.005264  0.001359\n",
       "Smoke  0.002061  0.001359  0.008349"
      ]
     },
     "execution_count": 185,
     "metadata": {},
     "output_type": "execute_result"
    }
   ],
   "source": [
    "covmat = ind[\"1996\":\"2000\"][[\"Food\",\"Beer\",\"Smoke\"]].cov()\n",
    "covmat"
   ]
  },
  {
   "cell_type": "code",
   "execution_count": null,
   "metadata": {},
   "outputs": [],
   "source": []
  },
  {
   "cell_type": "code",
   "execution_count": 125,
   "metadata": {},
   "outputs": [],
   "source": []
  },
  {
   "cell_type": "code",
   "execution_count": null,
   "metadata": {},
   "outputs": [],
   "source": []
  },
  {
   "cell_type": "code",
   "execution_count": null,
   "metadata": {},
   "outputs": [],
   "source": []
  },
  {
   "cell_type": "code",
   "execution_count": 345,
   "metadata": {},
   "outputs": [
    {
     "data": {
      "text/html": [
       "<div>\n",
       "<style scoped>\n",
       "    .dataframe tbody tr th:only-of-type {\n",
       "        vertical-align: middle;\n",
       "    }\n",
       "\n",
       "    .dataframe tbody tr th {\n",
       "        vertical-align: top;\n",
       "    }\n",
       "\n",
       "    .dataframe thead th {\n",
       "        text-align: right;\n",
       "    }\n",
       "</style>\n",
       "<table border=\"1\" class=\"dataframe\">\n",
       "  <thead>\n",
       "    <tr style=\"text-align: right;\">\n",
       "      <th></th>\n",
       "      <th>Games</th>\n",
       "      <th>Fin</th>\n",
       "    </tr>\n",
       "  </thead>\n",
       "  <tbody>\n",
       "    <tr>\n",
       "      <th>2000-08-01</th>\n",
       "      <td>0.0571</td>\n",
       "      <td>0.1020</td>\n",
       "    </tr>\n",
       "    <tr>\n",
       "      <th>2000-09-01</th>\n",
       "      <td>-0.0827</td>\n",
       "      <td>0.0229</td>\n",
       "    </tr>\n",
       "    <tr>\n",
       "      <th>2000-10-01</th>\n",
       "      <td>-0.0498</td>\n",
       "      <td>-0.0032</td>\n",
       "    </tr>\n",
       "    <tr>\n",
       "      <th>2000-11-01</th>\n",
       "      <td>-0.1427</td>\n",
       "      <td>-0.0528</td>\n",
       "    </tr>\n",
       "    <tr>\n",
       "      <th>2000-12-01</th>\n",
       "      <td>0.0447</td>\n",
       "      <td>0.1011</td>\n",
       "    </tr>\n",
       "  </tbody>\n",
       "</table>\n",
       "</div>"
      ],
      "text/plain": [
       "             Games     Fin\n",
       "2000-08-01  0.0571  0.1020\n",
       "2000-09-01 -0.0827  0.0229\n",
       "2000-10-01 -0.0498 -0.0032\n",
       "2000-11-01 -0.1427 -0.0528\n",
       "2000-12-01  0.0447  0.1011"
      ]
     },
     "execution_count": 345,
     "metadata": {},
     "output_type": "execute_result"
    }
   ],
   "source": [
    "target_return = 0.15\n",
    "ind = erk.get_ind_returns()[\"1996\":\"2000\"]\n",
    "\n",
    "industries = [\"Games\",\"Fin\"] #,\"Beer\"]\n",
    "monthly_rets = ind[industries]\n",
    "monthly_rets.tail()"
   ]
  },
  {
   "cell_type": "code",
   "execution_count": 346,
   "metadata": {},
   "outputs": [
    {
     "data": {
      "text/html": [
       "<div>\n",
       "<style scoped>\n",
       "    .dataframe tbody tr th:only-of-type {\n",
       "        vertical-align: middle;\n",
       "    }\n",
       "\n",
       "    .dataframe tbody tr th {\n",
       "        vertical-align: top;\n",
       "    }\n",
       "\n",
       "    .dataframe thead th {\n",
       "        text-align: right;\n",
       "    }\n",
       "</style>\n",
       "<table border=\"1\" class=\"dataframe\">\n",
       "  <thead>\n",
       "    <tr style=\"text-align: right;\">\n",
       "      <th></th>\n",
       "      <th>Games</th>\n",
       "      <th>Fin</th>\n",
       "    </tr>\n",
       "  </thead>\n",
       "  <tbody>\n",
       "    <tr>\n",
       "      <th>Games</th>\n",
       "      <td>0.003773</td>\n",
       "      <td>0.002416</td>\n",
       "    </tr>\n",
       "    <tr>\n",
       "      <th>Fin</th>\n",
       "      <td>0.002416</td>\n",
       "      <td>0.003982</td>\n",
       "    </tr>\n",
       "  </tbody>\n",
       "</table>\n",
       "</div>"
      ],
      "text/plain": [
       "          Games       Fin\n",
       "Games  0.003773  0.002416\n",
       "Fin    0.002416  0.003982"
      ]
     },
     "execution_count": 346,
     "metadata": {},
     "output_type": "execute_result"
    }
   ],
   "source": [
    "covmatrix = monthly_rets.cov()\n",
    "covmatrix"
   ]
  },
  {
   "cell_type": "code",
   "execution_count": 348,
   "metadata": {},
   "outputs": [
    {
     "data": {
      "image/png": "[encoded data removed]",
      "text/plain": [
       "<Figure size 432x288 with 1 Axes>"
      ]
     },
     "metadata": {},
     "output_type": "display_data"
    }
   ],
   "source": [
    "df, fig = erk.effront_two_assets(20, monthly_rets, covmatrix, 12)"
   ]
  },
  {
   "cell_type": "code",
   "execution_count": 349,
   "metadata": {},
   "outputs": [
    {
     "data": {
      "text/html": [
       "<div>\n",
       "<style scoped>\n",
       "    .dataframe tbody tr th:only-of-type {\n",
       "        vertical-align: middle;\n",
       "    }\n",
       "\n",
       "    .dataframe tbody tr th {\n",
       "        vertical-align: top;\n",
       "    }\n",
       "\n",
       "    .dataframe thead th {\n",
       "        text-align: right;\n",
       "    }\n",
       "</style>\n",
       "<table border=\"1\" class=\"dataframe\">\n",
       "  <thead>\n",
       "    <tr style=\"text-align: right;\">\n",
       "      <th></th>\n",
       "      <th>volatility</th>\n",
       "      <th>return</th>\n",
       "      <th>sharpe ratio</th>\n",
       "    </tr>\n",
       "  </thead>\n",
       "  <tbody>\n",
       "    <tr>\n",
       "      <th>0</th>\n",
       "      <td>0.218584</td>\n",
       "      <td>0.223371</td>\n",
       "      <td>1.021903</td>\n",
       "    </tr>\n",
       "    <tr>\n",
       "      <th>1</th>\n",
       "      <td>0.214239</td>\n",
       "      <td>0.215205</td>\n",
       "      <td>1.004509</td>\n",
       "    </tr>\n",
       "    <tr>\n",
       "      <th>2</th>\n",
       "      <td>0.210267</td>\n",
       "      <td>0.207039</td>\n",
       "      <td>0.984648</td>\n",
       "    </tr>\n",
       "    <tr>\n",
       "      <th>3</th>\n",
       "      <td>0.206689</td>\n",
       "      <td>0.198873</td>\n",
       "      <td>0.962184</td>\n",
       "    </tr>\n",
       "    <tr>\n",
       "      <th>4</th>\n",
       "      <td>0.203525</td>\n",
       "      <td>0.190706</td>\n",
       "      <td>0.937015</td>\n",
       "    </tr>\n",
       "    <tr>\n",
       "      <th>5</th>\n",
       "      <td>0.200796</td>\n",
       "      <td>0.182540</td>\n",
       "      <td>0.909080</td>\n",
       "    </tr>\n",
       "    <tr>\n",
       "      <th>6</th>\n",
       "      <td>0.198520</td>\n",
       "      <td>0.174374</td>\n",
       "      <td>0.878369</td>\n",
       "    </tr>\n",
       "    <tr>\n",
       "      <th>7</th>\n",
       "      <td>0.196711</td>\n",
       "      <td>0.166207</td>\n",
       "      <td>0.844930</td>\n",
       "    </tr>\n",
       "    <tr>\n",
       "      <th>8</th>\n",
       "      <td>0.195384</td>\n",
       "      <td>0.158041</td>\n",
       "      <td>0.808874</td>\n",
       "    </tr>\n",
       "    <tr>\n",
       "      <th>9</th>\n",
       "      <td>0.194548</td>\n",
       "      <td>0.149875</td>\n",
       "      <td>0.770375</td>\n",
       "    </tr>\n",
       "    <tr>\n",
       "      <th>10</th>\n",
       "      <td>0.194208</td>\n",
       "      <td>0.141708</td>\n",
       "      <td>0.729672</td>\n",
       "    </tr>\n",
       "    <tr>\n",
       "      <th>11</th>\n",
       "      <td>0.194369</td>\n",
       "      <td>0.133542</td>\n",
       "      <td>0.687054</td>\n",
       "    </tr>\n",
       "    <tr>\n",
       "      <th>12</th>\n",
       "      <td>0.195028</td>\n",
       "      <td>0.125376</td>\n",
       "      <td>0.642859</td>\n",
       "    </tr>\n",
       "    <tr>\n",
       "      <th>13</th>\n",
       "      <td>0.196181</td>\n",
       "      <td>0.117209</td>\n",
       "      <td>0.597454</td>\n",
       "    </tr>\n",
       "    <tr>\n",
       "      <th>14</th>\n",
       "      <td>0.197819</td>\n",
       "      <td>0.109043</td>\n",
       "      <td>0.551226</td>\n",
       "    </tr>\n",
       "    <tr>\n",
       "      <th>15</th>\n",
       "      <td>0.199930</td>\n",
       "      <td>0.100877</td>\n",
       "      <td>0.504560</td>\n",
       "    </tr>\n",
       "    <tr>\n",
       "      <th>16</th>\n",
       "      <td>0.202499</td>\n",
       "      <td>0.092710</td>\n",
       "      <td>0.457831</td>\n",
       "    </tr>\n",
       "    <tr>\n",
       "      <th>17</th>\n",
       "      <td>0.205510</td>\n",
       "      <td>0.084544</td>\n",
       "      <td>0.411387</td>\n",
       "    </tr>\n",
       "    <tr>\n",
       "      <th>18</th>\n",
       "      <td>0.208942</td>\n",
       "      <td>0.076378</td>\n",
       "      <td>0.365545</td>\n",
       "    </tr>\n",
       "    <tr>\n",
       "      <th>19</th>\n",
       "      <td>0.212776</td>\n",
       "      <td>0.068212</td>\n",
       "      <td>0.320579</td>\n",
       "    </tr>\n",
       "  </tbody>\n",
       "</table>\n",
       "</div>"
      ],
      "text/plain": [
       "    volatility    return  sharpe ratio\n",
       "0     0.218584  0.223371      1.021903\n",
       "1     0.214239  0.215205      1.004509\n",
       "2     0.210267  0.207039      0.984648\n",
       "3     0.206689  0.198873      0.962184\n",
       "4     0.203525  0.190706      0.937015\n",
       "5     0.200796  0.182540      0.909080\n",
       "6     0.198520  0.174374      0.878369\n",
       "7     0.196711  0.166207      0.844930\n",
       "8     0.195384  0.158041      0.808874\n",
       "9     0.194548  0.149875      0.770375\n",
       "10    0.194208  0.141708      0.729672\n",
       "11    0.194369  0.133542      0.687054\n",
       "12    0.195028  0.125376      0.642859\n",
       "13    0.196181  0.117209      0.597454\n",
       "14    0.197819  0.109043      0.551226\n",
       "15    0.199930  0.100877      0.504560\n",
       "16    0.202499  0.092710      0.457831\n",
       "17    0.205510  0.084544      0.411387\n",
       "18    0.208942  0.076378      0.365545\n",
       "19    0.212776  0.068212      0.320579"
      ]
     },
     "execution_count": 349,
     "metadata": {},
     "output_type": "execute_result"
    }
   ],
   "source": [
    "df"
   ]
  },
  {
   "cell_type": "code",
   "execution_count": null,
   "metadata": {},
   "outputs": [],
   "source": []
  },
  {
   "cell_type": "code",
   "execution_count": null,
   "metadata": {},
   "outputs": [],
   "source": []
  },
  {
   "cell_type": "code",
   "execution_count": null,
   "metadata": {},
   "outputs": [],
   "source": []
  },
  {
   "cell_type": "code",
   "execution_count": 367,
   "metadata": {},
   "outputs": [],
   "source": []
  },
  {
   "cell_type": "code",
   "execution_count": 378,
   "metadata": {},
   "outputs": [
    {
     "data": {
      "text/html": [
       "<div>\n",
       "<style scoped>\n",
       "    .dataframe tbody tr th:only-of-type {\n",
       "        vertical-align: middle;\n",
       "    }\n",
       "\n",
       "    .dataframe tbody tr th {\n",
       "        vertical-align: top;\n",
       "    }\n",
       "\n",
       "    .dataframe thead th {\n",
       "        text-align: right;\n",
       "    }\n",
       "</style>\n",
       "<table border=\"1\" class=\"dataframe\">\n",
       "  <thead>\n",
       "    <tr style=\"text-align: right;\">\n",
       "      <th></th>\n",
       "      <th>Smoke</th>\n",
       "      <th>Fin</th>\n",
       "      <th>Games</th>\n",
       "      <th>Coal</th>\n",
       "    </tr>\n",
       "  </thead>\n",
       "  <tbody>\n",
       "    <tr>\n",
       "      <th>2000-08-01</th>\n",
       "      <td>0.1903</td>\n",
       "      <td>0.1020</td>\n",
       "      <td>0.0571</td>\n",
       "      <td>0.1776</td>\n",
       "    </tr>\n",
       "    <tr>\n",
       "      <th>2000-09-01</th>\n",
       "      <td>0.0087</td>\n",
       "      <td>0.0229</td>\n",
       "      <td>-0.0827</td>\n",
       "      <td>-0.1372</td>\n",
       "    </tr>\n",
       "    <tr>\n",
       "      <th>2000-10-01</th>\n",
       "      <td>0.2280</td>\n",
       "      <td>-0.0032</td>\n",
       "      <td>-0.0498</td>\n",
       "      <td>0.0716</td>\n",
       "    </tr>\n",
       "    <tr>\n",
       "      <th>2000-11-01</th>\n",
       "      <td>0.0407</td>\n",
       "      <td>-0.0528</td>\n",
       "      <td>-0.1427</td>\n",
       "      <td>0.0924</td>\n",
       "    </tr>\n",
       "    <tr>\n",
       "      <th>2000-12-01</th>\n",
       "      <td>0.1696</td>\n",
       "      <td>0.1011</td>\n",
       "      <td>0.0447</td>\n",
       "      <td>0.4404</td>\n",
       "    </tr>\n",
       "  </tbody>\n",
       "</table>\n",
       "</div>"
      ],
      "text/plain": [
       "             Smoke     Fin   Games    Coal\n",
       "2000-08-01  0.1903  0.1020  0.0571  0.1776\n",
       "2000-09-01  0.0087  0.0229 -0.0827 -0.1372\n",
       "2000-10-01  0.2280 -0.0032 -0.0498  0.0716\n",
       "2000-11-01  0.0407 -0.0528 -0.1427  0.0924\n",
       "2000-12-01  0.1696  0.1011  0.0447  0.4404"
      ]
     },
     "execution_count": 378,
     "metadata": {},
     "output_type": "execute_result"
    }
   ],
   "source": [
    "target_return = 0.15\n",
    "ind = erk.get_ind_returns()[\"1996\":\"2000\"]\n",
    "\n",
    "industries = [\"Smoke\",\"Fin\",\"Games\",\"Coal\"]\n",
    "monthly_rets = ind[industries]\n",
    "monthly_rets.tail()"
   ]
  },
  {
   "cell_type": "code",
   "execution_count": 379,
   "metadata": {},
   "outputs": [
    {
     "data": {
      "text/html": [
       "<div>\n",
       "<style scoped>\n",
       "    .dataframe tbody tr th:only-of-type {\n",
       "        vertical-align: middle;\n",
       "    }\n",
       "\n",
       "    .dataframe tbody tr th {\n",
       "        vertical-align: top;\n",
       "    }\n",
       "\n",
       "    .dataframe thead th {\n",
       "        text-align: right;\n",
       "    }\n",
       "</style>\n",
       "<table border=\"1\" class=\"dataframe\">\n",
       "  <thead>\n",
       "    <tr style=\"text-align: right;\">\n",
       "      <th></th>\n",
       "      <th>Smoke</th>\n",
       "      <th>Fin</th>\n",
       "      <th>Games</th>\n",
       "      <th>Coal</th>\n",
       "    </tr>\n",
       "  </thead>\n",
       "  <tbody>\n",
       "    <tr>\n",
       "      <th>Smoke</th>\n",
       "      <td>0.008349</td>\n",
       "      <td>0.001312</td>\n",
       "      <td>0.000379</td>\n",
       "      <td>-0.000733</td>\n",
       "    </tr>\n",
       "    <tr>\n",
       "      <th>Fin</th>\n",
       "      <td>0.001312</td>\n",
       "      <td>0.003982</td>\n",
       "      <td>0.002416</td>\n",
       "      <td>0.002946</td>\n",
       "    </tr>\n",
       "    <tr>\n",
       "      <th>Games</th>\n",
       "      <td>0.000379</td>\n",
       "      <td>0.002416</td>\n",
       "      <td>0.003773</td>\n",
       "      <td>0.001888</td>\n",
       "    </tr>\n",
       "    <tr>\n",
       "      <th>Coal</th>\n",
       "      <td>-0.000733</td>\n",
       "      <td>0.002946</td>\n",
       "      <td>0.001888</td>\n",
       "      <td>0.018641</td>\n",
       "    </tr>\n",
       "  </tbody>\n",
       "</table>\n",
       "</div>"
      ],
      "text/plain": [
       "          Smoke       Fin     Games      Coal\n",
       "Smoke  0.008349  0.001312  0.000379 -0.000733\n",
       "Fin    0.001312  0.003982  0.002416  0.002946\n",
       "Games  0.000379  0.002416  0.003773  0.001888\n",
       "Coal  -0.000733  0.002946  0.001888  0.018641"
      ]
     },
     "execution_count": 379,
     "metadata": {},
     "output_type": "execute_result"
    }
   ],
   "source": [
    "covmatrix = monthly_rets.cov()\n",
    "covmatrix"
   ]
  },
  {
   "cell_type": "code",
   "execution_count": 380,
   "metadata": {},
   "outputs": [],
   "source": [
    "#erk.optimal_weights(20, monthly_rets, covmatrix, 12)"
   ]
  },
  {
   "cell_type": "code",
   "execution_count": 381,
   "metadata": {},
   "outputs": [
    {
     "data": {
      "image/png": "[encoded data removed]",
      "text/plain": [
       "<Figure size 432x288 with 1 Axes>"
      ]
     },
     "metadata": {
      "needs_background": "light"
     },
     "output_type": "display_data"
    }
   ],
   "source": [
    "df, fig = erk.effront_n_assets(20, monthly_rets, covmatrix, 12)\n"
   ]
  },
  {
   "cell_type": "code",
   "execution_count": null,
   "metadata": {},
   "outputs": [],
   "source": []
  },
  {
   "cell_type": "code",
   "execution_count": null,
   "metadata": {},
   "outputs": [],
   "source": []
  },
  {
   "cell_type": "code",
   "execution_count": null,
   "metadata": {},
   "outputs": [],
   "source": []
  },
  {
   "cell_type": "code",
   "execution_count": null,
   "metadata": {},
   "outputs": [],
   "source": []
  },
  {
   "cell_type": "code",
   "execution_count": null,
   "metadata": {},
   "outputs": [],
   "source": []
  },
  {
   "cell_type": "code",
   "execution_count": 231,
   "metadata": {},
   "outputs": [
    {
     "data": {
      "text/plain": [
       "array([0.47287631, 0.52712369])"
      ]
     },
     "execution_count": 231,
     "metadata": {},
     "output_type": "execute_result"
    }
   ],
   "source": [
    "weights_015 = erk.minimize_volatility(target_return, ann_rets, covmatrix)\n",
    "weights_015"
   ]
  },
  {
   "cell_type": "code",
   "execution_count": 232,
   "metadata": {},
   "outputs": [
    {
     "data": {
      "text/plain": [
       "0.19455665790383508"
      ]
     },
     "execution_count": 232,
     "metadata": {},
     "output_type": "execute_result"
    }
   ],
   "source": [
    "ann_vol = erk.annualize_vol( erk.portfolio_volatility(weights_015, covmatrix), 12 )\n",
    "ann_vol"
   ]
  },
  {
   "cell_type": "code",
   "execution_count": null,
   "metadata": {},
   "outputs": [],
   "source": []
  },
  {
   "cell_type": "code",
   "execution_count": 276,
   "metadata": {},
   "outputs": [
    {
     "data": {
      "text/plain": [
       "1.4142135623730951"
      ]
     },
     "execution_count": 276,
     "metadata": {},
     "output_type": "execute_result"
    }
   ],
   "source": [
    "a = [1,2,3,4,5]\n",
    "np.std(a)"
   ]
  },
  {
   "cell_type": "code",
   "execution_count": null,
   "metadata": {},
   "outputs": [],
   "source": [
    "np"
   ]
  }
 ],
 "metadata": {
  "kernelspec": {
   "display_name": "Python 3",
   "language": "python",
   "name": "python3"
  },
  "language_info": {
   "codemirror_mode": {
    "name": "ipython",
    "version": 3
   },
   "file_extension": ".py",
   "mimetype": "text/x-python",
   "name": "python",
   "nbconvert_exporter": "python",
   "pygments_lexer": "ipython3",
   "version": "3.7.1"
  }
 },
 "nbformat": 4,
 "nbformat_minor": 2
}
