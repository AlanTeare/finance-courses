{
 "cells": [
  {
   "cell_type": "markdown",
   "metadata": {},
   "source": [
    "# Week 2"
   ]
  },
  {
   "cell_type": "code",
   "execution_count": 1,
   "metadata": {},
   "outputs": [],
   "source": [
    "import pandas as pd\n",
    "import numpy as np\n",
    "import matplotlib.pyplot as plt\n",
    "import scipy.stats "
   ]
  },
  {
   "cell_type": "code",
   "execution_count": 6,
   "metadata": {},
   "outputs": [
    {
     "name": "stdout",
     "output_type": "stream",
     "text": [
      "The autoreload extension is already loaded. To reload it, use:\n",
      "  %reload_ext autoreload\n"
     ]
    }
   ],
   "source": [
    "%load_ext autoreload\n",
    "%autoreload 2\n",
    "%matplotlib inline"
   ]
  },
  {
   "cell_type": "code",
   "execution_count": 8,
   "metadata": {},
   "outputs": [],
   "source": [
    "import edhec_risk_kit as erk"
   ]
  },
  {
   "cell_type": "code",
   "execution_count": 5,
   "metadata": {},
   "outputs": [],
   "source": [
    "# using seaborn style (type plt.style.available to see available styles)\n",
    "plt.style.use(\"seaborn-dark\")"
   ]
  },
  {
   "cell_type": "markdown",
   "metadata": {},
   "source": [
    "## Modern portfolio theory (MPT)\n",
    "\n",
    "The **Modern portfolio theory (MPT)** is a mathematical framework **for assembling a portfolio of assets such that the expected return is maximized for a given level of volatility**. It is a formalization of **diversification in investing**, i.e., the idea that owning different kinds of financial assets is less risky than owning only one type. \n",
    "\n",
    "### Efficient Frontiers \n",
    "\n",
    "In the MPT, The **efficient frontier** is an a curve which occupies the *efficient* part of the **volatility-return** plane. \n",
    "Formally, it is the set of portfolios which satisfy the condition that no other portfolio exists with a higher expected \n",
    "return but with the same standard deviation of return. \n",
    "\n",
    "The efficient frontier was first formulated by **Harry Markowitz** (1952).\n",
    "\n",
    "### How it works\n",
    "We have to construct a portfolio of several assets and **we want to find the optimal percentage of investments to be allocated in these assets** so that the overall (expected) return of such a portfolio is maximixed for a given level of volatility. \n",
    "\n",
    "Hence, suppose that **we have $k > 1$ assets**, and we decide to invest all of our capital in these assets. \n",
    "\n",
    "Let $\\mathbf{w}:=(w_1,\\dots,w_K)^T$, with $w_i\\in (0,1)$ for all $i=1,\\dots,K$, \n",
    "be the percentages of investment our portfolio, i.e, $w_i$ is the proportion of investiment in asset $i$. \n",
    "There holds $\\sum_{i=1}^K w_i = 1$. \n",
    "\n",
    "Let $R_i$ and $R_p$ be the return of asset $i$ and the total return of the portfolio, respectively. \n",
    "Likewise, let $\\sigma_i$ and $\\sigma_p$ be the volatility of asset $i$ and the volatility of the portfolio, respectively. \n",
    "\n",
    "\n",
    "#### Return of a portfolio\n",
    "The **total return of the porfolio** is going to be a simple weigthed sum of the returns of single assets, i.e.,\n",
    "$$\n",
    "R_p = \\sum_{i=1}^K w_i R_i = \\mathbf{w}^T \\mathbf{R},\n",
    "$$\n",
    "where $\\mathbf{R} := (R_1,\\dots,R_K)^T$.\n",
    "\n",
    "\n",
    "#### Volatility of a portfolio\n",
    "The **volatility of the porfolio** is computed as the (square root of the) variance of the weigthed sum of the returns of single assets. \n",
    "Let us make and axample with only two assets. We have $w_1$ and $w_2$ and two assets whose returns are $R_1$ and $R_2$. We have:\n",
    "$$\n",
    "\\sigma_p^2 =   \\text{Var}(w_1 R_1 + w_2 R_2) = \n",
    "\\text{Var}(w_1 R_1) + \\text{Var}(w_2 R_2) + 2\\text{cov}(w_1 R_1, w_2 R_2) = \n",
    "w_i^2 \\text{Var}(R_1) + w_2^2\\text{Var}(R_2) + 2w_1 w_2\\text{cov}(R_1,R_2) =\n",
    "w_i^2 \\sigma_1^2 + w_2^2\\sigma_2^2 + 2w_1 w_2\\text{cov}(R_1,R_2) =\n",
    "$$\n",
    "where \n",
    "$$\n",
    "\\text{cov}(R_1,R_2) := \\mathbb{E}[(R_i-\\mu_i)(R_j - \\mu_j)], \n",
    "$$\n",
    "is the **covariance** between asset $i$ and $j$ and where $\\mu_i$ and $\\mu_j$ denote \n",
    "the mean returns of asset $i$ and $j$, respectively. In particular, if we let \n",
    "$$\n",
    "\\rho_{ij} := \\frac{\\text{cov}(R_i,R_j)}{\\sigma_i \\sigma_j} = \\frac{\\text{cov}(i,j)}{\\sigma_i \\sigma_j}, \n",
    "$$\n",
    "denote the **correlation coefficient** between asset $i$ and asset $j$, then the volatilityt of a $2$ asset portfolio becomes:\n",
    "$$\n",
    "\\sigma_p = \n",
    "\\sqrt{ w_i^2 \\sigma_1^2 + w_2^2 \\sigma_2^2 + 2w_1 w_2 \\sigma_1 \\sigma_2 \\rho_{ij} }\n",
    "$$\n",
    "\n",
    "\n",
    "**covariance matrix** $\\Sigma$ is a symmetric square $K\\times K$ matrix, $\\Sigma = [\\sigma_{ij}]$, \n",
    "where element $\\sigma_{ij}= \\sigma_i \\sigma_j \\rho_{ij}$ is the **covariance** between asset $i$ and asset $j$. \n",
    "Here, $\\rho_{ij}$ is the **correlation coefficient** between asset $i$ and asset $j$ defined as\n",
    "$$\n",
    "\\rho_{ij} = \\frac{\\text{cov}(i,j)}{\\sigma_i \\sigma_j} = \\frac{\\mathbb{E}[(R_i-\\mu_i)(R_j - \\mu_j)]}{\\sigma_i \\sigma_j},\n",
    "$$\n",
    "where, $\\mu_i$ and $\\mu_j$ are the mean returns of asset $i$ and $j$, respectively.\n",
    "If $i=j$, $\\sigma_{ii}=\\sigma_i^2$ (as $rho_{ii}=1$) which is simplt the variance of asset $i$. \n"
   ]
  },
  {
   "cell_type": "code",
   "execution_count": null,
   "metadata": {},
   "outputs": [],
   "source": []
  }
 ],
 "metadata": {
  "kernelspec": {
   "display_name": "Python 3",
   "language": "python",
   "name": "python3"
  },
  "language_info": {
   "codemirror_mode": {
    "name": "ipython",
    "version": 3
   },
   "file_extension": ".py",
   "mimetype": "text/x-python",
   "name": "python",
   "nbconvert_exporter": "python",
   "pygments_lexer": "ipython3",
   "version": "3.7.1"
  }
 },
 "nbformat": 4,
 "nbformat_minor": 2
}
