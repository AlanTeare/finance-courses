{
 "cells": [
  {
   "cell_type": "markdown",
   "metadata": {},
   "source": [
    "# Week 2"
   ]
  },
  {
   "cell_type": "code",
   "execution_count": 1,
   "metadata": {},
   "outputs": [],
   "source": [
    "import pandas as pd\n",
    "import numpy as np\n",
    "import matplotlib.pyplot as plt\n",
    "import scipy.stats \n",
    "from pandas_datareader import data \n",
    "from datetime import datetime\n",
    "from scipy.optimize import minimize"
   ]
  },
  {
   "cell_type": "code",
   "execution_count": 83,
   "metadata": {},
   "outputs": [
    {
     "name": "stdout",
     "output_type": "stream",
     "text": [
      "The autoreload extension is already loaded. To reload it, use:\n",
      "  %reload_ext autoreload\n"
     ]
    }
   ],
   "source": [
    "%load_ext autoreload\n",
    "%autoreload 2\n",
    "%matplotlib inline"
   ]
  },
  {
   "cell_type": "code",
   "execution_count": 84,
   "metadata": {},
   "outputs": [],
   "source": [
    "import edhec_risk_kit as erk"
   ]
  },
  {
   "cell_type": "code",
   "execution_count": 85,
   "metadata": {},
   "outputs": [],
   "source": [
    "# using seaborn style (type plt.style.available to see available styles)\n",
    "plt.style.use(\"seaborn-dark\")"
   ]
  },
  {
   "cell_type": "markdown",
   "metadata": {},
   "source": [
    "## Modern portfolio theory (MPT)\n",
    "\n",
    "The **Modern portfolio theory (MPT)** is a mathematical framework **for assembling a portfolio of assets such that the expected return is maximized for a given level of volatility**. It is a formalization of **diversification in investing**, i.e., the idea that owning different kinds of financial assets is less risky than owning only one type. \n",
    "\n",
    "### Efficient Frontiers \n",
    "\n",
    "In the MPT, The **efficient frontier** is an a curve which occupies the *efficient* part of the **volatility-return** plane. \n",
    "Formally, it is the set of portfolios which satisfy the condition that no other portfolio exists with a higher expected \n",
    "return but with the same standard deviation of return. \n",
    "\n",
    "The efficient frontier was first formulated by **Harry Markowitz** (1952).\n",
    "\n",
    "### How it works\n",
    "We have to construct a portfolio of several assets and **we want to find the optimal percentage of investments to be allocated in these assets** so that the overall (expected) return of such a portfolio is maximixed for a given level of volatility. \n",
    "\n",
    "Hence, suppose that **we have $k > 1$ assets**, and we decide to invest all of our capital in these assets. \n",
    "\n",
    "Let $\\mathbf{w}:=(w_1,\\dots,w_K)^T$, with $w_i\\in (0,1)$ for all $i=1,\\dots,K$, \n",
    "be the percentages of investment our portfolio, i.e, $w_i$ is the proportion of investiment in asset $i$. \n",
    "There holds $\\sum_{i=1}^K w_i = 1$. \n",
    "\n",
    "Let $R_i$ and $R_p$ be the return of asset $i$ and the total return of the portfolio, respectively. \n",
    "Likewise, let $\\sigma_i$ and $\\sigma_p$ be the volatility of asset $i$ and the volatility of the portfolio, respectively. \n",
    "\n",
    "\n",
    "#### Return of a portfolio\n",
    "The **total return of the porfolio** is going to be a simple weigthed sum of the (total) returns of single assets, i.e.,\n",
    "$$\n",
    "R_p = \\sum_{i=1}^K w_i R_i = \\mathbf{w}^T \\mathbf{R},\n",
    "$$\n",
    "where $\\mathbf{R} := (R_1,\\dots,R_K)^T$.\n",
    "\n",
    "\n",
    "#### Volatility of a portfolio\n",
    "The **volatility of the porfolio** is computed as the (square root of the) variance of the weigthed sum of the returns of single assets. \n",
    "\n",
    "Let us make and axample with only two assets. We have $w_1$ and $w_2$ and two assets whose returns are $R_1$ and $R_2$. We have:\n",
    "$$\n",
    "\\sigma_p^2 =   \\text{Var}(w_1 R_1 + w_2 R_2) = \n",
    "w_1^2 \\text{Var}(R_1) + w_2^2\\text{Var}(R_2) + 2w_1 w_2\\text{cov}(R_1,R_2) =\n",
    "w_1^2 \\sigma_1^2 + w_2^2\\sigma_2^2 + 2w_1 w_2\\text{cov}(R_1,R_2), \n",
    "$$\n",
    "where \n",
    "$$\n",
    "\\text{cov}(R_1,R_2) := \\mathbb{E}[(R_i-\\mu_i)(R_j - \\mu_j)], \n",
    "$$\n",
    "is the **covariance** between asset $i$ and $j$ and where $\\mu_i$ and $\\mu_j$ denote \n",
    "the mean returns of assets $i$ and $j$, respectively. In particular, if we let \n",
    "$$\n",
    "\\rho_{ij} := \\frac{\\text{cov}(R_i,R_j)}{\\sigma_i \\sigma_j} = \\frac{\\text{cov}(i,j)}{\\sigma_i \\sigma_j}, \n",
    "$$\n",
    "denote the **correlation coefficient** between assets $i$ and asset $j$, then the volatilityt of a $2$ assets portfolio becomes:\n",
    "$$\n",
    "\\sigma_p = \n",
    "\\sqrt{ w_i^2 \\sigma_1^2 + w_2^2 \\sigma_2^2 + 2w_1 w_2 \\sigma_1 \\sigma_2 \\rho_{ij} }. \n",
    "$$\n",
    "\n",
    "\n",
    "Now, in case of $K$ assets, we can express the volatility as follows. \n",
    "Let $\\Sigma$ be the **covariance matrix**, that is, a symmetric square $K\\times K$ matrix, $\\Sigma = [\\sigma_{ij}]$, \n",
    "where each element $\\sigma_{ij} := \\sigma_i \\sigma_j \\rho_{ij}$ ($i,j=1,\\dots,K$) denote the **covariance** between assets $i$ and asset $j$, \n",
    "where $\\sigma_i$, $\\sigma_j$, and $\\rho_{ij}$ denote the volatility and the correlation coefficient of assets $i$ and $j$, respectively. \n",
    "If $i=j$, $\\sigma_{ii}=\\sigma_i^2$ is simply the variance of asset $i$ (**diagonal entries are simply the variances**).\n",
    "\n",
    "The resulting volatility is then given by:\n",
    "$$\n",
    "\\sigma_p = \\sqrt{ \\mathbf{w}^T \\Sigma \\mathbf{w} }\n",
    "$$\n"
   ]
  },
  {
   "cell_type": "markdown",
   "metadata": {},
   "source": [
    "### Efficient frontiers of 2-assets portfoliso \n",
    "In the following we do a very artificial example in order to see the curve that is drawn by different portfolios which \n",
    "are constructed with only $2$ assets with different correalation $\\rho_{12}$. \n",
    "First of all, we assume to generate $500$ daily returns of $2$ assets:"
   ]
  },
  {
   "cell_type": "code",
   "execution_count": 5,
   "metadata": {},
   "outputs": [],
   "source": [
    "nret             = 500\n",
    "periods_per_year = 252\n",
    "risk_free_rate   = 0.0"
   ]
  },
  {
   "cell_type": "markdown",
   "metadata": {},
   "source": [
    "Then, we set up a value for the means and the volatility of our two artifical assets:"
   ]
  },
  {
   "cell_type": "code",
   "execution_count": 6,
   "metadata": {},
   "outputs": [],
   "source": [
    "mean_1 = 0.001019\n",
    "mean_2 = 0.001249\n",
    "vol_1  = 0.016317\n",
    "vol_2  = 0.019129"
   ]
  },
  {
   "cell_type": "markdown",
   "metadata": {},
   "source": [
    "and we set up the $6$ correlations of the two assets, and for every fixed correlation, \n",
    "we will generate $20$ portfolios by allocating $20$ pairs of weights:"
   ]
  },
  {
   "cell_type": "code",
   "execution_count": 7,
   "metadata": {},
   "outputs": [],
   "source": [
    "# Correlation goes from 1 (completely correlated) to -1 (conversely correlated)\n",
    "rhos  = np.linspace(1,-1,num=6) \n",
    "ncorr = len(rhos)\n",
    "\n",
    "# Pairs of weights to be used to construct the portfolios for any given correlation\n",
    "nweig = 20\n",
    "w1 = np.linspace(0,1,num=nweig)\n",
    "w2 = 1 - np.linspace(0,1,num=nweig)\n",
    "ww = pd.DataFrame( [w1, w2] ).T  "
   ]
  },
  {
   "cell_type": "code",
   "execution_count": 8,
   "metadata": {},
   "outputs": [
    {
     "data": {
      "image/png": "[encoded data removed]",
      "text/plain": [
       "<Figure size 1440x288 with 7 Axes>"
      ]
     },
     "metadata": {},
     "output_type": "display_data"
    }
   ],
   "source": [
    "# Set seed\n",
    "np.random.seed(1)\n",
    "\n",
    "# Open the figure\n",
    "fig, ax = plt.subplots(1,6, figsize=(20,4))    \n",
    "ax = ax.flatten()\n",
    "\n",
    "for k_rho, rho in enumerate(rhos):\n",
    "    # Allocate an empty portfolio \n",
    "    portfolio = pd.DataFrame(columns=[\"return\",\"volatility\",\"sharpe ratio\"])\n",
    "\n",
    "    # Generate the assets' returns with the given correlation rho\n",
    "    cov_ij     = rho * vol_1 * vol_2\n",
    "    cov_rets   = pd.DataFrame( [[vol_1**2, cov_ij], [cov_ij, vol_2**2]] )\n",
    "    daily_rets = pd.DataFrame( np.random.multivariate_normal((mean_1,mean_2), cov_rets.values, nret) )\n",
    "    \n",
    "    for i in range(ww.shape[0]):\n",
    "        # Now, construct the portfolio of two asset with correlation rho and weights ww.loc[i]\n",
    "        weights = ww.loc[i] \n",
    "        # here, weights is a column vector (pd.Series)\n",
    "\n",
    "        # annualized portfolio returns\n",
    "        ann_rets      = erk.annualize_rets(daily_rets, periods_per_year)\n",
    "        portfolio_ret = erk.portfolio_return(weights, ann_rets)        \n",
    "\n",
    "        # annualized portfolio volatility\n",
    "        portfolio_vol = erk.portfolio_volatility(weights, cov_rets)\n",
    "        portfolio_vol = erk.annualize_vol(portfolio_vol, periods_per_year)\n",
    "\n",
    "        # annualized portfolio sharpe ratio\n",
    "        portfolio_spr = erk.sharpe_ratio(portfolio_ret, risk_free_rate, periods_per_year, v=portfolio_vol)\n",
    "\n",
    "        # dataframe containing the return, volatility, and the sharpe ratio of the portfolio constructed   \n",
    "        portfolio = portfolio.append( {\"return\":portfolio_ret, \"volatility\": portfolio_vol, \"sharpe ratio\":portfolio_spr}, ignore_index=True)\n",
    "\n",
    "    # plot create scatter plot coloured by Sharpe Ratio\n",
    "    im = ax[k_rho].scatter(portfolio[\"volatility\"]*100, portfolio[\"return\"]*100, c=w2, cmap='RdYlBu') \n",
    "    ax[k_rho].grid()\n",
    "    ax[k_rho].set_title(\"Correlation: {}\".format(np.round(rho,2)), y=0.9, loc='left')\n",
    "    ax[k_rho].set_xlabel(\"volatility (%)\")\n",
    "    if k_rho==0: ax[k_rho].set_ylabel(\"return (%)\") \n",
    "    ax[k_rho].set_xlim([0,32])\n",
    "    ax[k_rho].set_ylim([0,95])\n",
    "    \n",
    "fig.colorbar(im, ax=ax.ravel().tolist())\n",
    "plt.show()"
   ]
  },
  {
   "cell_type": "markdown",
   "metadata": {},
   "source": [
    "For any given correlation, each point represents the pair (return, volatility) of a portfolio constructed with some percentage allocation. \n",
    "This can be seen in the colorbar: **red corresponds to $\\mathbf{w} = (1,0)$**, i.e., allocation of money only to the first asset, whereas \n",
    "**blue corresponds to $\\mathbf{w} = (0,1)$**, i.e., allocation of money only ot the second asset.  \n",
    "\n",
    "We can see that **the lower the correlation between the assets, the better the trade-off between return and volatility**: in this example, \n",
    "when $\\rho=-1$, we could in principle construct a portfolio which guarantee about $30\\%$ of return with almost no volatility."
   ]
  },
  {
   "cell_type": "markdown",
   "metadata": {},
   "source": [
    "### Example from the real world: US stocks\n",
    "Now we will get the timeseries of some US economy stocks and see how to construct a portfolio in an efficient way."
   ]
  },
  {
   "cell_type": "code",
   "execution_count": 28,
   "metadata": {},
   "outputs": [],
   "source": [
    "tickers  = ['AMZN','KO','MSFT']\n",
    "n_assets = len(tickers) \n",
    "\n",
    "stocks = pd.DataFrame()\n",
    "for stock_name in tickers:\n",
    "    # daily data\n",
    "    stocks[stock_name] = data.DataReader(stock_name, data_source=\"yahoo\", start=datetime(2010,1,1))[\"Adj Close\"]    "
   ]
  },
  {
   "cell_type": "code",
   "execution_count": 29,
   "metadata": {},
   "outputs": [
    {
     "data": {
      "text/html": [
       "<div>\n",
       "<style scoped>\n",
       "    .dataframe tbody tr th:only-of-type {\n",
       "        vertical-align: middle;\n",
       "    }\n",
       "\n",
       "    .dataframe tbody tr th {\n",
       "        vertical-align: top;\n",
       "    }\n",
       "\n",
       "    .dataframe thead th {\n",
       "        text-align: right;\n",
       "    }\n",
       "</style>\n",
       "<table border=\"1\" class=\"dataframe\">\n",
       "  <thead>\n",
       "    <tr style=\"text-align: right;\">\n",
       "      <th></th>\n",
       "      <th>AMZN</th>\n",
       "      <th>KO</th>\n",
       "      <th>MSFT</th>\n",
       "    </tr>\n",
       "    <tr>\n",
       "      <th>Date</th>\n",
       "      <th></th>\n",
       "      <th></th>\n",
       "      <th></th>\n",
       "    </tr>\n",
       "  </thead>\n",
       "  <tbody>\n",
       "    <tr>\n",
       "      <th>2019-10-10</th>\n",
       "      <td>1720.260010</td>\n",
       "      <td>53.660000</td>\n",
       "      <td>139.100006</td>\n",
       "    </tr>\n",
       "    <tr>\n",
       "      <th>2019-10-11</th>\n",
       "      <td>1731.920044</td>\n",
       "      <td>53.299999</td>\n",
       "      <td>139.679993</td>\n",
       "    </tr>\n",
       "    <tr>\n",
       "      <th>2019-10-14</th>\n",
       "      <td>1736.430054</td>\n",
       "      <td>53.299999</td>\n",
       "      <td>139.550003</td>\n",
       "    </tr>\n",
       "    <tr>\n",
       "      <th>2019-10-15</th>\n",
       "      <td>1767.380005</td>\n",
       "      <td>53.509998</td>\n",
       "      <td>141.570007</td>\n",
       "    </tr>\n",
       "    <tr>\n",
       "      <th>2019-10-16</th>\n",
       "      <td>1777.430054</td>\n",
       "      <td>53.490002</td>\n",
       "      <td>140.410004</td>\n",
       "    </tr>\n",
       "  </tbody>\n",
       "</table>\n",
       "</div>"
      ],
      "text/plain": [
       "                   AMZN         KO        MSFT\n",
       "Date                                          \n",
       "2019-10-10  1720.260010  53.660000  139.100006\n",
       "2019-10-11  1731.920044  53.299999  139.679993\n",
       "2019-10-14  1736.430054  53.299999  139.550003\n",
       "2019-10-15  1767.380005  53.509998  141.570007\n",
       "2019-10-16  1777.430054  53.490002  140.410004"
      ]
     },
     "execution_count": 29,
     "metadata": {},
     "output_type": "execute_result"
    }
   ],
   "source": [
    "stocks.tail()"
   ]
  },
  {
   "cell_type": "code",
   "execution_count": 30,
   "metadata": {},
   "outputs": [
    {
     "data": {
      "text/html": [
       "<div>\n",
       "<style scoped>\n",
       "    .dataframe tbody tr th:only-of-type {\n",
       "        vertical-align: middle;\n",
       "    }\n",
       "\n",
       "    .dataframe tbody tr th {\n",
       "        vertical-align: top;\n",
       "    }\n",
       "\n",
       "    .dataframe thead th {\n",
       "        text-align: right;\n",
       "    }\n",
       "</style>\n",
       "<table border=\"1\" class=\"dataframe\">\n",
       "  <thead>\n",
       "    <tr style=\"text-align: right;\">\n",
       "      <th></th>\n",
       "      <th>AMZN</th>\n",
       "      <th>KO</th>\n",
       "      <th>MSFT</th>\n",
       "    </tr>\n",
       "    <tr>\n",
       "      <th>Date</th>\n",
       "      <th></th>\n",
       "      <th></th>\n",
       "      <th></th>\n",
       "    </tr>\n",
       "  </thead>\n",
       "  <tbody>\n",
       "    <tr>\n",
       "      <th>2019-10-10</th>\n",
       "      <td>-0.001005</td>\n",
       "      <td>-0.003158</td>\n",
       "      <td>0.006221</td>\n",
       "    </tr>\n",
       "    <tr>\n",
       "      <th>2019-10-11</th>\n",
       "      <td>0.006778</td>\n",
       "      <td>-0.006709</td>\n",
       "      <td>0.004170</td>\n",
       "    </tr>\n",
       "    <tr>\n",
       "      <th>2019-10-14</th>\n",
       "      <td>0.002604</td>\n",
       "      <td>0.000000</td>\n",
       "      <td>-0.000931</td>\n",
       "    </tr>\n",
       "    <tr>\n",
       "      <th>2019-10-15</th>\n",
       "      <td>0.017824</td>\n",
       "      <td>0.003940</td>\n",
       "      <td>0.014475</td>\n",
       "    </tr>\n",
       "    <tr>\n",
       "      <th>2019-10-16</th>\n",
       "      <td>0.005686</td>\n",
       "      <td>-0.000374</td>\n",
       "      <td>-0.008194</td>\n",
       "    </tr>\n",
       "  </tbody>\n",
       "</table>\n",
       "</div>"
      ],
      "text/plain": [
       "                AMZN        KO      MSFT\n",
       "Date                                    \n",
       "2019-10-10 -0.001005 -0.003158  0.006221\n",
       "2019-10-11  0.006778 -0.006709  0.004170\n",
       "2019-10-14  0.002604  0.000000 -0.000931\n",
       "2019-10-15  0.017824  0.003940  0.014475\n",
       "2019-10-16  0.005686 -0.000374 -0.008194"
      ]
     },
     "execution_count": 30,
     "metadata": {},
     "output_type": "execute_result"
    }
   ],
   "source": [
    "# compute the daily returns \n",
    "daily_rets = erk.compute_returns(stocks)\n",
    "daily_rets.tail()"
   ]
  },
  {
   "cell_type": "code",
   "execution_count": 31,
   "metadata": {},
   "outputs": [
    {
     "data": {
      "text/html": [
       "<div>\n",
       "<style scoped>\n",
       "    .dataframe tbody tr th:only-of-type {\n",
       "        vertical-align: middle;\n",
       "    }\n",
       "\n",
       "    .dataframe tbody tr th {\n",
       "        vertical-align: top;\n",
       "    }\n",
       "\n",
       "    .dataframe thead th {\n",
       "        text-align: right;\n",
       "    }\n",
       "</style>\n",
       "<table border=\"1\" class=\"dataframe\">\n",
       "  <thead>\n",
       "    <tr style=\"text-align: right;\">\n",
       "      <th></th>\n",
       "      <th>AMZN</th>\n",
       "      <th>KO</th>\n",
       "      <th>MSFT</th>\n",
       "    </tr>\n",
       "  </thead>\n",
       "  <tbody>\n",
       "    <tr>\n",
       "      <th>AMZN</th>\n",
       "      <td>0.000387</td>\n",
       "      <td>0.000047</td>\n",
       "      <td>0.000139</td>\n",
       "    </tr>\n",
       "    <tr>\n",
       "      <th>KO</th>\n",
       "      <td>0.000047</td>\n",
       "      <td>0.000087</td>\n",
       "      <td>0.000050</td>\n",
       "    </tr>\n",
       "    <tr>\n",
       "      <th>MSFT</th>\n",
       "      <td>0.000139</td>\n",
       "      <td>0.000050</td>\n",
       "      <td>0.000208</td>\n",
       "    </tr>\n",
       "  </tbody>\n",
       "</table>\n",
       "</div>"
      ],
      "text/plain": [
       "          AMZN        KO      MSFT\n",
       "AMZN  0.000387  0.000047  0.000139\n",
       "KO    0.000047  0.000087  0.000050\n",
       "MSFT  0.000139  0.000050  0.000208"
      ]
     },
     "execution_count": 31,
     "metadata": {},
     "output_type": "execute_result"
    }
   ],
   "source": [
    "# compute the mean daily returns and the covariance of daily returns of the two assets\n",
    "mean_rets = daily_rets.mean()\n",
    "std_rets  = daily_rets.std()\n",
    "cov_rets  = daily_rets.cov()\n",
    "cov_rets"
   ]
  },
  {
   "cell_type": "markdown",
   "metadata": {},
   "source": [
    "Now we simulate $4000$ portfolios with weights allocated to the stocks above:"
   ]
  },
  {
   "cell_type": "code",
   "execution_count": 34,
   "metadata": {},
   "outputs": [],
   "source": [
    "periods_per_year = 252\n",
    "num_portfolios   = 4000\n",
    "portfolios       = pd.DataFrame(columns=[\"return\",\"volatility\",\"sharpe ratio\",\"w1\",\"w2\",\"w3\"])\n",
    "risk_free_rate   = 0"
   ]
  },
  {
   "cell_type": "code",
   "execution_count": 35,
   "metadata": {},
   "outputs": [],
   "source": [
    "for i in range(num_portfolios):\n",
    "    # select random weights\n",
    "    weights = np.random.random(n_assets)\n",
    "    # and rescale them to sum to 1\n",
    "    weights /= np.sum(weights)\n",
    "    \n",
    "    # annualized portfolio returns\n",
    "    ann_rets      = erk.annualize_rets(daily_rets, periods_per_year)\n",
    "    portfolio_ret = erk.portfolio_return(weights, ann_rets)        \n",
    "\n",
    "    # annualized portfolio volatility\n",
    "    portfolio_vol = erk.portfolio_volatility(weights, cov_rets)\n",
    "    portfolio_vol = erk.annualize_vol(portfolio_vol, periods_per_year)\n",
    "\n",
    "    # annualized portfolio sharpe ratio\n",
    "    portfolio_spr = erk.sharpe_ratio(portfolio_ret, risk_free_rate, periods_per_year, v=portfolio_vol)\n",
    "    \n",
    "    # create dataframe   \n",
    "    portfolios = portfolios.append( {\"return\":portfolio_ret, \n",
    "                                     \"volatility\":portfolio_vol, \n",
    "                                     \"sharpe ratio\":portfolio_spr, \n",
    "                                     \"w1\": weights[0], \"w2\": weights[1], \"w3\": weights[2]}, \n",
    "                                     ignore_index=True)"
   ]
  },
  {
   "cell_type": "markdown",
   "metadata": {},
   "source": [
    "Now we create a scatter plot coloured by sharpe ratios of the portfolios generated above and we also plot the efficient frontier "
   ]
  },
  {
   "cell_type": "code",
   "execution_count": 91,
   "metadata": {},
   "outputs": [
    {
     "data": {
      "image/png": "[encoded data removed]",
      "text/plain": [
       "<Figure size 720x432 with 2 Axes>"
      ]
     },
     "metadata": {},
     "output_type": "display_data"
    }
   ],
   "source": [
    "fig, ax = plt.subplots(1,1, figsize=(10,6)) \n",
    "\n",
    "im = ax.scatter(portfolios[\"volatility\"], portfolios[\"return\"], c=portfolios[\"sharpe ratio\"], s=20, edgecolor=None, cmap='RdYlBu')\n",
    "ax.set_title(\"Portfolios and efficient frontier\")\n",
    "ax.set_xlabel(\"volatility\")\n",
    "ax.set_ylabel(\"return\")\n",
    "ax.grid()\n",
    "\n",
    "# Draw the efficient frontier\n",
    "df = erk.efficient_frontier(50, daily_rets, cov_rets, periods_per_year)\n",
    "df.plot.line(x=\"volatility\", y=\"return\", style=\"--\", color=\"coral\", ax=ax, grid=True, label=\"Efficient frontier\")\n",
    "ax.set_xlim([0.125,0.31])\n",
    "\n",
    "fig.colorbar(im, ax=ax)\n",
    "plt.show()"
   ]
  },
  {
   "cell_type": "markdown",
   "metadata": {},
   "source": [
    "**We will come back to the plot of the efficient frontier below**.\n",
    "\n",
    "We can see that if the investor is targeting **a return of $20\\%$** he could simply hold \n",
    "a portfolio **with volatility of about $18\\%$**, although there are many other portfolios that \n",
    "can guarantee the same return but with much higher volatilities such as $28\\%$. \n",
    "It is clear that one should carefully choose the weights of the portfolio. \n",
    "\n",
    "We can see, in particular, that there are two *important* portfolios:\n",
    "\n",
    "1. the **portfolio with the lowest volatility**, i.e., the minimum variance portfolio\n",
    "2. the **portfolio with the highest sharpe ratio**.\n",
    "\n",
    "From the code above we can easily locate these two portfolios in our dataframe by looking at the lowest volatility and highest sharpe ratio \n",
    "and and recover the corresponding weights that have been stored."
   ]
  },
  {
   "cell_type": "code",
   "execution_count": 92,
   "metadata": {},
   "outputs": [],
   "source": [
    "# find the portfolio with lowest volatility \n",
    "low_vol_portfolio = portfolios.iloc[ portfolios['volatility'].idxmin() ]\n",
    "\n",
    "# find the portfolio with highest sharpe ratio\n",
    "high_sharpe_portfolio = portfolios.iloc[ portfolios['sharpe ratio'].idxmax() ]"
   ]
  },
  {
   "cell_type": "code",
   "execution_count": 99,
   "metadata": {},
   "outputs": [
    {
     "data": {
      "image/png": "[encoded data removed]",
      "text/plain": [
       "<Figure size 720x432 with 2 Axes>"
      ]
     },
     "metadata": {},
     "output_type": "display_data"
    }
   ],
   "source": [
    "fig, ax = plt.subplots(1,1, figsize=(10,6)) \n",
    "\n",
    "im = ax.scatter(portfolios[\"volatility\"], portfolios[\"return\"], c=portfolios[\"sharpe ratio\"], s=20, edgecolor=None, label=None, cmap='RdYlBu')\n",
    "ax.set_title(\"Portfolios and efficient frontier\")\n",
    "ax.set_xlabel(\"volatility\")\n",
    "ax.set_ylabel(\"return\")\n",
    "ax.grid()\n",
    "\n",
    "# Draw the efficient frontier\n",
    "df.plot.line(x=\"volatility\", y=\"return\", style=\"--\", color=\"coral\", ax=ax, grid=True, label=\"Efficient frontier\")\n",
    "\n",
    "ax.scatter(low_vol_portfolio[1],     low_vol_portfolio[0],     marker=\"X\", color='g', s=120, label=\"min. volatility port.\")\n",
    "ax.scatter(high_sharpe_portfolio[1], high_sharpe_portfolio[0], marker=\"X\", color='r', s=120, label=\"highest sharpe port.\")\n",
    "\n",
    "ax.set_xlim([0.125,0.31])\n",
    "ax.legend()\n",
    "\n",
    "fig.colorbar(im, ax=ax)\n",
    "plt.show()"
   ]
  },
  {
   "cell_type": "code",
   "execution_count": null,
   "metadata": {},
   "outputs": [],
   "source": []
  },
  {
   "cell_type": "code",
   "execution_count": null,
   "metadata": {},
   "outputs": [],
   "source": []
  },
  {
   "cell_type": "code",
   "execution_count": null,
   "metadata": {},
   "outputs": [],
   "source": []
  },
  {
   "cell_type": "code",
   "execution_count": null,
   "metadata": {},
   "outputs": [],
   "source": []
  },
  {
   "cell_type": "code",
   "execution_count": 405,
   "metadata": {},
   "outputs": [
    {
     "name": "stdout",
     "output_type": "stream",
     "text": [
      "[0.14210245 0.64130619 0.03107898 0.18551238]\n",
      "14.62870641820395\n",
      "15.161599999201133\n"
     ]
    }
   ],
   "source": [
    "ww = minimize_volatility(0.151616, erk.annualize_rets(daily_rets, periods_per_year), cov_rets)\n",
    "vv = erk.annualize_vol( erk.portfolio_volatility(ww, cov_rets), periods_per_year) \n",
    "rr = erk.portfolio_return(ww, erk.annualize_rets(daily_rets, periods_per_year))\n",
    "print(ww)\n",
    "print(vv*100)\n",
    "print(rr*100)"
   ]
  },
  {
   "cell_type": "code",
   "execution_count": null,
   "metadata": {},
   "outputs": [],
   "source": []
  },
  {
   "cell_type": "code",
   "execution_count": null,
   "metadata": {},
   "outputs": [],
   "source": []
  },
  {
   "cell_type": "code",
   "execution_count": null,
   "metadata": {},
   "outputs": [],
   "source": []
  },
  {
   "cell_type": "markdown",
   "metadata": {},
   "source": [
    "### Finding the optimal portfolios: minimizing the volatility \n",
    "\n",
    "In the experiments above, we found the optimal portfolios, i.e., the ones on the efficient frontier, by **simulating a high number of portfolios** and then plotting them. From the plot we could see what the efficient frontier looked like. \n",
    "However, we can find an optimal portfolio on the efficient frontier by **solving a minimization problem**, \n",
    "for example, through the **scipy optimize** method. \n",
    "\n",
    "That is, we want to **find the portfolio (on the efficient frontier) which has the minimum volatility for a given level of return**. \n",
    "The minimization problem is:\n",
    "$$\n",
    "\\text{minimize} \\;\\; \\frac{1}{2} \\mathbf{w}^T\\Sigma\\mathbf{w}, \n",
    "$$\n",
    "subject to \n",
    "$$\n",
    "\\begin{cases}\n",
    "\\mathbf{w}^T \\mathbf{R} = R_0, \\\\\n",
    "\\mathbf{w}^T \\mathbf{1} = 1, \\\\\n",
    "0 \\leq \\mathbf{w} \\leq 1.\n",
    "\\end{cases}\n",
    "$$\n",
    "\n",
    "Here, $R_0$ is a known level of expected return. \n",
    "\n",
    "Let us consider the following data set of **industry monthly returns**:"
   ]
  },
  {
   "cell_type": "code",
   "execution_count": 102,
   "metadata": {},
   "outputs": [
    {
     "data": {
      "text/html": [
       "<div>\n",
       "<style scoped>\n",
       "    .dataframe tbody tr th:only-of-type {\n",
       "        vertical-align: middle;\n",
       "    }\n",
       "\n",
       "    .dataframe tbody tr th {\n",
       "        vertical-align: top;\n",
       "    }\n",
       "\n",
       "    .dataframe thead th {\n",
       "        text-align: right;\n",
       "    }\n",
       "</style>\n",
       "<table border=\"1\" class=\"dataframe\">\n",
       "  <thead>\n",
       "    <tr style=\"text-align: right;\">\n",
       "      <th></th>\n",
       "      <th>Food</th>\n",
       "      <th>Beer</th>\n",
       "      <th>Smoke</th>\n",
       "      <th>Games</th>\n",
       "      <th>Books</th>\n",
       "      <th>Hshld</th>\n",
       "      <th>Clths</th>\n",
       "      <th>Hlth</th>\n",
       "      <th>Chems</th>\n",
       "      <th>Txtls</th>\n",
       "      <th>...</th>\n",
       "      <th>Telcm</th>\n",
       "      <th>Servs</th>\n",
       "      <th>BusEq</th>\n",
       "      <th>Paper</th>\n",
       "      <th>Trans</th>\n",
       "      <th>Whlsl</th>\n",
       "      <th>Rtail</th>\n",
       "      <th>Meals</th>\n",
       "      <th>Fin</th>\n",
       "      <th>Other</th>\n",
       "    </tr>\n",
       "  </thead>\n",
       "  <tbody>\n",
       "    <tr>\n",
       "      <th>2018-08-01</th>\n",
       "      <td>-0.0038</td>\n",
       "      <td>-0.0186</td>\n",
       "      <td>-0.0543</td>\n",
       "      <td>0.0289</td>\n",
       "      <td>-0.0447</td>\n",
       "      <td>0.0254</td>\n",
       "      <td>0.0526</td>\n",
       "      <td>0.0446</td>\n",
       "      <td>0.0001</td>\n",
       "      <td>0.0380</td>\n",
       "      <td>...</td>\n",
       "      <td>0.0295</td>\n",
       "      <td>0.0524</td>\n",
       "      <td>0.0993</td>\n",
       "      <td>-0.0034</td>\n",
       "      <td>0.0291</td>\n",
       "      <td>0.0366</td>\n",
       "      <td>0.0911</td>\n",
       "      <td>0.0364</td>\n",
       "      <td>0.0245</td>\n",
       "      <td>0.0299</td>\n",
       "    </tr>\n",
       "    <tr>\n",
       "      <th>2018-09-01</th>\n",
       "      <td>-0.0032</td>\n",
       "      <td>0.0019</td>\n",
       "      <td>0.0537</td>\n",
       "      <td>-0.0009</td>\n",
       "      <td>-0.0221</td>\n",
       "      <td>0.0107</td>\n",
       "      <td>0.0130</td>\n",
       "      <td>0.0199</td>\n",
       "      <td>-0.0287</td>\n",
       "      <td>-0.0638</td>\n",
       "      <td>...</td>\n",
       "      <td>0.0174</td>\n",
       "      <td>-0.0037</td>\n",
       "      <td>-0.0033</td>\n",
       "      <td>-0.0030</td>\n",
       "      <td>0.0105</td>\n",
       "      <td>-0.0148</td>\n",
       "      <td>0.0061</td>\n",
       "      <td>0.0251</td>\n",
       "      <td>-0.0193</td>\n",
       "      <td>0.0116</td>\n",
       "    </tr>\n",
       "    <tr>\n",
       "      <th>2018-10-01</th>\n",
       "      <td>0.0102</td>\n",
       "      <td>-0.0157</td>\n",
       "      <td>0.0790</td>\n",
       "      <td>-0.1596</td>\n",
       "      <td>-0.0666</td>\n",
       "      <td>-0.0051</td>\n",
       "      <td>-0.1014</td>\n",
       "      <td>-0.0884</td>\n",
       "      <td>-0.1250</td>\n",
       "      <td>-0.2579</td>\n",
       "      <td>...</td>\n",
       "      <td>-0.0050</td>\n",
       "      <td>-0.0920</td>\n",
       "      <td>-0.0806</td>\n",
       "      <td>-0.0982</td>\n",
       "      <td>-0.0975</td>\n",
       "      <td>-0.0788</td>\n",
       "      <td>-0.1021</td>\n",
       "      <td>-0.0171</td>\n",
       "      <td>-0.0545</td>\n",
       "      <td>-0.0599</td>\n",
       "    </tr>\n",
       "    <tr>\n",
       "      <th>2018-11-01</th>\n",
       "      <td>0.0272</td>\n",
       "      <td>0.0579</td>\n",
       "      <td>-0.0843</td>\n",
       "      <td>-0.0065</td>\n",
       "      <td>0.0325</td>\n",
       "      <td>0.0644</td>\n",
       "      <td>-0.0099</td>\n",
       "      <td>0.0632</td>\n",
       "      <td>0.0496</td>\n",
       "      <td>0.0292</td>\n",
       "      <td>...</td>\n",
       "      <td>0.0254</td>\n",
       "      <td>0.0129</td>\n",
       "      <td>-0.0505</td>\n",
       "      <td>0.0822</td>\n",
       "      <td>0.0617</td>\n",
       "      <td>0.0318</td>\n",
       "      <td>0.0159</td>\n",
       "      <td>0.0616</td>\n",
       "      <td>0.0289</td>\n",
       "      <td>0.0348</td>\n",
       "    </tr>\n",
       "    <tr>\n",
       "      <th>2018-12-01</th>\n",
       "      <td>-0.0973</td>\n",
       "      <td>-0.0969</td>\n",
       "      <td>-0.1580</td>\n",
       "      <td>-0.0824</td>\n",
       "      <td>-0.1535</td>\n",
       "      <td>-0.0557</td>\n",
       "      <td>-0.0728</td>\n",
       "      <td>-0.0840</td>\n",
       "      <td>-0.0776</td>\n",
       "      <td>-0.1009</td>\n",
       "      <td>...</td>\n",
       "      <td>-0.0884</td>\n",
       "      <td>-0.0765</td>\n",
       "      <td>-0.0923</td>\n",
       "      <td>-0.0863</td>\n",
       "      <td>-0.1519</td>\n",
       "      <td>-0.1121</td>\n",
       "      <td>-0.0919</td>\n",
       "      <td>-0.0628</td>\n",
       "      <td>-0.1144</td>\n",
       "      <td>-0.0693</td>\n",
       "    </tr>\n",
       "  </tbody>\n",
       "</table>\n",
       "<p>5 rows × 30 columns</p>\n",
       "</div>"
      ],
      "text/plain": [
       "              Food    Beer   Smoke   Games   Books   Hshld   Clths    Hlth  \\\n",
       "2018-08-01 -0.0038 -0.0186 -0.0543  0.0289 -0.0447  0.0254  0.0526  0.0446   \n",
       "2018-09-01 -0.0032  0.0019  0.0537 -0.0009 -0.0221  0.0107  0.0130  0.0199   \n",
       "2018-10-01  0.0102 -0.0157  0.0790 -0.1596 -0.0666 -0.0051 -0.1014 -0.0884   \n",
       "2018-11-01  0.0272  0.0579 -0.0843 -0.0065  0.0325  0.0644 -0.0099  0.0632   \n",
       "2018-12-01 -0.0973 -0.0969 -0.1580 -0.0824 -0.1535 -0.0557 -0.0728 -0.0840   \n",
       "\n",
       "             Chems   Txtls  ...   Telcm   Servs   BusEq   Paper   Trans  \\\n",
       "2018-08-01  0.0001  0.0380  ...  0.0295  0.0524  0.0993 -0.0034  0.0291   \n",
       "2018-09-01 -0.0287 -0.0638  ...  0.0174 -0.0037 -0.0033 -0.0030  0.0105   \n",
       "2018-10-01 -0.1250 -0.2579  ... -0.0050 -0.0920 -0.0806 -0.0982 -0.0975   \n",
       "2018-11-01  0.0496  0.0292  ...  0.0254  0.0129 -0.0505  0.0822  0.0617   \n",
       "2018-12-01 -0.0776 -0.1009  ... -0.0884 -0.0765 -0.0923 -0.0863 -0.1519   \n",
       "\n",
       "             Whlsl   Rtail   Meals     Fin   Other  \n",
       "2018-08-01  0.0366  0.0911  0.0364  0.0245  0.0299  \n",
       "2018-09-01 -0.0148  0.0061  0.0251 -0.0193  0.0116  \n",
       "2018-10-01 -0.0788 -0.1021 -0.0171 -0.0545 -0.0599  \n",
       "2018-11-01  0.0318  0.0159  0.0616  0.0289  0.0348  \n",
       "2018-12-01 -0.1121 -0.0919 -0.0628 -0.1144 -0.0693  \n",
       "\n",
       "[5 rows x 30 columns]"
      ]
     },
     "execution_count": 102,
     "metadata": {},
     "output_type": "execute_result"
    }
   ],
   "source": [
    "ind = erk.get_ind_returns()\n",
    "ind.tail()"
   ]
  },
  {
   "cell_type": "markdown",
   "metadata": {},
   "source": [
    "Let us just plot the VaRs of the industry indices and their sharpe ratio."
   ]
  },
  {
   "cell_type": "code",
   "execution_count": 105,
   "metadata": {},
   "outputs": [
    {
     "data": {
      "image/png": "[encoded data removed]",
      "text/plain": [
       "<Figure size 1152x288 with 2 Axes>"
      ]
     },
     "metadata": {},
     "output_type": "display_data"
    }
   ],
   "source": [
    "fig, ax = plt.subplots(figsize=(20,4), nrows=1, ncols=2)\n",
    "erk.var_gaussian(ind[\"1990\":\"2018\"], cf=True).sort_values().plot.bar(grid=True, figsize=(16,4), ax=ax[0], title=\"Industry Gaussian VaRs 1990-2018\")\n",
    "erk.sharpe_ratio(ind[\"1990\":\"2018\"], 0.0, 12).sort_values().plot.bar(grid=True, figsize=(16,4), ax=ax[1], title=\"Industry sharpe ratios 1990-2018\", color=\"r\")\n",
    "plt.show()"
   ]
  },
  {
   "cell_type": "markdown",
   "metadata": {},
   "source": [
    "For example, let us consider a portfolio of the $4$ assets:"
   ]
  },
  {
   "cell_type": "code",
   "execution_count": 157,
   "metadata": {},
   "outputs": [
    {
     "data": {
      "text/html": [
       "<div>\n",
       "<style scoped>\n",
       "    .dataframe tbody tr th:only-of-type {\n",
       "        vertical-align: middle;\n",
       "    }\n",
       "\n",
       "    .dataframe tbody tr th {\n",
       "        vertical-align: top;\n",
       "    }\n",
       "\n",
       "    .dataframe thead th {\n",
       "        text-align: right;\n",
       "    }\n",
       "</style>\n",
       "<table border=\"1\" class=\"dataframe\">\n",
       "  <thead>\n",
       "    <tr style=\"text-align: right;\">\n",
       "      <th></th>\n",
       "      <th>Food</th>\n",
       "      <th>Smoke</th>\n",
       "      <th>Coal</th>\n",
       "      <th>Fin</th>\n",
       "    </tr>\n",
       "  </thead>\n",
       "  <tbody>\n",
       "    <tr>\n",
       "      <th>Food</th>\n",
       "      <td>0.001530</td>\n",
       "      <td>0.001423</td>\n",
       "      <td>0.000981</td>\n",
       "      <td>0.001284</td>\n",
       "    </tr>\n",
       "    <tr>\n",
       "      <th>Smoke</th>\n",
       "      <td>0.001423</td>\n",
       "      <td>0.004447</td>\n",
       "      <td>0.001174</td>\n",
       "      <td>0.001040</td>\n",
       "    </tr>\n",
       "    <tr>\n",
       "      <th>Coal</th>\n",
       "      <td>0.000981</td>\n",
       "      <td>0.001174</td>\n",
       "      <td>0.014545</td>\n",
       "      <td>0.002061</td>\n",
       "    </tr>\n",
       "    <tr>\n",
       "      <th>Fin</th>\n",
       "      <td>0.001284</td>\n",
       "      <td>0.001040</td>\n",
       "      <td>0.002061</td>\n",
       "      <td>0.003035</td>\n",
       "    </tr>\n",
       "  </tbody>\n",
       "</table>\n",
       "</div>"
      ],
      "text/plain": [
       "           Food     Smoke      Coal       Fin\n",
       "Food   0.001530  0.001423  0.000981  0.001284\n",
       "Smoke  0.001423  0.004447  0.001174  0.001040\n",
       "Coal   0.000981  0.001174  0.014545  0.002061\n",
       "Fin    0.001284  0.001040  0.002061  0.003035"
      ]
     },
     "execution_count": 157,
     "metadata": {},
     "output_type": "execute_result"
    }
   ],
   "source": [
    "periods_per_year = 12\n",
    "sectors          = [\"Food\",\"Smoke\",\"Coal\",\"Fin\"]\n",
    "monthly_rets     = erk.get_ind_returns()[\"1990\":][sectors]\n",
    "\n",
    "# covariance matrix\n",
    "covmat = monthly_rets.cov()\n",
    "covmat"
   ]
  },
  {
   "cell_type": "code",
   "execution_count": 161,
   "metadata": {},
   "outputs": [
    {
     "data": {
      "text/plain": [
       "Food     0.095838\n",
       "Smoke    0.116354\n",
       "Coal     0.029238\n",
       "Fin      0.099300\n",
       "dtype: float64"
      ]
     },
     "execution_count": 161,
     "metadata": {},
     "output_type": "execute_result"
    }
   ],
   "source": [
    "# Let us see the total returns of single companies we are investing in\n",
    "ann_rets = erk.annualize_rets(monthly_rets, periods_per_year)\n",
    "ann_rets"
   ]
  },
  {
   "cell_type": "code",
   "execution_count": 162,
   "metadata": {},
   "outputs": [],
   "source": [
    "# and suppose we target the following total expected return\n",
    "target_return = 0.10\n",
    "# which is a return between the minimum return (0.29% from Coal) and the maximum return (11.6% from Smoke) of our hypothetical portfolio"
   ]
  },
  {
   "cell_type": "markdown",
   "metadata": {},
   "source": [
    "Now, we can call our minimizer which solves the minimization problem of finding the weights of the portfolio with minimum volatility among those one yielding a given return."
   ]
  },
  {
   "cell_type": "code",
   "execution_count": 175,
   "metadata": {},
   "outputs": [
    {
     "name": "stdout",
     "output_type": "stream",
     "text": [
      "[6.56132452e-01 1.74256767e-01 1.10588622e-17 1.69610781e-01]\n"
     ]
    }
   ],
   "source": [
    "optimal_weights = erk.minimize_volatility(target_return, ann_rets, covmat)\n",
    "print(optimal_weights)"
   ]
  },
  {
   "cell_type": "markdown",
   "metadata": {},
   "source": [
    "Fine. We see that we basically have to assign **zero weight to Coal**. Let us compute the volatility of a portfolio constructed with these weights, and double check that the corresponding return is the target return that we have chosen (i.e., $10\\%$):"
   ]
  },
  {
   "cell_type": "code",
   "execution_count": 179,
   "metadata": {},
   "outputs": [
    {
     "name": "stdout",
     "output_type": "stream",
     "text": [
      "Portfolio return:     0.1000000000095908\n",
      "Portfolio volatility: 0.13653439937258807\n"
     ]
    }
   ],
   "source": [
    "vol = erk.portfolio_volatility(optimal_weights, covmat)\n",
    "vol = erk.annualize_vol(vol, periods_per_year)\n",
    "\n",
    "ret = erk.portfolio_return(optimal_weights, ann_rets)\n",
    "\n",
    "print(\"Portfolio return:     {}\" .format(ret))\n",
    "print(\"Portfolio volatility: {}\" .format(vol))"
   ]
  },
  {
   "cell_type": "markdown",
   "metadata": {},
   "source": [
    "Right, and now let us plot the efficient frontier with such a portfolio:"
   ]
  },
  {
   "cell_type": "code",
   "execution_count": 180,
   "metadata": {},
   "outputs": [
    {
     "data": {
      "image/png": "[encoded data removed]",
      "text/plain": [
       "<Figure size 576x288 with 1 Axes>"
      ]
     },
     "metadata": {},
     "output_type": "display_data"
    }
   ],
   "source": [
    "fig, ax = plt.subplots(1,1, figsize=(8,4)) \n",
    "\n",
    "# Draw the efficient frontier\n",
    "df = erk.efficient_frontier(50, monthly_rets, covmat, periods_per_year)\n",
    "df.plot.line(x=\"volatility\", y=\"return\", style=\"--\", color=\"coral\", ax=ax, grid=True, label=\"Efficient frontier\")\n",
    "\n",
    "ax.scatter(ann_vol, target_return,  marker=\"X\", color='g', s=120, label=\"min. volatility port.\")\n",
    "ax.set_xlim([0.12,0.43])\n",
    "ax.legend()\n",
    "\n",
    "plt.show()"
   ]
  },
  {
   "cell_type": "markdown",
   "metadata": {},
   "source": [
    "Recall that **the return of a portfolio will be some value between the minimum and the maximum return from the assets composing the portfolio**. That if, with the same four companies chosen, we could not achieve a return of, say $15\\%$ since the maximum return achievable is $11.6\\%$ from Smoke. \n",
    "\n",
    "In fact, if we run the minimizer with a target return equal to $15\\%$ we will get zero weights to each asset but Smoke:"
   ]
  },
  {
   "cell_type": "code",
   "execution_count": 181,
   "metadata": {},
   "outputs": [
    {
     "name": "stdout",
     "output_type": "stream",
     "text": [
      "[2.12614469e-16 1.00000000e+00 1.00760934e-18 3.36918501e-12]\n"
     ]
    }
   ],
   "source": [
    "optimal_weights = erk.minimize_volatility(0.15, ann_rets, covmat)\n",
    "print(optimal_weights)"
   ]
  },
  {
   "cell_type": "markdown",
   "metadata": {},
   "source": [
    "i.e., $w_2=1$ and $w_0=w_3=w_4=0$ as expected."
   ]
  },
  {
   "cell_type": "code",
   "execution_count": null,
   "metadata": {},
   "outputs": [],
   "source": []
  },
  {
   "cell_type": "markdown",
   "metadata": {},
   "source": [
    "### Finding the optimal portfolios: maximimzing the sharpe ratio \n",
    "\n",
    "What if we were to finding the portfolio (on the efficient frontier) with the highest sharpe ratio? \n",
    "Note that scipy offers a **minimize** method, but no a **maximize** a method, and we may then conclude \n",
    "that we are not able to find such a portfolio by solving an optimization problem. \n",
    "\n",
    "However, **the maximization of the sharpe ratio is nothing but the minimization of the negative sharpe ratio**. \n",
    "That is, given a certain level of volatility, \n",
    "\n",
    "\n",
    "we can find our portfolio by solving the minimization problem:\n",
    "$$\n",
    "\\text{minimize} \\;\\; -  \\frac{R_p - r_f}{\\sigma_p} =: \\text{SR} \n",
    "$$\n",
    "subject to \n",
    "$$\n",
    "\\begin{cases}\n",
    "\\mathbf{w}^T \\mathbf{R} = R_0, \\\\\n",
    "\\mathbf{w}^T \\mathbf{1} = 1, \\\\\n",
    "0 \\leq \\mathbf{w} \\leq 1.\n",
    "\\end{cases}\n",
    "$$\n",
    "\n",
    "Here, $R_0$ is a known level of expected return. \n",
    "\n",
    "Let us consider the following data set of **industry monthly returns**:"
   ]
  },
  {
   "cell_type": "code",
   "execution_count": null,
   "metadata": {},
   "outputs": [],
   "source": []
  },
  {
   "cell_type": "code",
   "execution_count": null,
   "metadata": {},
   "outputs": [],
   "source": []
  },
  {
   "cell_type": "markdown",
   "metadata": {},
   "source": []
  },
  {
   "cell_type": "code",
   "execution_count": null,
   "metadata": {},
   "outputs": [],
   "source": []
  }
 ],
 "metadata": {
  "kernelspec": {
   "display_name": "Python 3",
   "language": "python",
   "name": "python3"
  },
  "language_info": {
   "codemirror_mode": {
    "name": "ipython",
    "version": 3
   },
   "file_extension": ".py",
   "mimetype": "text/x-python",
   "name": "python",
   "nbconvert_exporter": "python",
   "pygments_lexer": "ipython3",
   "version": "3.7.1"
  }
 },
 "nbformat": 4,
 "nbformat_minor": 2
}
