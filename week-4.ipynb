{
 "cells": [
  {
   "cell_type": "code",
   "execution_count": 1,
   "metadata": {},
   "outputs": [],
   "source": [
    "import pandas as pd\n",
    "import numpy as np\n",
    "import matplotlib.pyplot as plt\n",
    "import ipywidgets as widgets"
   ]
  },
  {
   "cell_type": "code",
   "execution_count": 2,
   "metadata": {},
   "outputs": [],
   "source": [
    "%load_ext autoreload\n",
    "%autoreload 2\n",
    "%matplotlib inline"
   ]
  },
  {
   "cell_type": "code",
   "execution_count": 3,
   "metadata": {},
   "outputs": [],
   "source": [
    "import edhec_risk_kit as erk"
   ]
  },
  {
   "cell_type": "code",
   "execution_count": 4,
   "metadata": {},
   "outputs": [],
   "source": [
    "# using seaborn style (type plt.style.available to see available styles)\n",
    "plt.style.use(\"seaborn-dark\")"
   ]
  },
  {
   "cell_type": "markdown",
   "metadata": {},
   "source": [
    "## Time value of money - Present and future value\n",
    "\n",
    "We recall from week 1, that is, in general, for given a time frame $(t, t+k)$, with $k>1$, the **compound return** over the time frame is given by:\n",
    "$$\n",
    "R_{t,t+k} = (1+R_{t,t+1})(1+R_{t+1,t+2})\\cdots(1+R_{t+k-1,t+k}) - 1, \n",
    "$$\n",
    "and if single returns are all the same over time periods, say $R$, then the formula for compound retunrn simply becomes: \n",
    "$$\n",
    "R_{t,t+k} = (1+R)^{k} - 1.\n",
    "$$\n",
    "\n",
    "Therefore, if we suppose that $P_t$ was the price a t time $t$ and $P_{t+k}$ is the time when all returns have been compounded, we know that:\n",
    "$$\n",
    "P_{t+k} = P_t(1 + R_{t, t+k}) = \n",
    "\\begin{cases}\n",
    "& P_t \\; (1+R_{t,t+1})(1+R_{t+1,t+2})\\cdots(1+R_{t+k-1,t+k})\\;  & \\text{if returns are different}, \\\\\n",
    "& P_t \\; (1+R)^{k} \\;  & \\text{if all returns are equal to $R$}.\n",
    "\\end{cases}\n",
    "$$\n",
    "\n",
    "In general, we say that $P_{t+k}$ is the **future value (FV)** of the amount of money equal to $P_t$. Likewise, we say that \n",
    "$P_t$ is the **present value (PV)** of the amount of money $P_{t+k}$ due in the future (at time $t+k$).\n",
    "\n",
    "For example, $100\\$$ invested for one year and earning $5\\%$ interest will be worth $105\\$$ after one year. \n",
    "Therefore, **both $100\\$$ paid now and $105\\$$ paid exactly one year later have the same value to a recipient who expects $5\\%$ \n",
    "interest** (assuming that inflation would be zero): that is, $100\\$$ (PV) invested for one year at $5\\%$ \n",
    "interest has a future value (FV) of $105\\$$.\n",
    "\n",
    "Let us consider the case of equal returns $R$ over time. From the equation above we see that to obtain present value PV (i.e., \n",
    "the amount that we would have to invest today) we have to **discount** the future value FV (or payment amount) by the interest rate for the period. Hence:\n",
    "$$\n",
    "FV = PV(1 + R)^k\n",
    "\\qquad\\text{and}\\qquad\n",
    "PV = \\frac{FV}{(1 + R)^k}.\n",
    "$$\n",
    "\n",
    "**EXAMPLE**: suppose we are giving an option to receive $1000\\$$ today and receiving the same amount of $1000\\$$ in three years. \n",
    "*What we would choose?*\n",
    "\n",
    "**We should get the money today, of course**. In fact, receiving $1000\\$$ today means that the present value is $PV=1000$, and this amount could be invested and become bigger in three times. Suppose we invest it for three year at annual rate of $3\\%$. \n",
    "The future value of $1000\\%$ today will be \n",
    "$$\n",
    "FV = 1000 (1 + 0.03)^3 = 1.092.7\\$. \n",
    "$$\n",
    "If we instead decide to get the money in three years, basically the amount $1000\\%$ is already our future value. That is, supposing the same interest rate, the present value of $1000\\$$ in three years is:\n",
    "$$\n",
    "PV = \\frac{1000}{(1+0.03)^3} = 915,14\\$, \n",
    "$$\n",
    "and this means that today, we would accept less money ($915,14\\$ < 1000\\$$).\n",
    "\n",
    "\n",
    "**EXAMPLE**: suppose we are giving an option to receive $1000\\$$ today or receiving $1100\\$$ in three years. \n",
    "*What we would choose now?*\n",
    "\n",
    "This is more difficult now, because we get $1000\\$$ we may end up with an amount of money which is less than $1152$ in three years. \n",
    "In fact, if we suppose that our hypotetical investment still guarantee an annual $3\\%$ interest rate, it means that the present value of \n",
    "$1150\\$$ after three years is:\n",
    "$$\n",
    "PV = \\frac{1150}{(1+0.03)^3} = 1052.41\\$.\n",
    "$$\n",
    "That is, taking $1150\\$$ in three years is equivalent get $1052.41\\$$ today, which is an amount larger than $1000\\$$. \n",
    "**We will then decide to get the money later**.\n",
    "\n",
    "### Cumulative present value (of future cash flows)\n",
    "\n",
    "The **cumulative present value** (PV) of future cash flows can be calculated by summing the contributions of future values $FV_t$, i.e., the value of cash flow at time $t$. \n",
    "\n",
    "Suppose that company A owes to company B a total of $25000\\$$ over three years divided in this way: $8000\\$$ in the first year, $11000\\$$ in the second year, and $6000\\$$ in third year. Suppose that company B applies a $5\\%$ annual interest rate. \n",
    "What is the present value of such **liability**?. \n",
    "\n",
    "We know that the present value of an amount of $FV_1 := 8000\\$$ in one year is given by $PV_1 = 8000 / (1+0.05)=7619.05\\$$. \n",
    "Analogously, the present value of an amount of $FV_2 := 11000\\$$ in two years is by $PV_2 = 11000 / (1+0.05)^2=9977.33\\$$. \n",
    "And finally, the present value of an amount of $FV_3 := 6000\\$$ in three years is by $PV_3 = 6000 / (1+0.05)^3=5183.03\\$$. \n",
    "\n",
    "Wrapping up, the present value of the entire liability is given by the sum of single present values of future cashflow, i.e., \n",
    "about $PV_1+PV_2+PV_3 = 22779.4\\$$.  \n",
    "\n",
    "In general, if we **denote the future cash flows as the future values**, we have that the present value of \n",
    "a **liability** $L$ is:\n",
    "$$\n",
    "PV(L) = \\sum_{i=1}^N \\frac{FV_{t_i}}{(1+R)^{t_i}} := \\sum_{i=1}^N B(t_i) L_{t_i}, \n",
    "$$\n",
    "and $L_{t_i}$ denotes the future cash flow at time $t_i$, i.e., the **liability at time $t_i$**, and \n",
    "$B(t_i) := 1 / (1+R)^{t_i}$ denotes the **discount rate**."
   ]
  },
  {
   "cell_type": "code",
   "execution_count": 8,
   "metadata": {},
   "outputs": [
    {
     "data": {
      "text/plain": [
       "0.7440939148967249"
      ]
     },
     "execution_count": 8,
     "metadata": {},
     "output_type": "execute_result"
    }
   ],
   "source": [
    "# Suppose we want to get the PV of 1 dollar paid in 10years with an annual rate of r = 3%\n",
    "PV = erk.discount(10, 0.03)\n",
    "PV"
   ]
  },
  {
   "cell_type": "code",
   "execution_count": 9,
   "metadata": {},
   "outputs": [
    {
     "data": {
      "text/plain": [
       "1.0"
      ]
     },
     "execution_count": 9,
     "metadata": {},
     "output_type": "execute_result"
    }
   ],
   "source": [
    "# that is, PV = 0.74 cents means that in 10 years will be FV = 1 (considering r = 3%). In fact:\n",
    "FV = PV * (1+0.03)**10\n",
    "FV"
   ]
  },
  {
   "cell_type": "code",
   "execution_count": 10,
   "metadata": {},
   "outputs": [],
   "source": [
    "def present_value(L, r):\n",
    "    '''\n",
    "    Computes the PV of a sequence of liabilities where L is the sequence of \n",
    "    liabilities \n",
    "    '''\n",
    "    dates = L.index\n",
    "    discounts = erk.discount(L.index, r) # this is the series of present values of future cashflows\n",
    "    return np.dot(discounts, L )         # = (discounts * L).sum()"
   ]
  },
  {
   "cell_type": "code",
   "execution_count": 11,
   "metadata": {},
   "outputs": [
    {
     "data": {
      "text/html": [
       "<div>\n",
       "<style scoped>\n",
       "    .dataframe tbody tr th:only-of-type {\n",
       "        vertical-align: middle;\n",
       "    }\n",
       "\n",
       "    .dataframe tbody tr th {\n",
       "        vertical-align: top;\n",
       "    }\n",
       "\n",
       "    .dataframe thead th {\n",
       "        text-align: right;\n",
       "    }\n",
       "</style>\n",
       "<table border=\"1\" class=\"dataframe\">\n",
       "  <thead>\n",
       "    <tr style=\"text-align: right;\">\n",
       "      <th></th>\n",
       "      <th>CFs</th>\n",
       "    </tr>\n",
       "    <tr>\n",
       "      <th>years</th>\n",
       "      <th></th>\n",
       "    </tr>\n",
       "  </thead>\n",
       "  <tbody>\n",
       "    <tr>\n",
       "      <th>1</th>\n",
       "      <td>8000</td>\n",
       "    </tr>\n",
       "    <tr>\n",
       "      <th>2</th>\n",
       "      <td>11000</td>\n",
       "    </tr>\n",
       "    <tr>\n",
       "      <th>3</th>\n",
       "      <td>6000</td>\n",
       "    </tr>\n",
       "  </tbody>\n",
       "</table>\n",
       "</div>"
      ],
      "text/plain": [
       "         CFs\n",
       "years       \n",
       "1       8000\n",
       "2      11000\n",
       "3       6000"
      ]
     },
     "execution_count": 11,
     "metadata": {},
     "output_type": "execute_result"
    }
   ],
   "source": [
    "L = pd.DataFrame([8000,11000,6000], index=[1,2,3], columns=[\"CFs\"])\n",
    "L.index.name = \"years\"\n",
    "L"
   ]
  },
  {
   "cell_type": "code",
   "execution_count": 12,
   "metadata": {},
   "outputs": [
    {
     "data": {
      "text/plain": [
       "CFs    25000\n",
       "dtype: int64"
      ]
     },
     "execution_count": 12,
     "metadata": {},
     "output_type": "execute_result"
    }
   ],
   "source": [
    "# the total value of the liability is:\n",
    "L.sum()"
   ]
  },
  {
   "cell_type": "code",
   "execution_count": 13,
   "metadata": {},
   "outputs": [
    {
     "data": {
      "text/plain": [
       "array([22779.39747328])"
      ]
     },
     "execution_count": 13,
     "metadata": {},
     "output_type": "execute_result"
    }
   ],
   "source": [
    "# whereas the present value is:\n",
    "PV = present_value(L, 0.05)\n",
    "PV"
   ]
  },
  {
   "cell_type": "markdown",
   "metadata": {},
   "source": [
    "that is, I owe $25000\\$$ in the future (in three years), that's the total value of the liability, but its present value \n",
    "is about $22779.4\\$$. \n",
    "\n",
    "This is means that if I had $22779.4\\$$ today, I have no problem in paying off my liability since I know what interest rates are. \n",
    "I would have a problem in case today I had less than $22779.4\\$$ because with the current interest rates I will not be able to pay $25000$ in three years."
   ]
  },
  {
   "cell_type": "markdown",
   "metadata": {},
   "source": [
    "### Funding ratio\n",
    "\n",
    "The funding ratio is therefore a simply ratio between the value of assets I currently hold and the present value of my liability.\n",
    "$$\n",
    "FR = \\frac{\\text{assets}}{{PV(L)}}.\n",
    "$$\n",
    "If the value of my current assets if bigger than $PV(L)$, then $FR >1$ and this means that I have enough funds to pay of my liability in the coming future. In the example above:"
   ]
  },
  {
   "cell_type": "code",
   "execution_count": 14,
   "metadata": {},
   "outputs": [],
   "source": [
    "def funding_ratio(asset_value, liabilities, r):\n",
    "    '''\n",
    "    Computes the funding ratio between the value of holding assets and the present \n",
    "    value of the liabilities given an interest rate r\n",
    "    '''\n",
    "    return asset_value / present_value(liabilities, r)"
   ]
  },
  {
   "cell_type": "code",
   "execution_count": 15,
   "metadata": {},
   "outputs": [
    {
     "data": {
      "text/plain": [
       "array([0.87798635])"
      ]
     },
     "execution_count": 15,
     "metadata": {},
     "output_type": "execute_result"
    }
   ],
   "source": [
    "asset = 20000 \n",
    "funding_ratio(asset, L, 0.05)"
   ]
  },
  {
   "cell_type": "markdown",
   "metadata": {},
   "source": [
    "that is, if I currently have $20000\\$$ I won't be able to payoff $25000\\$$ in three years. On the other hand:"
   ]
  },
  {
   "cell_type": "code",
   "execution_count": 16,
   "metadata": {},
   "outputs": [
    {
     "data": {
      "text/plain": [
       "array([1.03163396])"
      ]
     },
     "execution_count": 16,
     "metadata": {},
     "output_type": "execute_result"
    }
   ],
   "source": [
    "asset = 23500 \n",
    "funding_ratio(asset, L, 0.05)"
   ]
  },
  {
   "cell_type": "markdown",
   "metadata": {},
   "source": [
    "in this case we have enough funds to fullfil our liability since its present value is $22779.4\\$$ and the value of our current asset\n",
    "is $23500\\$$."
   ]
  },
  {
   "cell_type": "code",
   "execution_count": 17,
   "metadata": {},
   "outputs": [
    {
     "data": {
      "application/vnd.jupyter.widget-view+json": {
       "model_id": "c412484e9630417fb229ed6cdff53983",
       "version_major": 2,
       "version_minor": 0
      },
      "text/plain": [
       "interactive(children=(FloatSlider(value=21000.0, description='asset', max=27000.0, min=19000.0, step=250.0), F…"
      ]
     },
     "metadata": {},
     "output_type": "display_data"
    }
   ],
   "source": [
    "def show_funding_ratio(asset, r):\n",
    "    fr = funding_ratio(asset, L, r)\n",
    "    \n",
    "    print(\"Funding ratio: {:.3f}\".format(float(fr)))\n",
    "    \n",
    "    fig, ax = plt.subplots(1,2,figsize=(15,4))\n",
    "    ax[0].scatter(r, fr)\n",
    "    ax[0].set_xlabel(\"rates\")\n",
    "    ax[0].set_ylabel(\"funding ratio\")\n",
    "    ax[0].set_xlim([0.0, 0.06])\n",
    "    ax[0].set_ylim([0.70, 1.2])\n",
    "    ax[0].plot([r,r],[0,fr], color=\"b\", alpha=0.5)\n",
    "    ax[0].plot([0,r],[fr,fr], color=\"b\", alpha=0.5)\n",
    "    ax[0].grid()\n",
    "    \n",
    "    ax[1].scatter(asset, fr)\n",
    "    ax[1].set_xlabel(\"assets\")\n",
    "    ax[1].set_ylabel(\"funding ratio\")\n",
    "    ax[1].set_xlim([19000, 27000])\n",
    "    ax[1].set_ylim([0.70, 1.2])\n",
    "    ax[1].plot([asset,asset],[0,fr], color=\"b\", alpha=0.5)\n",
    "    ax[1].plot([0,asset],[fr,fr], color=\"b\", alpha=0.5)\n",
    "    ax[1].grid()\n",
    "    \n",
    "fr_controls = widgets.interact(show_funding_ratio, \n",
    "                               asset = widgets.FloatSlider(min=19000, max=27000, step=250, value=21000),\n",
    "                               r = (0.0, 0.06, 0.005)\n",
    "                              )"
   ]
  },
  {
   "cell_type": "code",
   "execution_count": null,
   "metadata": {},
   "outputs": [],
   "source": []
  },
  {
   "cell_type": "code",
   "execution_count": null,
   "metadata": {},
   "outputs": [],
   "source": []
  }
 ],
 "metadata": {
  "kernelspec": {
   "display_name": "Python 3",
   "language": "python",
   "name": "python3"
  },
  "language_info": {
   "codemirror_mode": {
    "name": "ipython",
    "version": 3
   },
   "file_extension": ".py",
   "mimetype": "text/x-python",
   "name": "python",
   "nbconvert_exporter": "python",
   "pygments_lexer": "ipython3",
   "version": "3.7.1"
  }
 },
 "nbformat": 4,
 "nbformat_minor": 2
}
