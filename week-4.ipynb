{
 "cells": [
  {
   "cell_type": "code",
   "execution_count": 1,
   "metadata": {},
   "outputs": [],
   "source": [
    "import pandas as pd\n",
    "import numpy as np\n",
    "import matplotlib.pyplot as plt\n",
    "import ipywidgets as widgets"
   ]
  },
  {
   "cell_type": "code",
   "execution_count": 126,
   "metadata": {},
   "outputs": [
    {
     "name": "stdout",
     "output_type": "stream",
     "text": [
      "The autoreload extension is already loaded. To reload it, use:\n",
      "  %reload_ext autoreload\n"
     ]
    }
   ],
   "source": [
    "%load_ext autoreload\n",
    "%autoreload 2\n",
    "%matplotlib inline"
   ]
  },
  {
   "cell_type": "code",
   "execution_count": 127,
   "metadata": {},
   "outputs": [],
   "source": [
    "import edhec_risk_kit as erk"
   ]
  },
  {
   "cell_type": "code",
   "execution_count": 128,
   "metadata": {},
   "outputs": [],
   "source": [
    "# using seaborn style (type plt.style.available to see available styles)\n",
    "plt.style.use(\"seaborn-dark\")"
   ]
  },
  {
   "cell_type": "markdown",
   "metadata": {},
   "source": [
    "## Time value of money - Present and future value\n",
    "\n",
    "We recall from week 1, that is, in general, for given a time frame $(t, t+k)$, with $k>1$, the **compound return** over the time frame is given by:\n",
    "$$\n",
    "R_{t,t+k} = (1+R_{t,t+1})(1+R_{t+1,t+2})\\cdots(1+R_{t+k-1,t+k}) - 1, \n",
    "$$\n",
    "and if single returns are all the same over time periods, say $R$, then the formula for compound returns simply becomes: \n",
    "$$\n",
    "R_{t,t+k} = (1+R)^{k} - 1.\n",
    "$$\n",
    "\n",
    "Therefore, if we suppose that $P_t$ was the price a t time $t$ and $P_{t+k}$ is the time when all returns have been compounded, we know that:\n",
    "$$\n",
    "P_{t+k} = P_t(1 + R_{t, t+k}) = \n",
    "\\begin{cases}\n",
    "& P_t \\; (1+R_{t,t+1})(1+R_{t+1,t+2})\\cdots(1+R_{t+k-1,t+k})\\;  & \\text{if returns are different}, \\\\\n",
    "& P_t \\; (1+R)^{k} \\;  & \\text{if all returns are equal to $R$}.\n",
    "\\end{cases}\n",
    "$$\n",
    "\n",
    "In general, we say that $P_{t+k}$ is the **future value (FV)** of the amount of money equal to $P_t$. Likewise, we say that \n",
    "$P_t$ is the **present value (PV)** of the amount of money $P_{t+k}$ due in the future (at time $t+k$).\n",
    "\n",
    "For example, $100\\$$ invested for one year and earning $5\\%$ interest will be worth $105\\$$ after one year. \n",
    "Therefore, **both $100\\$$ paid now and $105\\$$ paid exactly one year later have the same value to a recipient who expects $5\\%$ \n",
    "interest** (assuming that inflation would be zero): that is, $100\\$$ (PV) invested for one year at $5\\%$ \n",
    "interest has a future value (FV) of $105\\$$.\n",
    "\n",
    "Let us consider the case of equal returns $R$ over time. From the equation above we see that to obtain present value PV (i.e., \n",
    "the amount that we would have to invest today) we have to **discount** the future value FV (or payment amount) by the interest rate for the period. Hence:\n",
    "$$\n",
    "FV = PV(1 + R)^k\n",
    "\\qquad\\text{and}\\qquad\n",
    "PV = \\frac{FV}{(1 + R)^k}.\n",
    "$$\n",
    "\n",
    "The factor\n",
    "$$\n",
    "\\frac{1}{(1+R)^k}\n",
    "$$\n",
    "is called the **discount rate**.\n",
    "\n",
    "**EXAMPLE**: suppose we are giving an option to receive $1000\\$$ today and receiving the same amount of $1000\\$$ in three years. \n",
    "*What we would choose?*\n",
    "\n",
    "**We should get the money today, of course**. In fact, receiving $1000\\$$ today means that the present value is $PV=1000$, and this amount could be invested and become bigger in three years. Suppose we invest it for three year at annual rate of $3\\%$. \n",
    "The future value of $1000\\%$ today will be \n",
    "$$\n",
    "FV = 1000 (1 + 0.03)^3 = 1.092.7\\$. \n",
    "$$\n",
    "If we instead decide to get the money in three years, basically the amount $1000\\%$ is already our future value. That is, supposing the same interest rate, the present value of $1000\\$$ in three years is:\n",
    "$$\n",
    "PV = \\frac{1000}{(1+0.03)^3} = 915,14\\$, \n",
    "$$\n",
    "and this means that today, we would accept less money ($915,14\\$ < 1000\\$$).\n",
    "\n",
    "\n",
    "**EXAMPLE**: suppose we are giving an option to receive $1000\\$$ today or receiving $1100\\$$ in three years. \n",
    "*What we would choose now?*\n",
    "\n",
    "This is more difficult now, because we get $1000\\$$ we may end up with an amount of money which is less than $1152$ in three years. \n",
    "In fact, if we suppose that our hypotetical investment still guarantee an annual $3\\%$ interest rate, it means that the present value of \n",
    "$1150\\$$ after three years is:\n",
    "$$\n",
    "PV = \\frac{1150}{(1+0.03)^3} = 1052.41\\$.\n",
    "$$\n",
    "That is, taking $1150\\$$ in three years is equivalent get $1052.41\\$$ today, which is an amount larger than $1000\\$$. \n",
    "**We will then decide to get the money later**.\n",
    "\n",
    "### Cumulative present value (of future cash flows)\n",
    "\n",
    "The **cumulative present value** (PV) of future cash flows can be calculated by summing the contributions of future values $FV_t$, i.e., the value of cash flow at time $t$. \n",
    "\n",
    "Suppose that company A owes to company B a total of $25000\\$$ over three years divided in this way: $8000\\$$ in the first year, $11000\\$$ in the second year, and $6000\\$$ in third year. Suppose that company B applies a $5\\%$ annual interest rate. \n",
    "What is the present value of such **liability**?. \n",
    "\n",
    "We know that the present value of an amount of $FV_1 := 8000\\$$ in one year is given by $PV_1 = 8000 / (1+0.05)=7619.05\\$$. \n",
    "Analogously, the present value of an amount of $FV_2 := 11000\\$$ in two years is by $PV_2 = 11000 / (1+0.05)^2=9977.33\\$$. \n",
    "And finally, the present value of an amount of $FV_3 := 6000\\$$ in three years is by $PV_3 = 6000 / (1+0.05)^3=5183.03\\$$. \n",
    "\n",
    "Wrapping up, the present value of the entire liability is given by the sum of single present values of future cashflow, i.e., \n",
    "about $PV_1+PV_2+PV_3 = 22779.4\\$$.  \n",
    "\n",
    "In general, if we **denote the future cash flows as the future values**, we have that the present value of \n",
    "a **liability** $L$ is:\n",
    "$$\n",
    "PV(L) = \\sum_{i=1}^N \\frac{FV_{t_i}}{(1+R)^{t_i}} := \\sum_{i=1}^N B(t_i) L_{t_i}, \n",
    "$$\n",
    "and $L_{t_i}$ denotes the future cash flow at time $t_i$, i.e., the **liability at time $t_i$**, and \n",
    "$B(t_i) := 1 / (1+R)^{t_i}$ denotes the **discount rate**."
   ]
  },
  {
   "cell_type": "code",
   "execution_count": 5,
   "metadata": {},
   "outputs": [
    {
     "data": {
      "text/plain": [
       "0.7440939148967249"
      ]
     },
     "execution_count": 5,
     "metadata": {},
     "output_type": "execute_result"
    }
   ],
   "source": [
    "# Suppose we want to get the PV of 1 dollar paid in 10years with an annual rate of r = 3%\n",
    "PV = erk.discount(10, 0.03)\n",
    "PV"
   ]
  },
  {
   "cell_type": "code",
   "execution_count": 6,
   "metadata": {},
   "outputs": [
    {
     "data": {
      "text/plain": [
       "1.0"
      ]
     },
     "execution_count": 6,
     "metadata": {},
     "output_type": "execute_result"
    }
   ],
   "source": [
    "# that is, PV = 0.74 cents means that in 10 years will be FV = 1 (considering r = 3%). In fact:\n",
    "FV = PV * (1+0.03)**10\n",
    "FV"
   ]
  },
  {
   "cell_type": "code",
   "execution_count": 7,
   "metadata": {},
   "outputs": [],
   "source": [
    "def present_value(L, r):\n",
    "    '''\n",
    "    Computes the PV of a sequence of liabilities where L is the sequence of \n",
    "    liabilities \n",
    "    '''\n",
    "    dates = L.index\n",
    "    discounts = erk.discount(L.index, r) # this is the series of present values of future cashflows\n",
    "    return np.dot(discounts, L )         # = (discounts * L).sum()"
   ]
  },
  {
   "cell_type": "code",
   "execution_count": 8,
   "metadata": {},
   "outputs": [
    {
     "data": {
      "text/html": [
       "<div>\n",
       "<style scoped>\n",
       "    .dataframe tbody tr th:only-of-type {\n",
       "        vertical-align: middle;\n",
       "    }\n",
       "\n",
       "    .dataframe tbody tr th {\n",
       "        vertical-align: top;\n",
       "    }\n",
       "\n",
       "    .dataframe thead th {\n",
       "        text-align: right;\n",
       "    }\n",
       "</style>\n",
       "<table border=\"1\" class=\"dataframe\">\n",
       "  <thead>\n",
       "    <tr style=\"text-align: right;\">\n",
       "      <th></th>\n",
       "      <th>CFs</th>\n",
       "    </tr>\n",
       "    <tr>\n",
       "      <th>years</th>\n",
       "      <th></th>\n",
       "    </tr>\n",
       "  </thead>\n",
       "  <tbody>\n",
       "    <tr>\n",
       "      <th>1</th>\n",
       "      <td>8000</td>\n",
       "    </tr>\n",
       "    <tr>\n",
       "      <th>2</th>\n",
       "      <td>11000</td>\n",
       "    </tr>\n",
       "    <tr>\n",
       "      <th>3</th>\n",
       "      <td>6000</td>\n",
       "    </tr>\n",
       "  </tbody>\n",
       "</table>\n",
       "</div>"
      ],
      "text/plain": [
       "         CFs\n",
       "years       \n",
       "1       8000\n",
       "2      11000\n",
       "3       6000"
      ]
     },
     "execution_count": 8,
     "metadata": {},
     "output_type": "execute_result"
    }
   ],
   "source": [
    "L = pd.DataFrame([8000,11000,6000], index=[1,2,3], columns=[\"CFs\"])\n",
    "L.index.name = \"years\"\n",
    "L"
   ]
  },
  {
   "cell_type": "code",
   "execution_count": 9,
   "metadata": {},
   "outputs": [
    {
     "data": {
      "text/plain": [
       "CFs    25000\n",
       "dtype: int64"
      ]
     },
     "execution_count": 9,
     "metadata": {},
     "output_type": "execute_result"
    }
   ],
   "source": [
    "# the total value of the liability is:\n",
    "L.sum()"
   ]
  },
  {
   "cell_type": "code",
   "execution_count": 10,
   "metadata": {},
   "outputs": [
    {
     "data": {
      "text/plain": [
       "array([22779.39747328])"
      ]
     },
     "execution_count": 10,
     "metadata": {},
     "output_type": "execute_result"
    }
   ],
   "source": [
    "# whereas the present value is:\n",
    "PV = present_value(L, 0.05)\n",
    "PV"
   ]
  },
  {
   "cell_type": "markdown",
   "metadata": {},
   "source": [
    "that is, I owe $25000\\$$ in the future (in three years), that's the total value of the liability, but its present value \n",
    "is about $22779.4\\$$. \n",
    "\n",
    "This is means that if I had $22779.4\\$$ today, I have no problem in paying off my liability since I know what interest rates are. \n",
    "I would have a problem in case today I had less than $22779.4\\$$ because with the current interest rates I will not be able to pay $25000$ in three years."
   ]
  },
  {
   "cell_type": "markdown",
   "metadata": {},
   "source": [
    "### Funding ratio\n",
    "\n",
    "The funding ratio is therefore a simply ratio between the value of assets I currently hold and the present value of my liability.\n",
    "$$\n",
    "FR = \\frac{\\text{assets}}{{PV(L)}}.\n",
    "$$\n",
    "If the value of my current assets if bigger than $PV(L)$, then $FR >1$ and this means that I have enough funds to pay of my liability in the coming future. In the example above:"
   ]
  },
  {
   "cell_type": "code",
   "execution_count": 11,
   "metadata": {},
   "outputs": [],
   "source": [
    "def funding_ratio(asset_value, liabilities, r):\n",
    "    '''\n",
    "    Computes the funding ratio between the value of holding assets and the present \n",
    "    value of the liabilities given an interest rate r\n",
    "    '''\n",
    "    return asset_value / present_value(liabilities, r)"
   ]
  },
  {
   "cell_type": "code",
   "execution_count": 12,
   "metadata": {},
   "outputs": [
    {
     "data": {
      "text/plain": [
       "array([0.87798635])"
      ]
     },
     "execution_count": 12,
     "metadata": {},
     "output_type": "execute_result"
    }
   ],
   "source": [
    "asset = 20000 \n",
    "funding_ratio(asset, L, 0.05)"
   ]
  },
  {
   "cell_type": "markdown",
   "metadata": {},
   "source": [
    "that is, if I currently have $20000\\$$ I won't be able to payoff $25000\\$$ in three years. On the other hand:"
   ]
  },
  {
   "cell_type": "code",
   "execution_count": 13,
   "metadata": {},
   "outputs": [
    {
     "data": {
      "text/plain": [
       "array([1.03163396])"
      ]
     },
     "execution_count": 13,
     "metadata": {},
     "output_type": "execute_result"
    }
   ],
   "source": [
    "asset = 23500 \n",
    "funding_ratio(asset, L, 0.05)"
   ]
  },
  {
   "cell_type": "markdown",
   "metadata": {},
   "source": [
    "in this case we have enough funds to fullfil our liability since its present value is $22779.4\\$$ and the value of our current asset\n",
    "is $23500\\$$."
   ]
  },
  {
   "cell_type": "code",
   "execution_count": 14,
   "metadata": {},
   "outputs": [
    {
     "data": {
      "application/vnd.jupyter.widget-view+json": {
       "model_id": "56d11d9c7f504f419cec3686ce5d2004",
       "version_major": 2,
       "version_minor": 0
      },
      "text/plain": [
       "interactive(children=(FloatSlider(value=21000.0, description='asset', max=27000.0, min=19000.0, step=250.0), F…"
      ]
     },
     "metadata": {},
     "output_type": "display_data"
    }
   ],
   "source": [
    "def show_funding_ratio(asset, r):\n",
    "    fr = funding_ratio(asset, L, r)\n",
    "    \n",
    "    print(\"Funding ratio: {:.3f}\".format(float(fr)))\n",
    "    \n",
    "    fig, ax = plt.subplots(1,2,figsize=(15,4))\n",
    "    ax[0].scatter(r, fr)\n",
    "    ax[0].set_xlabel(\"rates\")\n",
    "    ax[0].set_ylabel(\"funding ratio\")\n",
    "    ax[0].set_xlim([0.0, 0.06])\n",
    "    ax[0].set_ylim([0.70, 1.2])\n",
    "    ax[0].plot([r,r],[0,fr], color=\"b\", alpha=0.5)\n",
    "    ax[0].plot([0,r],[fr,fr], color=\"b\", alpha=0.5)\n",
    "    ax[0].grid()\n",
    "    \n",
    "    ax[1].scatter(asset, fr)\n",
    "    ax[1].set_xlabel(\"assets\")\n",
    "    ax[1].set_ylabel(\"funding ratio\")\n",
    "    ax[1].set_xlim([19000, 27000])\n",
    "    ax[1].set_ylim([0.70, 1.2])\n",
    "    ax[1].plot([asset,asset],[0,fr], color=\"b\", alpha=0.5)\n",
    "    ax[1].plot([0,asset],[fr,fr], color=\"b\", alpha=0.5)\n",
    "    ax[1].grid()\n",
    "    \n",
    "fr_controls = widgets.interact(show_funding_ratio, \n",
    "                               asset = widgets.FloatSlider(min=19000, max=27000, step=250, value=21000),\n",
    "                               r = (0.0, 0.06, 0.005)\n",
    "                              )"
   ]
  },
  {
   "cell_type": "markdown",
   "metadata": {},
   "source": []
  },
  {
   "cell_type": "markdown",
   "metadata": {},
   "source": [
    "### Nominal rate and Effective annual interest rate\n",
    "\n",
    "Before introducing a stochastic equation modelling the change in interest rates, let us for a second come back to compound returns in order to look at them from another point of view which changes nomenclature. \n",
    "\n",
    "#### Short-rate v.s. Long-Rate (annualized)\n",
    "Recall that given a fixed return $R$, the compound return after a period of length $t+k$ (starting from $t$) is given by:\n",
    "$$\n",
    "R_{t,t+k} = (1+R)^{k} - 1.\n",
    "$$\n",
    "\n",
    "For example, suppose that we borrow some money, say $P := 1\\$$, during one year at annual interest rate of $r_{ann} := 10\\%$. \n",
    "Also, suppose that we have to pay back in one solution at the end of the year. This means that the return after one year is $10\\%$ and\n",
    "we have to pay back:\n",
    "$$\n",
    "1 + 0.1\\cdot 1 = 1.1\\$.\n",
    "$$\n",
    "Now, suppose that we still borrow $P$ at interest rate $r := 10\\%$ but with have to pay in two solutions, i.e., every $6$ months. \n",
    "Hence, we get the semi-annual rate $r/2 = 5\\%$ which gives a total compound return of \n",
    "$$\n",
    "\\left(1 + \\frac{r}{2}\\right)^2 -1 = 0.1025\\$,\n",
    "$$\n",
    "and then we have to pay back $1 + 0.1025\\cdot 1= 1.1025\\$$.\n",
    "If, in the same case, payments were due every month, we would have:\n",
    "$$\n",
    "\\left(1 + \\frac{r}{12}\\right)^{12}-1 = 0.1047\\$,\n",
    "$$\n",
    "and then we have to pay back $1 + 0.1047\\cdot 1= 1.1047\\$$.\n",
    "\n",
    "We can see that due to compounding, **the more payments due over the entire period the larger the total compound return, hence more money have to be paid back**. \n",
    "\n",
    "In general, given a **nominal interest rate** $r$ (also called **instantaneous interest rate**) and $N$ **number of periods**, i.e., the number of payments (of the investment, loan, and so on), \n",
    "the total return is given by:\n",
    "$$\n",
    "R = \\left(1 + \\frac{r}{N}\\right)^N - 1.\n",
    "$$\n",
    "Such $R$ is nothing but that the **annualized return** (as we used to call it so far) or the **effective annual interest rate**."
   ]
  },
  {
   "cell_type": "code",
   "execution_count": 114,
   "metadata": {},
   "outputs": [
    {
     "data": {
      "text/html": [
       "<div>\n",
       "<style scoped>\n",
       "    .dataframe tbody tr th:only-of-type {\n",
       "        vertical-align: middle;\n",
       "    }\n",
       "\n",
       "    .dataframe tbody tr th {\n",
       "        vertical-align: top;\n",
       "    }\n",
       "\n",
       "    .dataframe thead th {\n",
       "        text-align: right;\n",
       "    }\n",
       "</style>\n",
       "<table border=\"1\" class=\"dataframe\">\n",
       "  <thead>\n",
       "    <tr style=\"text-align: right;\">\n",
       "      <th></th>\n",
       "      <th>0</th>\n",
       "    </tr>\n",
       "  </thead>\n",
       "  <tbody>\n",
       "    <tr>\n",
       "      <th>0</th>\n",
       "      <td>0.008333</td>\n",
       "    </tr>\n",
       "    <tr>\n",
       "      <th>1</th>\n",
       "      <td>0.008333</td>\n",
       "    </tr>\n",
       "    <tr>\n",
       "      <th>2</th>\n",
       "      <td>0.008333</td>\n",
       "    </tr>\n",
       "  </tbody>\n",
       "</table>\n",
       "</div>"
      ],
      "text/plain": [
       "          0\n",
       "0  0.008333\n",
       "1  0.008333\n",
       "2  0.008333"
      ]
     },
     "execution_count": 114,
     "metadata": {},
     "output_type": "execute_result"
    }
   ],
   "source": [
    "# Consider a nominal interest rate of 10% and monthly payments\n",
    "nominal_rate = 0.1\n",
    "periods_per_year = 12\n",
    "\n",
    "# that is, every month, we have the following rates\n",
    "rets = pd.DataFrame( [nominal_rate/periods_per_year for i in range(10)] )\n",
    "rets.head(3)"
   ]
  },
  {
   "cell_type": "markdown",
   "metadata": {},
   "source": [
    "Due to compounding, we have:"
   ]
  },
  {
   "cell_type": "code",
   "execution_count": 115,
   "metadata": {},
   "outputs": [
    {
     "data": {
      "text/plain": [
       "0    0.104713\n",
       "dtype: float64"
      ]
     },
     "execution_count": 115,
     "metadata": {},
     "output_type": "execute_result"
    }
   ],
   "source": [
    "ann_ret = erk.annualize_rets(rets, periods_per_year)\n",
    "ann_ret"
   ]
  },
  {
   "cell_type": "code",
   "execution_count": 116,
   "metadata": {},
   "outputs": [
    {
     "data": {
      "text/plain": [
       "0.104713"
      ]
     },
     "execution_count": 116,
     "metadata": {},
     "output_type": "execute_result"
    }
   ],
   "source": [
    "R = (1 + nominal_rate / periods_per_year)**periods_per_year - 1\n",
    "np.round(R,6)"
   ]
  },
  {
   "cell_type": "markdown",
   "metadata": {},
   "source": [
    "Notice that we got, obviously, the same number (and that it does not depend on the number of returns in the dataframe...). \n",
    "\n",
    "By having the annualized return expressed in the form above, we realize that when $N$ becomes large we have:\n",
    "$$\n",
    "\\lim_{N\\to \\infty} \\left(1 + \\frac{r}{N} \\right)^N = e^{r}, \n",
    "$$\n",
    "and then \n",
    "$$\n",
    "1 + R \\approx e^r.\n",
    "$$\n",
    "Then we have:\n",
    "$$\n",
    "R \\approx e^r - 1\n",
    "\\quad\\text{and}\\quad \n",
    "r \\approx \\log{(1 + R)}.\n",
    "$$"
   ]
  },
  {
   "cell_type": "markdown",
   "metadata": {},
   "source": [
    "## CIR model: simulate changes in interest rates\n",
    "\n",
    "The **CIR model** (from **Cox, Ingersoll, Ross**) is used to simulate changes in interest rates (returns) and it is an extension of the **Vasicek** model to prevent negative interest rates. It is a type of **one factor model**, or **short-rate model**, \n",
    "as it describes interest rate movements as driven by only one source of market risk. \n",
    "The model can be used in the valuation of interest rate derivatives. \n",
    "\n",
    "The dynamic for interest rates is modelled in the following way:\n",
    "$$\n",
    "dr_t = a(b-r_t)dt + \\sigma\\sqrt{r_t}dW_t,\n",
    "$$\n",
    "where, $W_t$ is a Brownian motion (see Week 3) which models the random market risk factor, $b$ is a **(long-term) mean interest rate**, and the difference $b-r_t$ denotes how far away is the current interest rate from the (long-term) mean interest rates, ensuring mean reversion of the interest rate towards $b$.\n",
    "Finally, $a$ is the **mean-reversion speed**, or speed of adjustment to the mean, which models **how fast** do we revert to the (long-term) mean interest rate.\n",
    "\n",
    "Hence, movements of interest rates depend on long-term mean rates (by $b$) and how fast the dynamic changes and try to get close to the mean rate (by $a$) after deviations (by the noise given by $\\sigma\\sqrt{r_t}dW_t$). \n",
    "Note that the standard deviation factor $\\sigma\\sqrt{r_t}$ avoids the possibility of negative interest rates for all positive values of $a$ and $b$. Moreover, an interest rate equal to zero is also precluded if $2ab\\geq \\sigma^2$. \n",
    "\n",
    "More generally, when the rate $r_t$ is close to zero, the standard deviation $\\sigma\\sqrt{r_t}$ also becomes very small, which dampens the effect of the random shock on the rate. Consequently, in this case, the evolution of the rate becomes dominated by the drift factor \n",
    "which pushes the rate upwards (towards equilibrium)."
   ]
  },
  {
   "cell_type": "code",
   "execution_count": 246,
   "metadata": {},
   "outputs": [],
   "source": [
    "def simulate_cir(n_years=10, n_scenarios=10, a=0.5, b=0.03, sigma=0.05, periods_per_year=12, r0=None):\n",
    "    '''\n",
    "    Evolution of an initial stock price using Geometric Brownian Model:\n",
    "        (S_{t+dt} - S_t)/S_t = mu*dt + sigma*sqrt(dt)*xi,\n",
    "    where xi are normal random variable N(0,1). \n",
    "    The equation for percentage returns above is used to generate returns and they are compounded \n",
    "    in order to get the prices.    \n",
    "    Note that default periods_per_year=12 means that the method generates monthly prices (and returns):\n",
    "    change to 52 or 252 for weekly or daily prices and returns, respectively.\n",
    "    The method returns a dataframe of prices and the dataframe of returns.\n",
    "    '''\n",
    "    \n",
    "    if r0 is None:\n",
    "        r0 = b\n",
    "        \n",
    "    # Compute the price of a ZCB\n",
    "    def zcbprice(ttm,r,h):\n",
    "        A = ( ( 2*h*np.exp(0.5*(a+h)*ttm) ) / ( 2*h + (a+h)*(np.exp(h*ttm)-1) ) )**(2*a*b/(sigma**2))\n",
    "        B = ( 2*(np.exp(h*ttm)-1) ) / ( 2*h + (a+h)*(np.exp(h*ttm)-1) ) \n",
    "        return A * np.exp(-B * r)\n",
    "    \n",
    "    dt = 1 / periods_per_year\n",
    "    n_steps = int(n_years * periods_per_year) + 1\n",
    "    \n",
    "    # get the nominal (instantaneous) rate \n",
    "    r0 = erk.annual2nomimal_rate_gen(r0)\n",
    "    \n",
    "    # the schock is sqrt(dt)*xi_t, with xi_t being standard normal r.v.\n",
    "    shock = np.random.normal(loc=0, scale=(dt)**(0.5), size=(n_steps, n_scenarios))\n",
    "    \n",
    "    # Rates initialization\n",
    "    rates = np.zeros_like(shock)\n",
    "    rates[0] = r0 \n",
    "    \n",
    "    # Price initialization and parameters\n",
    "    zcb_prices = np.zeros_like(shock)\n",
    "    h = np.sqrt(a**2 + 2*sigma**2)\n",
    "    zcb_prices[0] = zcbprice(n_years,r0,h)\n",
    "\n",
    "\n",
    "    for step in range(1,n_steps):\n",
    "        # previous interest rate\n",
    "        r_t = rates[step-1]\n",
    "        \n",
    "        # Current (updated) interest rate: CIR equation\n",
    "        rates[step] = r_t + a*(b - r_t) + sigma*np.sqrt(r_t)*shock[step]\n",
    "        \n",
    "        # Current (updated) ZCB price\n",
    "        zcb_prices[step] = zcbprice(n_years - dt*step, r_t, h)       \n",
    " \n",
    "    rates = pd.DataFrame( erk.nominal2annual_rate_gen(rates) )\n",
    "    zcb_prices = pd.DataFrame( zcb_prices )\n",
    "    return rates, zcb_prices\n",
    "\n",
    "\n",
    "def show_cir(n_years=10, n_scenarios=10, a=0.05, b=0.05, sigma=0.04, periods_per_year=12, r0=None):\n",
    "    '''\n",
    "    '''\n",
    "    rates, zcb_price = simulate_cir(n_years=n_years, n_scenarios=n_scenarios, a=a, b=b, sigma=sigma, periods_per_year=periods_per_year, r0=r0)\n",
    "    \n",
    "    fig, ax = plt.subplots(1,2,figsize=(20,5))\n",
    "    rates.plot(ax=ax[0], grid=True, title=\"CIR model: interest rates\", color=\"indianred\", legend=False)\n",
    "    zcb_price.plot(ax=ax[1], grid=True, title=\"CIR model: ZCB price\", color=\"indianred\", legend=False)\n"
   ]
  },
  {
   "cell_type": "code",
   "execution_count": 247,
   "metadata": {},
   "outputs": [
    {
     "data": {
      "application/vnd.jupyter.widget-view+json": {
       "model_id": "addc32adb2634c9fba1719663af34efc",
       "version_major": 2,
       "version_minor": 0
      },
      "text/plain": [
       "interactive(children=(IntSlider(value=10, description='n_years', max=10, min=1), IntSlider(value=10, descripti…"
      ]
     },
     "metadata": {},
     "output_type": "display_data"
    }
   ],
   "source": [
    "cir_controls = widgets.interact(show_cir, \n",
    "                                n_years = (1, 10, 1), \n",
    "                                n_scenarios = (1, 200, 1), \n",
    "                                a = (0.005, 1, 0.005), \n",
    "                                b = (0.002, 0.15, 0.001), \n",
    "                                sigma = (0.001, 0.15, 0.001), \n",
    "                                periods_per_year = [12, 52, 252], \n",
    "                                r0 = (0.002, 0.30, 0.01)\n",
    "                               )"
   ]
  },
  {
   "cell_type": "markdown",
   "metadata": {},
   "source": [
    "### Using the CIR model for zero-coupon bond pricing\n",
    "\n",
    "Under the **no-arbitrage assumption**, a **zero-coupon bond** may be priced using the interest rate process modeled by the CIR model. \n",
    "The bond price $P(t,T)$ of a zero-coupon bond with maturity $T$ is exponential affine in the interest rate and is given by:\n",
    "$$\n",
    "P(t,T) = A(t,T)e^{-B(t,T)r_t}, \n",
    "$$\n",
    "where\n",
    "$$\n",
    "\\begin{align}\n",
    "A(t,T) &:= \\left( \\frac{ 2h e^{(a+h)\\tau/2}  }{ 2h+(a+h)(e^{h\\tau}-1) }   \\right)^{2ab/\\sigma^2}, \\\\\n",
    "B(t,T) &:= \\frac{ 2(e^{h\\tau} - 1)  }{ 2h+(a+h)(e^{h\\tau}-1) },  \\\\\n",
    "h &:= \\sqrt{a^2 + 2\\sigma^2}, \\\\\n",
    "\\tau &:= T - \\tau.\n",
    "\\end{align}\n",
    "$$\n",
    "I hope to come back to this sooner or later."
   ]
  },
  {
   "cell_type": "code",
   "execution_count": null,
   "metadata": {},
   "outputs": [],
   "source": []
  },
  {
   "cell_type": "code",
   "execution_count": null,
   "metadata": {},
   "outputs": [],
   "source": []
  },
  {
   "cell_type": "code",
   "execution_count": null,
   "metadata": {},
   "outputs": [],
   "source": []
  },
  {
   "cell_type": "code",
   "execution_count": null,
   "metadata": {},
   "outputs": [],
   "source": []
  },
  {
   "cell_type": "code",
   "execution_count": null,
   "metadata": {},
   "outputs": [],
   "source": []
  },
  {
   "cell_type": "code",
   "execution_count": null,
   "metadata": {},
   "outputs": [],
   "source": []
  },
  {
   "cell_type": "code",
   "execution_count": null,
   "metadata": {},
   "outputs": [],
   "source": []
  },
  {
   "cell_type": "code",
   "execution_count": null,
   "metadata": {},
   "outputs": [],
   "source": []
  },
  {
   "cell_type": "code",
   "execution_count": null,
   "metadata": {},
   "outputs": [],
   "source": []
  },
  {
   "cell_type": "code",
   "execution_count": 119,
   "metadata": {},
   "outputs": [],
   "source": [
    "r = 0.1\n",
    "periods_per_year = 12"
   ]
  },
  {
   "cell_type": "code",
   "execution_count": 120,
   "metadata": {},
   "outputs": [
    {
     "data": {
      "text/plain": [
       "0.10471306744129683"
      ]
     },
     "execution_count": 120,
     "metadata": {},
     "output_type": "execute_result"
    }
   ],
   "source": [
    "nominal2annual_rate(r, periods_per_year)"
   ]
  },
  {
   "cell_type": "code",
   "execution_count": 121,
   "metadata": {},
   "outputs": [
    {
     "data": {
      "text/plain": [
       "0.10517091807564771"
      ]
     },
     "execution_count": 121,
     "metadata": {},
     "output_type": "execute_result"
    }
   ],
   "source": [
    "nominal2annual_rate_gen(r)"
   ]
  },
  {
   "cell_type": "code",
   "execution_count": 123,
   "metadata": {},
   "outputs": [],
   "source": [
    "R = 0.10471306744129683\n",
    "periods_per_year = 12"
   ]
  },
  {
   "cell_type": "code",
   "execution_count": 124,
   "metadata": {},
   "outputs": [
    {
     "data": {
      "text/plain": [
       "0.09999999999999964"
      ]
     },
     "execution_count": 124,
     "metadata": {},
     "output_type": "execute_result"
    }
   ],
   "source": [
    "annual2nomimal_rate(R, periods_per_year)"
   ]
  },
  {
   "cell_type": "code",
   "execution_count": 125,
   "metadata": {},
   "outputs": [
    {
     "data": {
      "text/plain": [
       "0.09958563377634075"
      ]
     },
     "execution_count": 125,
     "metadata": {},
     "output_type": "execute_result"
    }
   ],
   "source": [
    "annual2nomimal_rate_gen(R)"
   ]
  },
  {
   "cell_type": "code",
   "execution_count": null,
   "metadata": {},
   "outputs": [],
   "source": []
  },
  {
   "cell_type": "code",
   "execution_count": null,
   "metadata": {},
   "outputs": [],
   "source": []
  },
  {
   "cell_type": "code",
   "execution_count": null,
   "metadata": {},
   "outputs": [],
   "source": []
  },
  {
   "cell_type": "code",
   "execution_count": null,
   "metadata": {},
   "outputs": [],
   "source": []
  },
  {
   "cell_type": "code",
   "execution_count": null,
   "metadata": {},
   "outputs": [],
   "source": []
  },
  {
   "cell_type": "code",
   "execution_count": null,
   "metadata": {},
   "outputs": [],
   "source": []
  },
  {
   "cell_type": "code",
   "execution_count": null,
   "metadata": {},
   "outputs": [],
   "source": []
  },
  {
   "cell_type": "code",
   "execution_count": null,
   "metadata": {},
   "outputs": [],
   "source": []
  },
  {
   "cell_type": "code",
   "execution_count": null,
   "metadata": {},
   "outputs": [],
   "source": []
  },
  {
   "cell_type": "code",
   "execution_count": null,
   "metadata": {},
   "outputs": [],
   "source": []
  },
  {
   "cell_type": "markdown",
   "metadata": {},
   "source": [
    "## Liability hedging "
   ]
  },
  {
   "cell_type": "code",
   "execution_count": null,
   "metadata": {},
   "outputs": [],
   "source": []
  }
 ],
 "metadata": {
  "kernelspec": {
   "display_name": "Python 3",
   "language": "python",
   "name": "python3"
  },
  "language_info": {
   "codemirror_mode": {
    "name": "ipython",
    "version": 3
   },
   "file_extension": ".py",
   "mimetype": "text/x-python",
   "name": "python",
   "nbconvert_exporter": "python",
   "pygments_lexer": "ipython3",
   "version": "3.7.1"
  }
 },
 "nbformat": 4,
 "nbformat_minor": 2
}
